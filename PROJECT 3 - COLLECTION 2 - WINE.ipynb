{
 "cells": [
  {
   "cell_type": "code",
   "execution_count": 1,
   "metadata": {},
   "outputs": [],
   "source": [
    "import requests\n",
    "import pandas as pd\n",
    "import time"
   ]
  },
  {
   "cell_type": "code",
   "execution_count": 2,
   "metadata": {},
   "outputs": [],
   "source": [
    "t1 = time.time()"
   ]
  },
  {
   "cell_type": "code",
   "execution_count": 3,
   "metadata": {},
   "outputs": [
    {
     "name": "stdout",
     "output_type": "stream",
     "text": [
      "1553642752.1855392\n"
     ]
    }
   ],
   "source": [
    "print((time.time()-t1/60))"
   ]
  },
  {
   "cell_type": "code",
   "execution_count": null,
   "metadata": {},
   "outputs": [],
   "source": []
  },
  {
   "cell_type": "code",
   "execution_count": 4,
   "metadata": {},
   "outputs": [],
   "source": [
    "base_url=\"https://www.reddit.com/r/wine.json\"\n",
    "headers={'User-agent':'boscobrandv1'}\n",
    "res=requests.get(base_url,headers=headers)"
   ]
  },
  {
   "cell_type": "code",
   "execution_count": 6,
   "metadata": {
    "scrolled": false
   },
   "outputs": [
    {
     "ename": "AttributeError",
     "evalue": "'Response' object has no attribute 'status'",
     "output_type": "error",
     "traceback": [
      "\u001b[1;31m---------------------------------------------------------------------------\u001b[0m",
      "\u001b[1;31mAttributeError\u001b[0m                            Traceback (most recent call last)",
      "\u001b[1;32m<ipython-input-6-427712815d6d>\u001b[0m in \u001b[0;36m<module>\u001b[1;34m\u001b[0m\n\u001b[1;32m----> 1\u001b[1;33m \u001b[0mres\u001b[0m\u001b[1;33m.\u001b[0m\u001b[0mstatus\u001b[0m\u001b[1;33m.\u001b[0m\u001b[0mcode\u001b[0m\u001b[1;33m\u001b[0m\u001b[1;33m\u001b[0m\u001b[0m\n\u001b[0m",
      "\u001b[1;31mAttributeError\u001b[0m: 'Response' object has no attribute 'status'"
     ]
    }
   ],
   "source": [
    "res.status.code"
   ]
  },
  {
   "cell_type": "code",
   "execution_count": 7,
   "metadata": {},
   "outputs": [],
   "source": [
    "the_json=res.json()"
   ]
  },
  {
   "cell_type": "code",
   "execution_count": 8,
   "metadata": {},
   "outputs": [
    {
     "data": {
      "text/plain": [
       "<function dict.keys>"
      ]
     },
     "execution_count": 8,
     "metadata": {},
     "output_type": "execute_result"
    }
   ],
   "source": [
    "the_json.keys"
   ]
  },
  {
   "cell_type": "code",
   "execution_count": 9,
   "metadata": {},
   "outputs": [
    {
     "data": {
      "text/plain": [
       "{'kind': 't3',\n",
       " 'data': {'approved_at_utc': None,\n",
       "  'subreddit': 'wine',\n",
       "  'selftext': 'People are going to go out of business if this happens. Lives will be ruined.\\n\\n**Click Here to Email Your U.S. House Representative:**\\n\\nhttps://account.votility.com/enterprise/NAWR/ec/698\\n\\n**Click Here to Email Your U.S. Senators:**\\n\\nhttps://account.votility.com/enterprise/NAWR/ec/697\\n\\n\\n**WRITE THE U.S. TRADE REPRESENTATIVE**\\n \\nBelow is wording for a letter that you can use to write to the U.S. Trade Representative at the website they have created to take input on proposed tariffs.\\n\\n1. Copy the letter below (or add personalization as you like).\\n\\n2. Then click on the link at the end of the letter.\\n\\n3. Then paste the wording into the box provided for writing commentary. Remember to put your name and address in the area reserved for them.\\n\\n\\nThe Honorable Robert Lighthizer\\nU.S. Trade Representative\\nExecutive Office of the President\\n600 17th Street, NW\\nWashington, DC 20006\\n\\n \\n\\nRe: Opposition to Tariffs on Imported Wine from the European Union\\n\\n \\n\\nDear Amb. Lighthizer:\\n\\n \\n\\nI am writing as a customer and consumer of imported and domestic wines that is concerned with the multiple rounds of tariffs that are being imposed and considered on wine from the European Union (“EU”). I strongly urge you not to punish me, or my fellow wine lovers, or hardworking wine retailers, for problems we didn’t cause. It’s unfair at face value. You should punish those responsible. Punishing Airbus and their suppliers and French digital services companies would be much more effective, as well as fair.\\n\\nBeginning on October 18, 2019, the U.S. Government imposed a 25-percent tariff on certain French wine as part of retaliatory tariffs against the European Union (“EU”) after the World Trade Organization authorized retaliation for the EU’s failure to comply with WTO rulings on subsidies provided to Airbus. All the while Airbus itself was only issued a 10% tariff. I understand that a 100-percent tariff is proposed on French sparkling wine (consisting mostly of champagne) and that this tariff is part of the Section 301 duties imposed on imports from France as a result of the country’s Digital Services Tax (“DST”). Finally, on December 10, 2019, USTR proposed imposing tariffs of up to 100 percent on all wines from the EU.\\n\\nBecause of these import tariffs, the prices will go up dramatically for wine. Margins on wine are extremely small, and the sale of wine is highly regulated, with virtually every state imposing a three-tier distribution system with markups occurring at each tier of distribution. Thus, a 25-percent tariff on wine imports will likely result in a 50-percent increase and a 100-percent tariff on wine imports will likely result in a 150-percent increase in prices for a consumer like me.\\n\\n \\n\\nThere is no substitute for imports of wine from the EU. Wines from the EU are different from domestic wines and wines from other countries as a matter of consumer taste. In addition, because it takes many years to plant new grape vineyards and allow the vineyards to produce mature fruit that can be harvested to make wine, it will take at least a decade before the U.S. domestic wine industry could ever be in a position to begin replacing wine imports from the EU.\\n\\n \\n\\nAs a wine consumer, I do not understand why individual consumers like me and small U.S. businesses should suffer because of a dispute involving Boeing and Airbus or France’s digital services tax. Retaliatory tariffs on these matters should target Airbus and their suppliers who benefitted from the subsidies, and French digital services companies.\\n\\n\\n**Click To Email the above letter to the U.S. Trade Representative:**\\n\\nhttps://www.regulations.gov/comment?D=USTR-2019-0003-2518',\n",
       "  'author_fullname': 't2_6o9va',\n",
       "  'saved': False,\n",
       "  'mod_reason_title': None,\n",
       "  'gilded': 0,\n",
       "  'clicked': False,\n",
       "  'title': 'US r/wine-rs. Add your voice in opposition to the proposed 100% tariff on European wine.',\n",
       "  'link_flair_richtext': [],\n",
       "  'subreddit_name_prefixed': 'r/wine',\n",
       "  'hidden': False,\n",
       "  'pwls': 6,\n",
       "  'link_flair_css_class': None,\n",
       "  'downs': 0,\n",
       "  'thumbnail_height': None,\n",
       "  'hide_score': False,\n",
       "  'name': 't3_egg1bz',\n",
       "  'quarantine': False,\n",
       "  'link_flair_text_color': 'dark',\n",
       "  'author_flair_background_color': '',\n",
       "  'subreddit_type': 'public',\n",
       "  'ups': 157,\n",
       "  'total_awards_received': 0,\n",
       "  'media_embed': {},\n",
       "  'thumbnail_width': None,\n",
       "  'author_flair_template_id': None,\n",
       "  'is_original_content': False,\n",
       "  'user_reports': [],\n",
       "  'secure_media': None,\n",
       "  'is_reddit_media_domain': False,\n",
       "  'is_meta': False,\n",
       "  'category': None,\n",
       "  'secure_media_embed': {},\n",
       "  'link_flair_text': None,\n",
       "  'can_mod_post': False,\n",
       "  'score': 157,\n",
       "  'approved_by': None,\n",
       "  'author_premium': True,\n",
       "  'thumbnail': 'self',\n",
       "  'edited': False,\n",
       "  'author_flair_css_class': '',\n",
       "  'author_flair_richtext': [],\n",
       "  'gildings': {},\n",
       "  'content_categories': None,\n",
       "  'is_self': True,\n",
       "  'mod_note': None,\n",
       "  'created': 1577505683.0,\n",
       "  'link_flair_type': 'text',\n",
       "  'wls': 6,\n",
       "  'removed_by_category': None,\n",
       "  'banned_by': None,\n",
       "  'author_flair_type': 'text',\n",
       "  'domain': 'self.wine',\n",
       "  'allow_live_comments': True,\n",
       "  'selftext_html': '&lt;!-- SC_OFF --&gt;&lt;div class=\"md\"&gt;&lt;p&gt;People are going to go out of business if this happens. Lives will be ruined.&lt;/p&gt;\\n\\n&lt;p&gt;&lt;strong&gt;Click Here to Email Your U.S. House Representative:&lt;/strong&gt;&lt;/p&gt;\\n\\n&lt;p&gt;&lt;a href=\"https://account.votility.com/enterprise/NAWR/ec/698\"&gt;https://account.votility.com/enterprise/NAWR/ec/698&lt;/a&gt;&lt;/p&gt;\\n\\n&lt;p&gt;&lt;strong&gt;Click Here to Email Your U.S. Senators:&lt;/strong&gt;&lt;/p&gt;\\n\\n&lt;p&gt;&lt;a href=\"https://account.votility.com/enterprise/NAWR/ec/697\"&gt;https://account.votility.com/enterprise/NAWR/ec/697&lt;/a&gt;&lt;/p&gt;\\n\\n&lt;p&gt;&lt;strong&gt;WRITE THE U.S. TRADE REPRESENTATIVE&lt;/strong&gt;&lt;/p&gt;\\n\\n&lt;p&gt;Below is wording for a letter that you can use to write to the U.S. Trade Representative at the website they have created to take input on proposed tariffs.&lt;/p&gt;\\n\\n&lt;ol&gt;\\n&lt;li&gt;&lt;p&gt;Copy the letter below (or add personalization as you like).&lt;/p&gt;&lt;/li&gt;\\n&lt;li&gt;&lt;p&gt;Then click on the link at the end of the letter.&lt;/p&gt;&lt;/li&gt;\\n&lt;li&gt;&lt;p&gt;Then paste the wording into the box provided for writing commentary. Remember to put your name and address in the area reserved for them.&lt;/p&gt;&lt;/li&gt;\\n&lt;/ol&gt;\\n\\n&lt;p&gt;The Honorable Robert Lighthizer\\nU.S. Trade Representative\\nExecutive Office of the President\\n600 17th Street, NW\\nWashington, DC 20006&lt;/p&gt;\\n\\n&lt;p&gt;Re: Opposition to Tariffs on Imported Wine from the European Union&lt;/p&gt;\\n\\n&lt;p&gt;Dear Amb. Lighthizer:&lt;/p&gt;\\n\\n&lt;p&gt;I am writing as a customer and consumer of imported and domestic wines that is concerned with the multiple rounds of tariffs that are being imposed and considered on wine from the European Union (“EU”). I strongly urge you not to punish me, or my fellow wine lovers, or hardworking wine retailers, for problems we didn’t cause. It’s unfair at face value. You should punish those responsible. Punishing Airbus and their suppliers and French digital services companies would be much more effective, as well as fair.&lt;/p&gt;\\n\\n&lt;p&gt;Beginning on October 18, 2019, the U.S. Government imposed a 25-percent tariff on certain French wine as part of retaliatory tariffs against the European Union (“EU”) after the World Trade Organization authorized retaliation for the EU’s failure to comply with WTO rulings on subsidies provided to Airbus. All the while Airbus itself was only issued a 10% tariff. I understand that a 100-percent tariff is proposed on French sparkling wine (consisting mostly of champagne) and that this tariff is part of the Section 301 duties imposed on imports from France as a result of the country’s Digital Services Tax (“DST”). Finally, on December 10, 2019, USTR proposed imposing tariffs of up to 100 percent on all wines from the EU.&lt;/p&gt;\\n\\n&lt;p&gt;Because of these import tariffs, the prices will go up dramatically for wine. Margins on wine are extremely small, and the sale of wine is highly regulated, with virtually every state imposing a three-tier distribution system with markups occurring at each tier of distribution. Thus, a 25-percent tariff on wine imports will likely result in a 50-percent increase and a 100-percent tariff on wine imports will likely result in a 150-percent increase in prices for a consumer like me.&lt;/p&gt;\\n\\n&lt;p&gt;There is no substitute for imports of wine from the EU. Wines from the EU are different from domestic wines and wines from other countries as a matter of consumer taste. In addition, because it takes many years to plant new grape vineyards and allow the vineyards to produce mature fruit that can be harvested to make wine, it will take at least a decade before the U.S. domestic wine industry could ever be in a position to begin replacing wine imports from the EU.&lt;/p&gt;\\n\\n&lt;p&gt;As a wine consumer, I do not understand why individual consumers like me and small U.S. businesses should suffer because of a dispute involving Boeing and Airbus or France’s digital services tax. Retaliatory tariffs on these matters should target Airbus and their suppliers who benefitted from the subsidies, and French digital services companies.&lt;/p&gt;\\n\\n&lt;p&gt;&lt;strong&gt;Click To Email the above letter to the U.S. Trade Representative:&lt;/strong&gt;&lt;/p&gt;\\n\\n&lt;p&gt;&lt;a href=\"https://www.regulations.gov/comment?D=USTR-2019-0003-2518\"&gt;https://www.regulations.gov/comment?D=USTR-2019-0003-2518&lt;/a&gt;&lt;/p&gt;\\n&lt;/div&gt;&lt;!-- SC_ON --&gt;',\n",
       "  'likes': None,\n",
       "  'suggested_sort': None,\n",
       "  'banned_at_utc': None,\n",
       "  'view_count': None,\n",
       "  'archived': False,\n",
       "  'no_follow': False,\n",
       "  'is_crosspostable': False,\n",
       "  'pinned': False,\n",
       "  'over_18': False,\n",
       "  'all_awardings': [],\n",
       "  'awarders': [],\n",
       "  'media_only': False,\n",
       "  'can_gild': False,\n",
       "  'spoiler': False,\n",
       "  'locked': False,\n",
       "  'author_flair_text': 'Wine Pro',\n",
       "  'visited': False,\n",
       "  'removed_by': None,\n",
       "  'num_reports': None,\n",
       "  'distinguished': 'moderator',\n",
       "  'subreddit_id': 't5_2qhs8',\n",
       "  'mod_reason_by': None,\n",
       "  'removal_reason': None,\n",
       "  'link_flair_background_color': '',\n",
       "  'id': 'egg1bz',\n",
       "  'is_robot_indexable': True,\n",
       "  'report_reasons': None,\n",
       "  'author': 'ChampagneFloozy',\n",
       "  'discussion_type': None,\n",
       "  'num_comments': 87,\n",
       "  'send_replies': True,\n",
       "  'whitelist_status': 'all_ads',\n",
       "  'contest_mode': False,\n",
       "  'mod_reports': [],\n",
       "  'author_patreon_flair': False,\n",
       "  'author_flair_text_color': 'dark',\n",
       "  'permalink': '/r/wine/comments/egg1bz/us_rwiners_add_your_voice_in_opposition_to_the/',\n",
       "  'parent_whitelist_status': 'all_ads',\n",
       "  'stickied': True,\n",
       "  'url': 'https://www.reddit.com/r/wine/comments/egg1bz/us_rwiners_add_your_voice_in_opposition_to_the/',\n",
       "  'subreddit_subscribers': 105713,\n",
       "  'created_utc': 1577476883.0,\n",
       "  'num_crossposts': 0,\n",
       "  'media': None,\n",
       "  'is_video': False}}"
      ]
     },
     "execution_count": 9,
     "metadata": {},
     "output_type": "execute_result"
    }
   ],
   "source": [
    "the_json['data']['children'][0]"
   ]
  },
  {
   "cell_type": "code",
   "execution_count": 10,
   "metadata": {},
   "outputs": [
    {
     "data": {
      "text/plain": [
       "'t3_etab81'"
      ]
     },
     "execution_count": 10,
     "metadata": {},
     "output_type": "execute_result"
    }
   ],
   "source": [
    "#this will tell you this is the last post reddit got on this subject \n",
    "the_json['data']['after']"
   ]
  },
  {
   "cell_type": "code",
   "execution_count": 11,
   "metadata": {},
   "outputs": [],
   "source": [
    "base_url=\"https://www.reddit.com/r/wine.json\"\n",
    "headers={'User-agent':'boscobrandv1'}\n",
    "params={'after':'t3_etab81'}\n",
    "res=requests.get(base_url,headers=headers)"
   ]
  },
  {
   "cell_type": "code",
   "execution_count": 12,
   "metadata": {},
   "outputs": [
    {
     "name": "stdout",
     "output_type": "stream",
     "text": [
      "file saved\n",
      "file saved\n",
      "file saved\n",
      "file saved\n"
     ]
    }
   ],
   "source": [
    "post=[]\n",
    "after=None\n",
    "for i in range (25):\n",
    "    if after ==None:\n",
    "        params={}\n",
    "    else: params={'after':after}\n",
    "    res=requests.get(base_url,headers=headers, params=params)\n",
    "    if res.status_code==200:\n",
    "        the_json=res.json()\n",
    "        post.extend(the_json['data']['children'])\n",
    "        after=the_json['data']['after']\n",
    "    else:\n",
    "        print(res.status_code)\n",
    "        break\n",
    "    time.sleep(1)\n",
    "    if i>0 and i%5==0:\n",
    "        pd.DataFrame(post).to_csv('test_output_wine.csv')\n",
    "        print('file saved')"
   ]
  },
  {
   "cell_type": "code",
   "execution_count": 13,
   "metadata": {},
   "outputs": [],
   "source": [
    "wine_output = pd.read_csv('./test_output_wine.csv')"
   ]
  },
  {
   "cell_type": "code",
   "execution_count": 14,
   "metadata": {},
   "outputs": [
    {
     "data": {
      "text/html": [
       "<div>\n",
       "<style scoped>\n",
       "    .dataframe tbody tr th:only-of-type {\n",
       "        vertical-align: middle;\n",
       "    }\n",
       "\n",
       "    .dataframe tbody tr th {\n",
       "        vertical-align: top;\n",
       "    }\n",
       "\n",
       "    .dataframe thead th {\n",
       "        text-align: right;\n",
       "    }\n",
       "</style>\n",
       "<table border=\"1\" class=\"dataframe\">\n",
       "  <thead>\n",
       "    <tr style=\"text-align: right;\">\n",
       "      <th></th>\n",
       "      <th>Unnamed: 0</th>\n",
       "      <th>kind</th>\n",
       "      <th>data</th>\n",
       "    </tr>\n",
       "  </thead>\n",
       "  <tbody>\n",
       "    <tr>\n",
       "      <td>0</td>\n",
       "      <td>0</td>\n",
       "      <td>t3</td>\n",
       "      <td>{'approved_at_utc': None, 'subreddit': 'wine',...</td>\n",
       "    </tr>\n",
       "    <tr>\n",
       "      <td>1</td>\n",
       "      <td>1</td>\n",
       "      <td>t3</td>\n",
       "      <td>{'approved_at_utc': None, 'subreddit': 'wine',...</td>\n",
       "    </tr>\n",
       "    <tr>\n",
       "      <td>2</td>\n",
       "      <td>2</td>\n",
       "      <td>t3</td>\n",
       "      <td>{'approved_at_utc': None, 'subreddit': 'wine',...</td>\n",
       "    </tr>\n",
       "    <tr>\n",
       "      <td>3</td>\n",
       "      <td>3</td>\n",
       "      <td>t3</td>\n",
       "      <td>{'approved_at_utc': None, 'subreddit': 'wine',...</td>\n",
       "    </tr>\n",
       "    <tr>\n",
       "      <td>4</td>\n",
       "      <td>4</td>\n",
       "      <td>t3</td>\n",
       "      <td>{'approved_at_utc': None, 'subreddit': 'wine',...</td>\n",
       "    </tr>\n",
       "  </tbody>\n",
       "</table>\n",
       "</div>"
      ],
      "text/plain": [
       "   Unnamed: 0 kind                                               data\n",
       "0           0   t3  {'approved_at_utc': None, 'subreddit': 'wine',...\n",
       "1           1   t3  {'approved_at_utc': None, 'subreddit': 'wine',...\n",
       "2           2   t3  {'approved_at_utc': None, 'subreddit': 'wine',...\n",
       "3           3   t3  {'approved_at_utc': None, 'subreddit': 'wine',...\n",
       "4           4   t3  {'approved_at_utc': None, 'subreddit': 'wine',..."
      ]
     },
     "execution_count": 14,
     "metadata": {},
     "output_type": "execute_result"
    }
   ],
   "source": [
    "wine_output.head()"
   ]
  },
  {
   "cell_type": "code",
   "execution_count": 15,
   "metadata": {},
   "outputs": [
    {
     "data": {
      "text/plain": [
       "(527, 3)"
      ]
     },
     "execution_count": 15,
     "metadata": {},
     "output_type": "execute_result"
    }
   ],
   "source": [
    "wine_output.shape"
   ]
  },
  {
   "cell_type": "code",
   "execution_count": 16,
   "metadata": {},
   "outputs": [
    {
     "data": {
      "text/html": [
       "<div>\n",
       "<style scoped>\n",
       "    .dataframe tbody tr th:only-of-type {\n",
       "        vertical-align: middle;\n",
       "    }\n",
       "\n",
       "    .dataframe tbody tr th {\n",
       "        vertical-align: top;\n",
       "    }\n",
       "\n",
       "    .dataframe thead th {\n",
       "        text-align: right;\n",
       "    }\n",
       "</style>\n",
       "<table border=\"1\" class=\"dataframe\">\n",
       "  <thead>\n",
       "    <tr style=\"text-align: right;\">\n",
       "      <th></th>\n",
       "      <th>Unnamed: 0</th>\n",
       "      <th>kind</th>\n",
       "      <th>data</th>\n",
       "    </tr>\n",
       "  </thead>\n",
       "  <tbody>\n",
       "    <tr>\n",
       "      <td>0</td>\n",
       "      <td>0</td>\n",
       "      <td>t3</td>\n",
       "      <td>{'approved_at_utc': None, 'subreddit': 'wine',...</td>\n",
       "    </tr>\n",
       "    <tr>\n",
       "      <td>1</td>\n",
       "      <td>1</td>\n",
       "      <td>t3</td>\n",
       "      <td>{'approved_at_utc': None, 'subreddit': 'wine',...</td>\n",
       "    </tr>\n",
       "    <tr>\n",
       "      <td>2</td>\n",
       "      <td>2</td>\n",
       "      <td>t3</td>\n",
       "      <td>{'approved_at_utc': None, 'subreddit': 'wine',...</td>\n",
       "    </tr>\n",
       "    <tr>\n",
       "      <td>3</td>\n",
       "      <td>3</td>\n",
       "      <td>t3</td>\n",
       "      <td>{'approved_at_utc': None, 'subreddit': 'wine',...</td>\n",
       "    </tr>\n",
       "    <tr>\n",
       "      <td>4</td>\n",
       "      <td>4</td>\n",
       "      <td>t3</td>\n",
       "      <td>{'approved_at_utc': None, 'subreddit': 'wine',...</td>\n",
       "    </tr>\n",
       "    <tr>\n",
       "      <td>...</td>\n",
       "      <td>...</td>\n",
       "      <td>...</td>\n",
       "      <td>...</td>\n",
       "    </tr>\n",
       "    <tr>\n",
       "      <td>522</td>\n",
       "      <td>522</td>\n",
       "      <td>t3</td>\n",
       "      <td>{'approved_at_utc': None, 'subreddit': 'wine',...</td>\n",
       "    </tr>\n",
       "    <tr>\n",
       "      <td>523</td>\n",
       "      <td>523</td>\n",
       "      <td>t3</td>\n",
       "      <td>{'approved_at_utc': None, 'subreddit': 'wine',...</td>\n",
       "    </tr>\n",
       "    <tr>\n",
       "      <td>524</td>\n",
       "      <td>524</td>\n",
       "      <td>t3</td>\n",
       "      <td>{'approved_at_utc': None, 'subreddit': 'wine',...</td>\n",
       "    </tr>\n",
       "    <tr>\n",
       "      <td>525</td>\n",
       "      <td>525</td>\n",
       "      <td>t3</td>\n",
       "      <td>{'approved_at_utc': None, 'subreddit': 'wine',...</td>\n",
       "    </tr>\n",
       "    <tr>\n",
       "      <td>526</td>\n",
       "      <td>526</td>\n",
       "      <td>t3</td>\n",
       "      <td>{'approved_at_utc': None, 'subreddit': 'wine',...</td>\n",
       "    </tr>\n",
       "  </tbody>\n",
       "</table>\n",
       "<p>527 rows × 3 columns</p>\n",
       "</div>"
      ],
      "text/plain": [
       "     Unnamed: 0 kind                                               data\n",
       "0             0   t3  {'approved_at_utc': None, 'subreddit': 'wine',...\n",
       "1             1   t3  {'approved_at_utc': None, 'subreddit': 'wine',...\n",
       "2             2   t3  {'approved_at_utc': None, 'subreddit': 'wine',...\n",
       "3             3   t3  {'approved_at_utc': None, 'subreddit': 'wine',...\n",
       "4             4   t3  {'approved_at_utc': None, 'subreddit': 'wine',...\n",
       "..          ...  ...                                                ...\n",
       "522         522   t3  {'approved_at_utc': None, 'subreddit': 'wine',...\n",
       "523         523   t3  {'approved_at_utc': None, 'subreddit': 'wine',...\n",
       "524         524   t3  {'approved_at_utc': None, 'subreddit': 'wine',...\n",
       "525         525   t3  {'approved_at_utc': None, 'subreddit': 'wine',...\n",
       "526         526   t3  {'approved_at_utc': None, 'subreddit': 'wine',...\n",
       "\n",
       "[527 rows x 3 columns]"
      ]
     },
     "execution_count": 16,
     "metadata": {},
     "output_type": "execute_result"
    }
   ],
   "source": [
    "wine_output"
   ]
  },
  {
   "cell_type": "code",
   "execution_count": 17,
   "metadata": {},
   "outputs": [
    {
     "data": {
      "text/plain": [
       "'{\\'approved_at_utc\\': None, \\'subreddit\\': \\'wine\\', \\'selftext\\': \\'People are going to go out of business if this happens. Lives will be ruined.\\\\n\\\\n**Click Here to Email Your U.S. House Representative:**\\\\n\\\\nhttps://account.votility.com/enterprise/NAWR/ec/698\\\\n\\\\n**Click Here to Email Your U.S. Senators:**\\\\n\\\\nhttps://account.votility.com/enterprise/NAWR/ec/697\\\\n\\\\n\\\\n**WRITE THE U.S. TRADE REPRESENTATIVE**\\\\n \\\\nBelow is wording for a letter that you can use to write to the U.S. Trade Representative at the website they have created to take input on proposed tariffs.\\\\n\\\\n1. Copy the letter below (or add personalization as you like).\\\\n\\\\n2. Then click on the link at the end of the letter.\\\\n\\\\n3. Then paste the wording into the box provided for writing commentary. Remember to put your name and address in the area reserved for them.\\\\n\\\\n\\\\nThe Honorable Robert Lighthizer\\\\nU.S. Trade Representative\\\\nExecutive Office of the President\\\\n600 17th Street, NW\\\\nWashington, DC 20006\\\\n\\\\n \\\\n\\\\nRe: Opposition to Tariffs on Imported Wine from the European Union\\\\n\\\\n \\\\n\\\\nDear Amb. Lighthizer:\\\\n\\\\n \\\\n\\\\nI am writing as a customer and consumer of imported and domestic wines that is concerned with the multiple rounds of tariffs that are being imposed and considered on wine from the European Union (“EU”). I strongly urge you not to punish me, or my fellow wine lovers, or hardworking wine retailers, for problems we didn’t cause. It’s unfair at face value. You should punish those responsible. Punishing Airbus and their suppliers and French digital services companies would be much more effective, as well as fair.\\\\n\\\\nBeginning on October 18, 2019, the U.S. Government imposed a 25-percent tariff on certain French wine as part of retaliatory tariffs against the European Union (“EU”) after the World Trade Organization authorized retaliation for the EU’s failure to comply with WTO rulings on subsidies provided to Airbus. All the while Airbus itself was only issued a 10% tariff. I understand that a 100-percent tariff is proposed on French sparkling wine (consisting mostly of champagne) and that this tariff is part of the Section 301 duties imposed on imports from France as a result of the country’s Digital Services Tax (“DST”). Finally, on December 10, 2019, USTR proposed imposing tariffs of up to 100 percent on all wines from the EU.\\\\n\\\\nBecause of these import tariffs, the prices will go up dramatically for wine. Margins on wine are extremely small, and the sale of wine is highly regulated, with virtually every state imposing a three-tier distribution system with markups occurring at each tier of distribution. Thus, a 25-percent tariff on wine imports will likely result in a 50-percent increase and a 100-percent tariff on wine imports will likely result in a 150-percent increase in prices for a consumer like me.\\\\n\\\\n \\\\n\\\\nThere is no substitute for imports of wine from the EU. Wines from the EU are different from domestic wines and wines from other countries as a matter of consumer taste. In addition, because it takes many years to plant new grape vineyards and allow the vineyards to produce mature fruit that can be harvested to make wine, it will take at least a decade before the U.S. domestic wine industry could ever be in a position to begin replacing wine imports from the EU.\\\\n\\\\n \\\\n\\\\nAs a wine consumer, I do not understand why individual consumers like me and small U.S. businesses should suffer because of a dispute involving Boeing and Airbus or France’s digital services tax. Retaliatory tariffs on these matters should target Airbus and their suppliers who benefitted from the subsidies, and French digital services companies.\\\\n\\\\n\\\\n**Click To Email the above letter to the U.S. Trade Representative:**\\\\n\\\\nhttps://www.regulations.gov/comment?D=USTR-2019-0003-2518\\', \\'author_fullname\\': \\'t2_6o9va\\', \\'saved\\': False, \\'mod_reason_title\\': None, \\'gilded\\': 0, \\'clicked\\': False, \\'title\\': \\'US r/wine-rs. Add your voice in opposition to the proposed 100% tariff on European wine.\\', \\'link_flair_richtext\\': [], \\'subreddit_name_prefixed\\': \\'r/wine\\', \\'hidden\\': False, \\'pwls\\': 6, \\'link_flair_css_class\\': None, \\'downs\\': 0, \\'thumbnail_height\\': None, \\'hide_score\\': False, \\'name\\': \\'t3_egg1bz\\', \\'quarantine\\': False, \\'link_flair_text_color\\': \\'dark\\', \\'author_flair_background_color\\': \\'\\', \\'subreddit_type\\': \\'public\\', \\'ups\\': 157, \\'total_awards_received\\': 0, \\'media_embed\\': {}, \\'thumbnail_width\\': None, \\'author_flair_template_id\\': None, \\'is_original_content\\': False, \\'user_reports\\': [], \\'secure_media\\': None, \\'is_reddit_media_domain\\': False, \\'is_meta\\': False, \\'category\\': None, \\'secure_media_embed\\': {}, \\'link_flair_text\\': None, \\'can_mod_post\\': False, \\'score\\': 157, \\'approved_by\\': None, \\'author_premium\\': True, \\'thumbnail\\': \\'self\\', \\'edited\\': False, \\'author_flair_css_class\\': \\'\\', \\'author_flair_richtext\\': [], \\'gildings\\': {}, \\'content_categories\\': None, \\'is_self\\': True, \\'mod_note\\': None, \\'created\\': 1577505683.0, \\'link_flair_type\\': \\'text\\', \\'wls\\': 6, \\'removed_by_category\\': None, \\'banned_by\\': None, \\'author_flair_type\\': \\'text\\', \\'domain\\': \\'self.wine\\', \\'allow_live_comments\\': True, \\'selftext_html\\': \\'&lt;!-- SC_OFF --&gt;&lt;div class=\"md\"&gt;&lt;p&gt;People are going to go out of business if this happens. Lives will be ruined.&lt;/p&gt;\\\\n\\\\n&lt;p&gt;&lt;strong&gt;Click Here to Email Your U.S. House Representative:&lt;/strong&gt;&lt;/p&gt;\\\\n\\\\n&lt;p&gt;&lt;a href=\"https://account.votility.com/enterprise/NAWR/ec/698\"&gt;https://account.votility.com/enterprise/NAWR/ec/698&lt;/a&gt;&lt;/p&gt;\\\\n\\\\n&lt;p&gt;&lt;strong&gt;Click Here to Email Your U.S. Senators:&lt;/strong&gt;&lt;/p&gt;\\\\n\\\\n&lt;p&gt;&lt;a href=\"https://account.votility.com/enterprise/NAWR/ec/697\"&gt;https://account.votility.com/enterprise/NAWR/ec/697&lt;/a&gt;&lt;/p&gt;\\\\n\\\\n&lt;p&gt;&lt;strong&gt;WRITE THE U.S. TRADE REPRESENTATIVE&lt;/strong&gt;&lt;/p&gt;\\\\n\\\\n&lt;p&gt;Below is wording for a letter that you can use to write to the U.S. Trade Representative at the website they have created to take input on proposed tariffs.&lt;/p&gt;\\\\n\\\\n&lt;ol&gt;\\\\n&lt;li&gt;&lt;p&gt;Copy the letter below (or add personalization as you like).&lt;/p&gt;&lt;/li&gt;\\\\n&lt;li&gt;&lt;p&gt;Then click on the link at the end of the letter.&lt;/p&gt;&lt;/li&gt;\\\\n&lt;li&gt;&lt;p&gt;Then paste the wording into the box provided for writing commentary. Remember to put your name and address in the area reserved for them.&lt;/p&gt;&lt;/li&gt;\\\\n&lt;/ol&gt;\\\\n\\\\n&lt;p&gt;The Honorable Robert Lighthizer\\\\nU.S. Trade Representative\\\\nExecutive Office of the President\\\\n600 17th Street, NW\\\\nWashington, DC 20006&lt;/p&gt;\\\\n\\\\n&lt;p&gt;Re: Opposition to Tariffs on Imported Wine from the European Union&lt;/p&gt;\\\\n\\\\n&lt;p&gt;Dear Amb. Lighthizer:&lt;/p&gt;\\\\n\\\\n&lt;p&gt;I am writing as a customer and consumer of imported and domestic wines that is concerned with the multiple rounds of tariffs that are being imposed and considered on wine from the European Union (“EU”). I strongly urge you not to punish me, or my fellow wine lovers, or hardworking wine retailers, for problems we didn’t cause. It’s unfair at face value. You should punish those responsible. Punishing Airbus and their suppliers and French digital services companies would be much more effective, as well as fair.&lt;/p&gt;\\\\n\\\\n&lt;p&gt;Beginning on October 18, 2019, the U.S. Government imposed a 25-percent tariff on certain French wine as part of retaliatory tariffs against the European Union (“EU”) after the World Trade Organization authorized retaliation for the EU’s failure to comply with WTO rulings on subsidies provided to Airbus. All the while Airbus itself was only issued a 10% tariff. I understand that a 100-percent tariff is proposed on French sparkling wine (consisting mostly of champagne) and that this tariff is part of the Section 301 duties imposed on imports from France as a result of the country’s Digital Services Tax (“DST”). Finally, on December 10, 2019, USTR proposed imposing tariffs of up to 100 percent on all wines from the EU.&lt;/p&gt;\\\\n\\\\n&lt;p&gt;Because of these import tariffs, the prices will go up dramatically for wine. Margins on wine are extremely small, and the sale of wine is highly regulated, with virtually every state imposing a three-tier distribution system with markups occurring at each tier of distribution. Thus, a 25-percent tariff on wine imports will likely result in a 50-percent increase and a 100-percent tariff on wine imports will likely result in a 150-percent increase in prices for a consumer like me.&lt;/p&gt;\\\\n\\\\n&lt;p&gt;There is no substitute for imports of wine from the EU. Wines from the EU are different from domestic wines and wines from other countries as a matter of consumer taste. In addition, because it takes many years to plant new grape vineyards and allow the vineyards to produce mature fruit that can be harvested to make wine, it will take at least a decade before the U.S. domestic wine industry could ever be in a position to begin replacing wine imports from the EU.&lt;/p&gt;\\\\n\\\\n&lt;p&gt;As a wine consumer, I do not understand why individual consumers like me and small U.S. businesses should suffer because of a dispute involving Boeing and Airbus or France’s digital services tax. Retaliatory tariffs on these matters should target Airbus and their suppliers who benefitted from the subsidies, and French digital services companies.&lt;/p&gt;\\\\n\\\\n&lt;p&gt;&lt;strong&gt;Click To Email the above letter to the U.S. Trade Representative:&lt;/strong&gt;&lt;/p&gt;\\\\n\\\\n&lt;p&gt;&lt;a href=\"https://www.regulations.gov/comment?D=USTR-2019-0003-2518\"&gt;https://www.regulations.gov/comment?D=USTR-2019-0003-2518&lt;/a&gt;&lt;/p&gt;\\\\n&lt;/div&gt;&lt;!-- SC_ON --&gt;\\', \\'likes\\': None, \\'suggested_sort\\': None, \\'banned_at_utc\\': None, \\'view_count\\': None, \\'archived\\': False, \\'no_follow\\': False, \\'is_crosspostable\\': False, \\'pinned\\': False, \\'over_18\\': False, \\'all_awardings\\': [], \\'awarders\\': [], \\'media_only\\': False, \\'can_gild\\': False, \\'spoiler\\': False, \\'locked\\': False, \\'author_flair_text\\': \\'Wine Pro\\', \\'visited\\': False, \\'removed_by\\': None, \\'num_reports\\': None, \\'distinguished\\': \\'moderator\\', \\'subreddit_id\\': \\'t5_2qhs8\\', \\'mod_reason_by\\': None, \\'removal_reason\\': None, \\'link_flair_background_color\\': \\'\\', \\'id\\': \\'egg1bz\\', \\'is_robot_indexable\\': True, \\'report_reasons\\': None, \\'author\\': \\'ChampagneFloozy\\', \\'discussion_type\\': None, \\'num_comments\\': 87, \\'send_replies\\': True, \\'whitelist_status\\': \\'all_ads\\', \\'contest_mode\\': False, \\'mod_reports\\': [], \\'author_patreon_flair\\': False, \\'author_flair_text_color\\': \\'dark\\', \\'permalink\\': \\'/r/wine/comments/egg1bz/us_rwiners_add_your_voice_in_opposition_to_the/\\', \\'parent_whitelist_status\\': \\'all_ads\\', \\'stickied\\': True, \\'url\\': \\'https://www.reddit.com/r/wine/comments/egg1bz/us_rwiners_add_your_voice_in_opposition_to_the/\\', \\'subreddit_subscribers\\': 105713, \\'created_utc\\': 1577476883.0, \\'num_crossposts\\': 0, \\'media\\': None, \\'is_video\\': False}'"
      ]
     },
     "execution_count": 17,
     "metadata": {},
     "output_type": "execute_result"
    }
   ],
   "source": [
    "wine_output['data'][0]"
   ]
  },
  {
   "cell_type": "code",
   "execution_count": null,
   "metadata": {},
   "outputs": [],
   "source": []
  }
 ],
 "metadata": {
  "kernelspec": {
   "display_name": "Python 3",
   "language": "python",
   "name": "python3"
  },
  "language_info": {
   "codemirror_mode": {
    "name": "ipython",
    "version": 3
   },
   "file_extension": ".py",
   "mimetype": "text/x-python",
   "name": "python",
   "nbconvert_exporter": "python",
   "pygments_lexer": "ipython3",
   "version": "3.7.4"
  }
 },
 "nbformat": 4,
 "nbformat_minor": 2
}
