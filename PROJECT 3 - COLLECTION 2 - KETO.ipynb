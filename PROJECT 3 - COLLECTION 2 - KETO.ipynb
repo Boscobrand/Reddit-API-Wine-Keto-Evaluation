{
 "cells": [
  {
   "cell_type": "code",
   "execution_count": 1,
   "metadata": {},
   "outputs": [],
   "source": [
    "import requests\n",
    "import pandas as pd\n",
    "import time"
   ]
  },
  {
   "cell_type": "code",
   "execution_count": 2,
   "metadata": {},
   "outputs": [],
   "source": [
    "t1 = time.time()"
   ]
  },
  {
   "cell_type": "code",
   "execution_count": 3,
   "metadata": {},
   "outputs": [
    {
     "name": "stdout",
     "output_type": "stream",
     "text": [
      "1553639440.2011569\n"
     ]
    }
   ],
   "source": [
    "print((time.time()-t1/60))"
   ]
  },
  {
   "cell_type": "code",
   "execution_count": null,
   "metadata": {},
   "outputs": [],
   "source": []
  },
  {
   "cell_type": "code",
   "execution_count": 31,
   "metadata": {},
   "outputs": [],
   "source": [
    "base_url=\"https://www.reddit.com/r/keto.json\"\n",
    "headers={'User-agent':'boscobrandv1'}\n",
    "res=requests.get(base_url,headers=headers)"
   ]
  },
  {
   "cell_type": "code",
   "execution_count": 32,
   "metadata": {
    "scrolled": false
   },
   "outputs": [
    {
     "ename": "AttributeError",
     "evalue": "'Response' object has no attribute 'status'",
     "output_type": "error",
     "traceback": [
      "\u001b[1;31m---------------------------------------------------------------------------\u001b[0m",
      "\u001b[1;31mAttributeError\u001b[0m                            Traceback (most recent call last)",
      "\u001b[1;32m<ipython-input-32-427712815d6d>\u001b[0m in \u001b[0;36m<module>\u001b[1;34m\u001b[0m\n\u001b[1;32m----> 1\u001b[1;33m \u001b[0mres\u001b[0m\u001b[1;33m.\u001b[0m\u001b[0mstatus\u001b[0m\u001b[1;33m.\u001b[0m\u001b[0mcode\u001b[0m\u001b[1;33m\u001b[0m\u001b[1;33m\u001b[0m\u001b[0m\n\u001b[0m",
      "\u001b[1;31mAttributeError\u001b[0m: 'Response' object has no attribute 'status'"
     ]
    }
   ],
   "source": [
    "res.status.code"
   ]
  },
  {
   "cell_type": "code",
   "execution_count": 33,
   "metadata": {},
   "outputs": [],
   "source": [
    "the_json=res.json()"
   ]
  },
  {
   "cell_type": "code",
   "execution_count": 34,
   "metadata": {},
   "outputs": [
    {
     "data": {
      "text/plain": [
       "<function dict.keys>"
      ]
     },
     "execution_count": 34,
     "metadata": {},
     "output_type": "execute_result"
    }
   ],
   "source": [
    "the_json.keys"
   ]
  },
  {
   "cell_type": "code",
   "execution_count": 35,
   "metadata": {},
   "outputs": [
    {
     "data": {
      "text/plain": [
       "{'kind': 't3',\n",
       " 'data': {'approved_at_utc': None,\n",
       "  'subreddit': 'keto',\n",
       "  'selftext': 'Hello /r/keto Community!\\n\\nYou\\'ve all been working so hard and we love hearing about all of your personal victories! Clothes too big? Friends and family noticing a difference? Skipped over something unhealthy? Please use this thread to share any of your Scale or Non-Scale Victories with us!\\n\\nMake sure to give us some background - what brought you to keto? Do you have any specific goals that align with your victories? Have you tried something new that led to your success? What\\'s the next step for you?\\n\\nSince this thread is likely to fill up quickly, consider sorting the comments by \"new\" (instead of \"best\" or \"top\") to see the newest posts and support your fellow community members.\\n\\nIf you\\'re new to /r/keto and need some info, start with [Keto in a Nutshell](https://www.reddit.com/r/keto/wiki/keto_in_a_nutshell) and [the FAQ](https://www.reddit.com/r/keto/wiki/faq). Or, if you have a question that doesn\\'t seem to be covered, head on over to the Community Support thread (pinned to the top of the subreddit) and ask the community!',\n",
       "  'author_fullname': 't2_6l4z3',\n",
       "  'saved': False,\n",
       "  'mod_reason_title': None,\n",
       "  'gilded': 0,\n",
       "  'clicked': False,\n",
       "  'title': '[2020-01-24] - [Weekend Victory Lap] - Have you had a personal victory this week? Share it with us!',\n",
       "  'link_flair_richtext': [],\n",
       "  'subreddit_name_prefixed': 'r/keto',\n",
       "  'hidden': False,\n",
       "  'pwls': 6,\n",
       "  'link_flair_css_class': None,\n",
       "  'downs': 0,\n",
       "  'thumbnail_height': None,\n",
       "  'hide_score': False,\n",
       "  'name': 't3_et8aiv',\n",
       "  'quarantine': False,\n",
       "  'link_flair_text_color': 'dark',\n",
       "  'author_flair_background_color': None,\n",
       "  'subreddit_type': 'public',\n",
       "  'ups': 5,\n",
       "  'total_awards_received': 0,\n",
       "  'media_embed': {},\n",
       "  'thumbnail_width': None,\n",
       "  'author_flair_template_id': None,\n",
       "  'is_original_content': False,\n",
       "  'user_reports': [],\n",
       "  'secure_media': None,\n",
       "  'is_reddit_media_domain': False,\n",
       "  'is_meta': False,\n",
       "  'category': None,\n",
       "  'secure_media_embed': {},\n",
       "  'link_flair_text': None,\n",
       "  'can_mod_post': False,\n",
       "  'score': 5,\n",
       "  'approved_by': None,\n",
       "  'author_premium': True,\n",
       "  'thumbnail': 'self',\n",
       "  'edited': False,\n",
       "  'author_flair_css_class': None,\n",
       "  'author_flair_richtext': [],\n",
       "  'gildings': {},\n",
       "  'content_categories': None,\n",
       "  'is_self': True,\n",
       "  'mod_note': None,\n",
       "  'created': 1579888381.0,\n",
       "  'link_flair_type': 'text',\n",
       "  'wls': 6,\n",
       "  'removed_by_category': None,\n",
       "  'banned_by': None,\n",
       "  'author_flair_type': 'text',\n",
       "  'domain': 'self.keto',\n",
       "  'allow_live_comments': False,\n",
       "  'selftext_html': '&lt;!-- SC_OFF --&gt;&lt;div class=\"md\"&gt;&lt;p&gt;Hello &lt;a href=\"/r/keto\"&gt;/r/keto&lt;/a&gt; Community!&lt;/p&gt;\\n\\n&lt;p&gt;You&amp;#39;ve all been working so hard and we love hearing about all of your personal victories! Clothes too big? Friends and family noticing a difference? Skipped over something unhealthy? Please use this thread to share any of your Scale or Non-Scale Victories with us!&lt;/p&gt;\\n\\n&lt;p&gt;Make sure to give us some background - what brought you to keto? Do you have any specific goals that align with your victories? Have you tried something new that led to your success? What&amp;#39;s the next step for you?&lt;/p&gt;\\n\\n&lt;p&gt;Since this thread is likely to fill up quickly, consider sorting the comments by &amp;quot;new&amp;quot; (instead of &amp;quot;best&amp;quot; or &amp;quot;top&amp;quot;) to see the newest posts and support your fellow community members.&lt;/p&gt;\\n\\n&lt;p&gt;If you&amp;#39;re new to &lt;a href=\"/r/keto\"&gt;/r/keto&lt;/a&gt; and need some info, start with &lt;a href=\"https://www.reddit.com/r/keto/wiki/keto_in_a_nutshell\"&gt;Keto in a Nutshell&lt;/a&gt; and &lt;a href=\"https://www.reddit.com/r/keto/wiki/faq\"&gt;the FAQ&lt;/a&gt;. Or, if you have a question that doesn&amp;#39;t seem to be covered, head on over to the Community Support thread (pinned to the top of the subreddit) and ask the community!&lt;/p&gt;\\n&lt;/div&gt;&lt;!-- SC_ON --&gt;',\n",
       "  'likes': None,\n",
       "  'suggested_sort': None,\n",
       "  'banned_at_utc': None,\n",
       "  'view_count': None,\n",
       "  'archived': False,\n",
       "  'no_follow': True,\n",
       "  'is_crosspostable': False,\n",
       "  'pinned': False,\n",
       "  'over_18': False,\n",
       "  'all_awardings': [],\n",
       "  'awarders': [],\n",
       "  'media_only': False,\n",
       "  'can_gild': False,\n",
       "  'spoiler': False,\n",
       "  'locked': False,\n",
       "  'author_flair_text': None,\n",
       "  'visited': False,\n",
       "  'removed_by': None,\n",
       "  'num_reports': None,\n",
       "  'distinguished': 'moderator',\n",
       "  'subreddit_id': 't5_2rske',\n",
       "  'mod_reason_by': None,\n",
       "  'removal_reason': None,\n",
       "  'link_flair_background_color': '',\n",
       "  'id': 'et8aiv',\n",
       "  'is_robot_indexable': True,\n",
       "  'report_reasons': None,\n",
       "  'author': 'AutoModerator',\n",
       "  'discussion_type': None,\n",
       "  'num_comments': 14,\n",
       "  'send_replies': False,\n",
       "  'whitelist_status': 'all_ads',\n",
       "  'contest_mode': False,\n",
       "  'mod_reports': [],\n",
       "  'author_patreon_flair': False,\n",
       "  'author_flair_text_color': None,\n",
       "  'permalink': '/r/keto/comments/et8aiv/20200124_weekend_victory_lap_have_you_had_a/',\n",
       "  'parent_whitelist_status': 'all_ads',\n",
       "  'stickied': True,\n",
       "  'url': 'https://www.reddit.com/r/keto/comments/et8aiv/20200124_weekend_victory_lap_have_you_had_a/',\n",
       "  'subreddit_subscribers': 1672500,\n",
       "  'created_utc': 1579859581.0,\n",
       "  'num_crossposts': 0,\n",
       "  'media': None,\n",
       "  'is_video': False}}"
      ]
     },
     "execution_count": 35,
     "metadata": {},
     "output_type": "execute_result"
    }
   ],
   "source": [
    "the_json['data']['children'][0]"
   ]
  },
  {
   "cell_type": "code",
   "execution_count": 36,
   "metadata": {},
   "outputs": [
    {
     "data": {
      "text/plain": [
       "'t3_etnhme'"
      ]
     },
     "execution_count": 36,
     "metadata": {},
     "output_type": "execute_result"
    }
   ],
   "source": [
    "#this will tell you this is the last post reddit got on this subject \n",
    "the_json['data']['after']"
   ]
  },
  {
   "cell_type": "code",
   "execution_count": 37,
   "metadata": {},
   "outputs": [],
   "source": [
    "base_url=\"https://www.reddit.com/r/keto.json\"\n",
    "headers={'User-agent':'boscobrandv1'}\n",
    "params={'after':'t3_eta4k2'}\n",
    "res=requests.get(base_url,headers=headers)"
   ]
  },
  {
   "cell_type": "code",
   "execution_count": 38,
   "metadata": {},
   "outputs": [
    {
     "name": "stdout",
     "output_type": "stream",
     "text": [
      "file saved\n",
      "file saved\n",
      "file saved\n",
      "file saved\n"
     ]
    }
   ],
   "source": [
    "post=[]\n",
    "after=None\n",
    "for i in range (25):\n",
    "    if after ==None:\n",
    "        params={}\n",
    "    else: params={'after':after}\n",
    "    res=requests.get(base_url,headers=headers, params=params)\n",
    "    if res.status_code==200:\n",
    "        the_json=res.json()\n",
    "        post.extend(the_json['data']['children'])\n",
    "        after=the_json['data']['after']\n",
    "    else:\n",
    "        print(res.status_code)\n",
    "        break\n",
    "    time.sleep(1)\n",
    "    if i>0 and i%5==0:\n",
    "        pd.DataFrame(post).to_csv('test_output.csv')\n",
    "        print('file saved')"
   ]
  },
  {
   "cell_type": "code",
   "execution_count": 39,
   "metadata": {},
   "outputs": [],
   "source": [
    "keto_output = pd.read_csv('./test_output.csv')"
   ]
  },
  {
   "cell_type": "code",
   "execution_count": 40,
   "metadata": {},
   "outputs": [
    {
     "data": {
      "text/html": [
       "<div>\n",
       "<style scoped>\n",
       "    .dataframe tbody tr th:only-of-type {\n",
       "        vertical-align: middle;\n",
       "    }\n",
       "\n",
       "    .dataframe tbody tr th {\n",
       "        vertical-align: top;\n",
       "    }\n",
       "\n",
       "    .dataframe thead th {\n",
       "        text-align: right;\n",
       "    }\n",
       "</style>\n",
       "<table border=\"1\" class=\"dataframe\">\n",
       "  <thead>\n",
       "    <tr style=\"text-align: right;\">\n",
       "      <th></th>\n",
       "      <th>Unnamed: 0</th>\n",
       "      <th>kind</th>\n",
       "      <th>data</th>\n",
       "    </tr>\n",
       "  </thead>\n",
       "  <tbody>\n",
       "    <tr>\n",
       "      <td>0</td>\n",
       "      <td>0</td>\n",
       "      <td>t3</td>\n",
       "      <td>{'approved_at_utc': None, 'subreddit': 'keto',...</td>\n",
       "    </tr>\n",
       "    <tr>\n",
       "      <td>1</td>\n",
       "      <td>1</td>\n",
       "      <td>t3</td>\n",
       "      <td>{'approved_at_utc': None, 'subreddit': 'keto',...</td>\n",
       "    </tr>\n",
       "    <tr>\n",
       "      <td>2</td>\n",
       "      <td>2</td>\n",
       "      <td>t3</td>\n",
       "      <td>{'approved_at_utc': None, 'subreddit': 'keto',...</td>\n",
       "    </tr>\n",
       "    <tr>\n",
       "      <td>3</td>\n",
       "      <td>3</td>\n",
       "      <td>t3</td>\n",
       "      <td>{'approved_at_utc': None, 'subreddit': 'keto',...</td>\n",
       "    </tr>\n",
       "    <tr>\n",
       "      <td>4</td>\n",
       "      <td>4</td>\n",
       "      <td>t3</td>\n",
       "      <td>{'approved_at_utc': None, 'subreddit': 'keto',...</td>\n",
       "    </tr>\n",
       "  </tbody>\n",
       "</table>\n",
       "</div>"
      ],
      "text/plain": [
       "   Unnamed: 0 kind                                               data\n",
       "0           0   t3  {'approved_at_utc': None, 'subreddit': 'keto',...\n",
       "1           1   t3  {'approved_at_utc': None, 'subreddit': 'keto',...\n",
       "2           2   t3  {'approved_at_utc': None, 'subreddit': 'keto',...\n",
       "3           3   t3  {'approved_at_utc': None, 'subreddit': 'keto',...\n",
       "4           4   t3  {'approved_at_utc': None, 'subreddit': 'keto',..."
      ]
     },
     "execution_count": 40,
     "metadata": {},
     "output_type": "execute_result"
    }
   ],
   "source": [
    "keto_output.head()"
   ]
  },
  {
   "cell_type": "code",
   "execution_count": 41,
   "metadata": {},
   "outputs": [
    {
     "data": {
      "text/plain": [
       "(527, 3)"
      ]
     },
     "execution_count": 41,
     "metadata": {},
     "output_type": "execute_result"
    }
   ],
   "source": [
    "keto_output.shape"
   ]
  },
  {
   "cell_type": "code",
   "execution_count": 42,
   "metadata": {},
   "outputs": [
    {
     "data": {
      "text/html": [
       "<div>\n",
       "<style scoped>\n",
       "    .dataframe tbody tr th:only-of-type {\n",
       "        vertical-align: middle;\n",
       "    }\n",
       "\n",
       "    .dataframe tbody tr th {\n",
       "        vertical-align: top;\n",
       "    }\n",
       "\n",
       "    .dataframe thead th {\n",
       "        text-align: right;\n",
       "    }\n",
       "</style>\n",
       "<table border=\"1\" class=\"dataframe\">\n",
       "  <thead>\n",
       "    <tr style=\"text-align: right;\">\n",
       "      <th></th>\n",
       "      <th>Unnamed: 0</th>\n",
       "      <th>kind</th>\n",
       "      <th>data</th>\n",
       "    </tr>\n",
       "  </thead>\n",
       "  <tbody>\n",
       "    <tr>\n",
       "      <td>0</td>\n",
       "      <td>0</td>\n",
       "      <td>t3</td>\n",
       "      <td>{'approved_at_utc': None, 'subreddit': 'keto',...</td>\n",
       "    </tr>\n",
       "    <tr>\n",
       "      <td>1</td>\n",
       "      <td>1</td>\n",
       "      <td>t3</td>\n",
       "      <td>{'approved_at_utc': None, 'subreddit': 'keto',...</td>\n",
       "    </tr>\n",
       "    <tr>\n",
       "      <td>2</td>\n",
       "      <td>2</td>\n",
       "      <td>t3</td>\n",
       "      <td>{'approved_at_utc': None, 'subreddit': 'keto',...</td>\n",
       "    </tr>\n",
       "    <tr>\n",
       "      <td>3</td>\n",
       "      <td>3</td>\n",
       "      <td>t3</td>\n",
       "      <td>{'approved_at_utc': None, 'subreddit': 'keto',...</td>\n",
       "    </tr>\n",
       "    <tr>\n",
       "      <td>4</td>\n",
       "      <td>4</td>\n",
       "      <td>t3</td>\n",
       "      <td>{'approved_at_utc': None, 'subreddit': 'keto',...</td>\n",
       "    </tr>\n",
       "    <tr>\n",
       "      <td>...</td>\n",
       "      <td>...</td>\n",
       "      <td>...</td>\n",
       "      <td>...</td>\n",
       "    </tr>\n",
       "    <tr>\n",
       "      <td>522</td>\n",
       "      <td>522</td>\n",
       "      <td>t3</td>\n",
       "      <td>{'approved_at_utc': None, 'subreddit': 'keto',...</td>\n",
       "    </tr>\n",
       "    <tr>\n",
       "      <td>523</td>\n",
       "      <td>523</td>\n",
       "      <td>t3</td>\n",
       "      <td>{'approved_at_utc': None, 'subreddit': 'keto',...</td>\n",
       "    </tr>\n",
       "    <tr>\n",
       "      <td>524</td>\n",
       "      <td>524</td>\n",
       "      <td>t3</td>\n",
       "      <td>{'approved_at_utc': None, 'subreddit': 'keto',...</td>\n",
       "    </tr>\n",
       "    <tr>\n",
       "      <td>525</td>\n",
       "      <td>525</td>\n",
       "      <td>t3</td>\n",
       "      <td>{'approved_at_utc': None, 'subreddit': 'keto',...</td>\n",
       "    </tr>\n",
       "    <tr>\n",
       "      <td>526</td>\n",
       "      <td>526</td>\n",
       "      <td>t3</td>\n",
       "      <td>{'approved_at_utc': None, 'subreddit': 'keto',...</td>\n",
       "    </tr>\n",
       "  </tbody>\n",
       "</table>\n",
       "<p>527 rows × 3 columns</p>\n",
       "</div>"
      ],
      "text/plain": [
       "     Unnamed: 0 kind                                               data\n",
       "0             0   t3  {'approved_at_utc': None, 'subreddit': 'keto',...\n",
       "1             1   t3  {'approved_at_utc': None, 'subreddit': 'keto',...\n",
       "2             2   t3  {'approved_at_utc': None, 'subreddit': 'keto',...\n",
       "3             3   t3  {'approved_at_utc': None, 'subreddit': 'keto',...\n",
       "4             4   t3  {'approved_at_utc': None, 'subreddit': 'keto',...\n",
       "..          ...  ...                                                ...\n",
       "522         522   t3  {'approved_at_utc': None, 'subreddit': 'keto',...\n",
       "523         523   t3  {'approved_at_utc': None, 'subreddit': 'keto',...\n",
       "524         524   t3  {'approved_at_utc': None, 'subreddit': 'keto',...\n",
       "525         525   t3  {'approved_at_utc': None, 'subreddit': 'keto',...\n",
       "526         526   t3  {'approved_at_utc': None, 'subreddit': 'keto',...\n",
       "\n",
       "[527 rows x 3 columns]"
      ]
     },
     "execution_count": 42,
     "metadata": {},
     "output_type": "execute_result"
    }
   ],
   "source": [
    "keto_output"
   ]
  },
  {
   "cell_type": "code",
   "execution_count": 44,
   "metadata": {},
   "outputs": [
    {
     "data": {
      "text/plain": [
       "'{\\'approved_at_utc\\': None, \\'subreddit\\': \\'keto\\', \\'selftext\\': \\'Hello /r/keto Community!\\\\n\\\\nYou\\\\\\'ve all been working so hard and we love hearing about all of your personal victories! Clothes too big? Friends and family noticing a difference? Skipped over something unhealthy? Please use this thread to share any of your Scale or Non-Scale Victories with us!\\\\n\\\\nMake sure to give us some background - what brought you to keto? Do you have any specific goals that align with your victories? Have you tried something new that led to your success? What\\\\\\'s the next step for you?\\\\n\\\\nSince this thread is likely to fill up quickly, consider sorting the comments by \"new\" (instead of \"best\" or \"top\") to see the newest posts and support your fellow community members.\\\\n\\\\nIf you\\\\\\'re new to /r/keto and need some info, start with [Keto in a Nutshell](https://www.reddit.com/r/keto/wiki/keto_in_a_nutshell) and [the FAQ](https://www.reddit.com/r/keto/wiki/faq). Or, if you have a question that doesn\\\\\\'t seem to be covered, head on over to the Community Support thread (pinned to the top of the subreddit) and ask the community!\\', \\'author_fullname\\': \\'t2_6l4z3\\', \\'saved\\': False, \\'mod_reason_title\\': None, \\'gilded\\': 0, \\'clicked\\': False, \\'title\\': \\'[2020-01-24] - [Weekend Victory Lap] - Have you had a personal victory this week? Share it with us!\\', \\'link_flair_richtext\\': [], \\'subreddit_name_prefixed\\': \\'r/keto\\', \\'hidden\\': False, \\'pwls\\': 6, \\'link_flair_css_class\\': None, \\'downs\\': 0, \\'thumbnail_height\\': None, \\'hide_score\\': False, \\'name\\': \\'t3_et8aiv\\', \\'quarantine\\': False, \\'link_flair_text_color\\': \\'dark\\', \\'author_flair_background_color\\': None, \\'subreddit_type\\': \\'public\\', \\'ups\\': 4, \\'total_awards_received\\': 0, \\'media_embed\\': {}, \\'thumbnail_width\\': None, \\'author_flair_template_id\\': None, \\'is_original_content\\': False, \\'user_reports\\': [], \\'secure_media\\': None, \\'is_reddit_media_domain\\': False, \\'is_meta\\': False, \\'category\\': None, \\'secure_media_embed\\': {}, \\'link_flair_text\\': None, \\'can_mod_post\\': False, \\'score\\': 4, \\'approved_by\\': None, \\'author_premium\\': True, \\'thumbnail\\': \\'self\\', \\'edited\\': False, \\'author_flair_css_class\\': None, \\'author_flair_richtext\\': [], \\'gildings\\': {}, \\'content_categories\\': None, \\'is_self\\': True, \\'mod_note\\': None, \\'created\\': 1579888381.0, \\'link_flair_type\\': \\'text\\', \\'wls\\': 6, \\'removed_by_category\\': None, \\'banned_by\\': None, \\'author_flair_type\\': \\'text\\', \\'domain\\': \\'self.keto\\', \\'allow_live_comments\\': False, \\'selftext_html\\': \\'&lt;!-- SC_OFF --&gt;&lt;div class=\"md\"&gt;&lt;p&gt;Hello &lt;a href=\"/r/keto\"&gt;/r/keto&lt;/a&gt; Community!&lt;/p&gt;\\\\n\\\\n&lt;p&gt;You&amp;#39;ve all been working so hard and we love hearing about all of your personal victories! Clothes too big? Friends and family noticing a difference? Skipped over something unhealthy? Please use this thread to share any of your Scale or Non-Scale Victories with us!&lt;/p&gt;\\\\n\\\\n&lt;p&gt;Make sure to give us some background - what brought you to keto? Do you have any specific goals that align with your victories? Have you tried something new that led to your success? What&amp;#39;s the next step for you?&lt;/p&gt;\\\\n\\\\n&lt;p&gt;Since this thread is likely to fill up quickly, consider sorting the comments by &amp;quot;new&amp;quot; (instead of &amp;quot;best&amp;quot; or &amp;quot;top&amp;quot;) to see the newest posts and support your fellow community members.&lt;/p&gt;\\\\n\\\\n&lt;p&gt;If you&amp;#39;re new to &lt;a href=\"/r/keto\"&gt;/r/keto&lt;/a&gt; and need some info, start with &lt;a href=\"https://www.reddit.com/r/keto/wiki/keto_in_a_nutshell\"&gt;Keto in a Nutshell&lt;/a&gt; and &lt;a href=\"https://www.reddit.com/r/keto/wiki/faq\"&gt;the FAQ&lt;/a&gt;. Or, if you have a question that doesn&amp;#39;t seem to be covered, head on over to the Community Support thread (pinned to the top of the subreddit) and ask the community!&lt;/p&gt;\\\\n&lt;/div&gt;&lt;!-- SC_ON --&gt;\\', \\'likes\\': None, \\'suggested_sort\\': None, \\'banned_at_utc\\': None, \\'view_count\\': None, \\'archived\\': False, \\'no_follow\\': True, \\'is_crosspostable\\': False, \\'pinned\\': False, \\'over_18\\': False, \\'all_awardings\\': [], \\'awarders\\': [], \\'media_only\\': False, \\'can_gild\\': False, \\'spoiler\\': False, \\'locked\\': False, \\'author_flair_text\\': None, \\'visited\\': False, \\'removed_by\\': None, \\'num_reports\\': None, \\'distinguished\\': \\'moderator\\', \\'subreddit_id\\': \\'t5_2rske\\', \\'mod_reason_by\\': None, \\'removal_reason\\': None, \\'link_flair_background_color\\': \\'\\', \\'id\\': \\'et8aiv\\', \\'is_robot_indexable\\': True, \\'report_reasons\\': None, \\'author\\': \\'AutoModerator\\', \\'discussion_type\\': None, \\'num_comments\\': 14, \\'send_replies\\': False, \\'whitelist_status\\': \\'all_ads\\', \\'contest_mode\\': False, \\'mod_reports\\': [], \\'author_patreon_flair\\': False, \\'author_flair_text_color\\': None, \\'permalink\\': \\'/r/keto/comments/et8aiv/20200124_weekend_victory_lap_have_you_had_a/\\', \\'parent_whitelist_status\\': \\'all_ads\\', \\'stickied\\': True, \\'url\\': \\'https://www.reddit.com/r/keto/comments/et8aiv/20200124_weekend_victory_lap_have_you_had_a/\\', \\'subreddit_subscribers\\': 1672500, \\'created_utc\\': 1579859581.0, \\'num_crossposts\\': 0, \\'media\\': None, \\'is_video\\': False}'"
      ]
     },
     "execution_count": 44,
     "metadata": {},
     "output_type": "execute_result"
    }
   ],
   "source": [
    "keto_output['data'][0]"
   ]
  },
  {
   "cell_type": "code",
   "execution_count": null,
   "metadata": {},
   "outputs": [],
   "source": []
  }
 ],
 "metadata": {
  "kernelspec": {
   "display_name": "Python 3",
   "language": "python",
   "name": "python3"
  },
  "language_info": {
   "codemirror_mode": {
    "name": "ipython",
    "version": 3
   },
   "file_extension": ".py",
   "mimetype": "text/x-python",
   "name": "python",
   "nbconvert_exporter": "python",
   "pygments_lexer": "ipython3",
   "version": "3.7.4"
  }
 },
 "nbformat": 4,
 "nbformat_minor": 2
}
