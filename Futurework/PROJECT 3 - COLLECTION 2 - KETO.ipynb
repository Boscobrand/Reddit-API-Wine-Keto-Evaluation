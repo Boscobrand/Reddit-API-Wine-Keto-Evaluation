{
 "cells": [
  {
   "cell_type": "code",
   "execution_count": 1,
   "metadata": {},
   "outputs": [],
   "source": [
    "import requests\n",
    "import pandas as pd\n",
    "import time"
   ]
  },
  {
   "cell_type": "code",
   "execution_count": 2,
   "metadata": {},
   "outputs": [],
   "source": [
    "t1 = time.time()"
   ]
  },
  {
   "cell_type": "code",
   "execution_count": 3,
   "metadata": {},
   "outputs": [
    {
     "name": "stdout",
     "output_type": "stream",
     "text": [
      "1553815750.8102005\n"
     ]
    }
   ],
   "source": [
    "print((time.time()-t1/60))"
   ]
  },
  {
   "cell_type": "code",
   "execution_count": null,
   "metadata": {},
   "outputs": [],
   "source": []
  },
  {
   "cell_type": "code",
   "execution_count": 4,
   "metadata": {},
   "outputs": [],
   "source": [
    "base_url=\"https://www.reddit.com/r/keto.json\"\n",
    "headers={'User-agent':'boscobrandv1'}\n",
    "res=requests.get(base_url,headers=headers)"
   ]
  },
  {
   "cell_type": "code",
   "execution_count": 6,
   "metadata": {
    "scrolled": false
   },
   "outputs": [
    {
     "ename": "AttributeError",
     "evalue": "'Response' object has no attribute 'status'",
     "output_type": "error",
     "traceback": [
      "\u001b[1;31m---------------------------------------------------------------------------\u001b[0m",
      "\u001b[1;31mAttributeError\u001b[0m                            Traceback (most recent call last)",
      "\u001b[1;32m<ipython-input-6-427712815d6d>\u001b[0m in \u001b[0;36m<module>\u001b[1;34m\u001b[0m\n\u001b[1;32m----> 1\u001b[1;33m \u001b[0mres\u001b[0m\u001b[1;33m.\u001b[0m\u001b[0mstatus\u001b[0m\u001b[1;33m.\u001b[0m\u001b[0mcode\u001b[0m\u001b[1;33m\u001b[0m\u001b[1;33m\u001b[0m\u001b[0m\n\u001b[0m",
      "\u001b[1;31mAttributeError\u001b[0m: 'Response' object has no attribute 'status'"
     ]
    }
   ],
   "source": [
    "res.status.code"
   ]
  },
  {
   "cell_type": "code",
   "execution_count": 7,
   "metadata": {},
   "outputs": [],
   "source": [
    "the_json=res.json()"
   ]
  },
  {
   "cell_type": "code",
   "execution_count": 8,
   "metadata": {},
   "outputs": [
    {
     "data": {
      "text/plain": [
       "<function dict.keys>"
      ]
     },
     "execution_count": 8,
     "metadata": {},
     "output_type": "execute_result"
    }
   ],
   "source": [
    "the_json.keys"
   ]
  },
  {
   "cell_type": "code",
   "execution_count": 9,
   "metadata": {},
   "outputs": [
    {
     "data": {
      "text/plain": [
       "{'kind': 't3',\n",
       " 'data': {'approved_at_utc': None,\n",
       "  'subreddit': 'keto',\n",
       "  'selftext': \"Happy Monday /r/keto!\\n\\nWe know you've been slaving away in the kitchen - getting your meal prep done for the week, cooking family dinners, crankin' out healthy lunches - you know, gettin' your Keto on. So, let's see it! \\n\\nHow do you like to meal prep? Are there recipes you like to revisit regularly? Something you're trying to perfect? Show everyone what ya got!\\n\\n**If you're new to /r/keto and need some info, start with [Keto in a Nutshell](https://www.reddit.com/r/keto/wiki/keto_in_a_nutshell) and [the FAQ](https://www.reddit.com/r/keto/wiki/faq). Or, if you have a question that doesn't seem to be covered, head on over to the Community Support thread (pinned to the top of the subreddit) and ask the community!**\",\n",
       "  'author_fullname': 't2_6l4z3',\n",
       "  'saved': False,\n",
       "  'mod_reason_title': None,\n",
       "  'gilded': 0,\n",
       "  'clicked': False,\n",
       "  'title': '[2020-01-27] - [My Meal Monday] - What are YOU eating?',\n",
       "  'link_flair_richtext': [],\n",
       "  'subreddit_name_prefixed': 'r/keto',\n",
       "  'hidden': False,\n",
       "  'pwls': 6,\n",
       "  'link_flair_css_class': None,\n",
       "  'downs': 0,\n",
       "  'thumbnail_height': None,\n",
       "  'hide_score': False,\n",
       "  'name': 't3_eulv61',\n",
       "  'quarantine': False,\n",
       "  'link_flair_text_color': 'dark',\n",
       "  'author_flair_background_color': None,\n",
       "  'subreddit_type': 'public',\n",
       "  'ups': 3,\n",
       "  'total_awards_received': 0,\n",
       "  'media_embed': {},\n",
       "  'thumbnail_width': None,\n",
       "  'author_flair_template_id': None,\n",
       "  'is_original_content': False,\n",
       "  'user_reports': [],\n",
       "  'secure_media': None,\n",
       "  'is_reddit_media_domain': False,\n",
       "  'is_meta': False,\n",
       "  'category': None,\n",
       "  'secure_media_embed': {},\n",
       "  'link_flair_text': None,\n",
       "  'can_mod_post': False,\n",
       "  'score': 3,\n",
       "  'approved_by': None,\n",
       "  'author_premium': True,\n",
       "  'thumbnail': 'self',\n",
       "  'edited': False,\n",
       "  'author_flair_css_class': None,\n",
       "  'author_flair_richtext': [],\n",
       "  'gildings': {},\n",
       "  'content_categories': None,\n",
       "  'is_self': True,\n",
       "  'mod_note': None,\n",
       "  'created': 1580147583.0,\n",
       "  'link_flair_type': 'text',\n",
       "  'wls': 6,\n",
       "  'removed_by_category': None,\n",
       "  'banned_by': None,\n",
       "  'author_flair_type': 'text',\n",
       "  'domain': 'self.keto',\n",
       "  'allow_live_comments': True,\n",
       "  'selftext_html': '&lt;!-- SC_OFF --&gt;&lt;div class=\"md\"&gt;&lt;p&gt;Happy Monday &lt;a href=\"/r/keto\"&gt;/r/keto&lt;/a&gt;!&lt;/p&gt;\\n\\n&lt;p&gt;We know you&amp;#39;ve been slaving away in the kitchen - getting your meal prep done for the week, cooking family dinners, crankin&amp;#39; out healthy lunches - you know, gettin&amp;#39; your Keto on. So, let&amp;#39;s see it! &lt;/p&gt;\\n\\n&lt;p&gt;How do you like to meal prep? Are there recipes you like to revisit regularly? Something you&amp;#39;re trying to perfect? Show everyone what ya got!&lt;/p&gt;\\n\\n&lt;p&gt;&lt;strong&gt;If you&amp;#39;re new to &lt;a href=\"/r/keto\"&gt;/r/keto&lt;/a&gt; and need some info, start with &lt;a href=\"https://www.reddit.com/r/keto/wiki/keto_in_a_nutshell\"&gt;Keto in a Nutshell&lt;/a&gt; and &lt;a href=\"https://www.reddit.com/r/keto/wiki/faq\"&gt;the FAQ&lt;/a&gt;. Or, if you have a question that doesn&amp;#39;t seem to be covered, head on over to the Community Support thread (pinned to the top of the subreddit) and ask the community!&lt;/strong&gt;&lt;/p&gt;\\n&lt;/div&gt;&lt;!-- SC_ON --&gt;',\n",
       "  'likes': None,\n",
       "  'suggested_sort': None,\n",
       "  'banned_at_utc': None,\n",
       "  'view_count': None,\n",
       "  'archived': False,\n",
       "  'no_follow': True,\n",
       "  'is_crosspostable': False,\n",
       "  'pinned': False,\n",
       "  'over_18': False,\n",
       "  'all_awardings': [],\n",
       "  'awarders': [],\n",
       "  'media_only': False,\n",
       "  'can_gild': False,\n",
       "  'spoiler': False,\n",
       "  'locked': False,\n",
       "  'author_flair_text': None,\n",
       "  'visited': False,\n",
       "  'removed_by': None,\n",
       "  'num_reports': None,\n",
       "  'distinguished': 'moderator',\n",
       "  'subreddit_id': 't5_2rske',\n",
       "  'mod_reason_by': None,\n",
       "  'removal_reason': None,\n",
       "  'link_flair_background_color': '',\n",
       "  'id': 'eulv61',\n",
       "  'is_robot_indexable': True,\n",
       "  'report_reasons': None,\n",
       "  'author': 'AutoModerator',\n",
       "  'discussion_type': None,\n",
       "  'num_comments': 10,\n",
       "  'send_replies': False,\n",
       "  'whitelist_status': 'all_ads',\n",
       "  'contest_mode': False,\n",
       "  'mod_reports': [],\n",
       "  'author_patreon_flair': False,\n",
       "  'author_flair_text_color': None,\n",
       "  'permalink': '/r/keto/comments/eulv61/20200127_my_meal_monday_what_are_you_eating/',\n",
       "  'parent_whitelist_status': 'all_ads',\n",
       "  'stickied': True,\n",
       "  'url': 'https://www.reddit.com/r/keto/comments/eulv61/20200127_my_meal_monday_what_are_you_eating/',\n",
       "  'subreddit_subscribers': 1674852,\n",
       "  'created_utc': 1580118783.0,\n",
       "  'num_crossposts': 0,\n",
       "  'media': None,\n",
       "  'is_video': False}}"
      ]
     },
     "execution_count": 9,
     "metadata": {},
     "output_type": "execute_result"
    }
   ],
   "source": [
    "the_json['data']['children'][0]"
   ]
  },
  {
   "cell_type": "code",
   "execution_count": 10,
   "metadata": {},
   "outputs": [
    {
     "data": {
      "text/plain": [
       "'t3_euoqpb'"
      ]
     },
     "execution_count": 10,
     "metadata": {},
     "output_type": "execute_result"
    }
   ],
   "source": [
    "#this will tell you this is the last post reddit got on this subject \n",
    "the_json['data']['after']"
   ]
  },
  {
   "cell_type": "code",
   "execution_count": 11,
   "metadata": {},
   "outputs": [],
   "source": [
    "base_url=\"https://www.reddit.com/r/keto.json\"\n",
    "headers={'User-agent':'boscobrandv1'}\n",
    "params={'after':'t3_eta4k2'}\n",
    "res=requests.get(base_url,headers=headers)"
   ]
  },
  {
   "cell_type": "code",
   "execution_count": 52,
   "metadata": {},
   "outputs": [],
   "source": [
    "posts = []\n",
    "after = None\n",
    "for i in range(100):\n",
    "    if after == None:\n",
    "        params = {}\n",
    "    else:\n",
    "        params = {'after': after}\n",
    "    res = requests.get(base_url, headers = headers, params = params)\n",
    "    if res.status_code == 200:\n",
    "        the_json = res.json()\n",
    "        posts.extend(the_json['data']['children'])\n",
    "        after = the_json['data']['after']\n",
    "    else:\n",
    "        print(res.status_code)\n",
    "        break\n",
    "    time.sleep(0.5)"
   ]
  },
  {
   "cell_type": "code",
   "execution_count": 55,
   "metadata": {},
   "outputs": [],
   "source": [
    "title = []\n",
    "selftext = []\n",
    "ident = []\n",
    "subreddit = []\n",
    "\n",
    "# Loop through all keto_posts and print the information that you think is important\n",
    "for post in posts:\n",
    "    title.append(post['data']['title'])\n",
    "    selftext.append(post['data']['selftext'])\n",
    "    ident.append(post['data']['id'])\n",
    "    subreddit.append(post['data']['subreddit'])"
   ]
  },
  {
   "cell_type": "code",
   "execution_count": 56,
   "metadata": {},
   "outputs": [],
   "source": [
    "df_keto = pd.DataFrame({\n",
    "    'ident': ident ,\n",
    "    'title': title,\n",
    "    'subreddit':subreddit,\n",
    "    'selftext':selftext,\n",
    "})"
   ]
  },
  {
   "cell_type": "code",
   "execution_count": null,
   "metadata": {},
   "outputs": [],
   "source": [
    "###THIS IS THE ONE YOU WERE WORKING ON THAT YOU NEED TO REPLICATE FOR WINE"
   ]
  },
  {
   "cell_type": "code",
   "execution_count": 59,
   "metadata": {},
   "outputs": [
    {
     "data": {
      "text/html": [
       "<div>\n",
       "<style scoped>\n",
       "    .dataframe tbody tr th:only-of-type {\n",
       "        vertical-align: middle;\n",
       "    }\n",
       "\n",
       "    .dataframe tbody tr th {\n",
       "        vertical-align: top;\n",
       "    }\n",
       "\n",
       "    .dataframe thead th {\n",
       "        text-align: right;\n",
       "    }\n",
       "</style>\n",
       "<table border=\"1\" class=\"dataframe\">\n",
       "  <thead>\n",
       "    <tr style=\"text-align: right;\">\n",
       "      <th></th>\n",
       "      <th>ident</th>\n",
       "      <th>title</th>\n",
       "      <th>subreddit</th>\n",
       "      <th>selftext</th>\n",
       "    </tr>\n",
       "  </thead>\n",
       "  <tbody>\n",
       "    <tr>\n",
       "      <td>0</td>\n",
       "      <td>eulv61</td>\n",
       "      <td>[2020-01-27] - [My Meal Monday] - What are YOU...</td>\n",
       "      <td>keto</td>\n",
       "      <td>Happy Monday /r/keto!\\n\\nWe know you've been s...</td>\n",
       "    </tr>\n",
       "    <tr>\n",
       "      <td>1</td>\n",
       "      <td>eum2jv</td>\n",
       "      <td>[2020-01-27] - /r/keto Beginners &amp;amp; Communi...</td>\n",
       "      <td>keto</td>\n",
       "      <td>Hello /r/keto Community!\\n\\nPlease use this su...</td>\n",
       "    </tr>\n",
       "    <tr>\n",
       "      <td>2</td>\n",
       "      <td>eusqj9</td>\n",
       "      <td>50 POUND MARK!!!</td>\n",
       "      <td>keto</td>\n",
       "      <td>SW: 287 CW: 237\\nI did it yall. I finally fuck...</td>\n",
       "    </tr>\n",
       "    <tr>\n",
       "      <td>3</td>\n",
       "      <td>euiih7</td>\n",
       "      <td>400 land? Is that even a thing? Got on the sca...</td>\n",
       "      <td>keto</td>\n",
       "      <td>This feels crazy good.  I'm probably the fitte...</td>\n",
       "    </tr>\n",
       "    <tr>\n",
       "      <td>4</td>\n",
       "      <td>euqhvw</td>\n",
       "      <td>Observation while making lunch:</td>\n",
       "      <td>keto</td>\n",
       "      <td>Since going keto a while ago the frustration o...</td>\n",
       "    </tr>\n",
       "  </tbody>\n",
       "</table>\n",
       "</div>"
      ],
      "text/plain": [
       "    ident                                              title subreddit  \\\n",
       "0  eulv61  [2020-01-27] - [My Meal Monday] - What are YOU...      keto   \n",
       "1  eum2jv  [2020-01-27] - /r/keto Beginners &amp; Communi...      keto   \n",
       "2  eusqj9                                   50 POUND MARK!!!      keto   \n",
       "3  euiih7  400 land? Is that even a thing? Got on the sca...      keto   \n",
       "4  euqhvw                    Observation while making lunch:      keto   \n",
       "\n",
       "                                            selftext  \n",
       "0  Happy Monday /r/keto!\\n\\nWe know you've been s...  \n",
       "1  Hello /r/keto Community!\\n\\nPlease use this su...  \n",
       "2  SW: 287 CW: 237\\nI did it yall. I finally fuck...  \n",
       "3  This feels crazy good.  I'm probably the fitte...  \n",
       "4  Since going keto a while ago the frustration o...  "
      ]
     },
     "execution_count": 59,
     "metadata": {},
     "output_type": "execute_result"
    }
   ],
   "source": [
    "df_keto.head()"
   ]
  },
  {
   "cell_type": "code",
   "execution_count": 57,
   "metadata": {},
   "outputs": [
    {
     "data": {
      "text/plain": [
       "(2499, 4)"
      ]
     },
     "execution_count": 57,
     "metadata": {},
     "output_type": "execute_result"
    }
   ],
   "source": [
    "df_keto.shape"
   ]
  },
  {
   "cell_type": "code",
   "execution_count": 18,
   "metadata": {},
   "outputs": [
    {
     "name": "stdout",
     "output_type": "stream",
     "text": [
      "file saved\n",
      "file saved\n",
      "file saved\n",
      "file saved\n",
      "file saved\n",
      "file saved\n",
      "file saved\n",
      "file saved\n",
      "file saved\n",
      "file saved\n",
      "file saved\n",
      "file saved\n",
      "file saved\n",
      "file saved\n",
      "file saved\n",
      "file saved\n",
      "file saved\n",
      "file saved\n",
      "file saved\n"
     ]
    }
   ],
   "source": [
    "post=[]\n",
    "after=None\n",
    "for i in range (100):\n",
    "    if after ==None:\n",
    "        params={}\n",
    "    else: params={'after':after}\n",
    "    res=requests.get(base_url,headers=headers, params=params)\n",
    "    if res.status_code==200:\n",
    "        the_json=res.json()\n",
    "        post.extend(the_json['data']['children'])\n",
    "        after=the_json['data']['after']\n",
    "    else:\n",
    "        print(res.status_code)\n",
    "        break\n",
    "    time.sleep(1)\n",
    "    if i>0 and i%5==0:\n",
    "        pd.DataFrame(post).to_csv('test_output.csv')\n",
    "        print('file saved')"
   ]
  },
  {
   "cell_type": "code",
   "execution_count": 21,
   "metadata": {},
   "outputs": [],
   "source": [
    "keto_output = pd.read_csv('./test_output.csv')"
   ]
  },
  {
   "cell_type": "code",
   "execution_count": 22,
   "metadata": {},
   "outputs": [
    {
     "data": {
      "text/html": [
       "<div>\n",
       "<style scoped>\n",
       "    .dataframe tbody tr th:only-of-type {\n",
       "        vertical-align: middle;\n",
       "    }\n",
       "\n",
       "    .dataframe tbody tr th {\n",
       "        vertical-align: top;\n",
       "    }\n",
       "\n",
       "    .dataframe thead th {\n",
       "        text-align: right;\n",
       "    }\n",
       "</style>\n",
       "<table border=\"1\" class=\"dataframe\">\n",
       "  <thead>\n",
       "    <tr style=\"text-align: right;\">\n",
       "      <th></th>\n",
       "      <th>Unnamed: 0</th>\n",
       "      <th>kind</th>\n",
       "      <th>data</th>\n",
       "    </tr>\n",
       "  </thead>\n",
       "  <tbody>\n",
       "    <tr>\n",
       "      <td>0</td>\n",
       "      <td>0</td>\n",
       "      <td>t3</td>\n",
       "      <td>{'approved_at_utc': None, 'subreddit': 'keto',...</td>\n",
       "    </tr>\n",
       "    <tr>\n",
       "      <td>1</td>\n",
       "      <td>1</td>\n",
       "      <td>t3</td>\n",
       "      <td>{'approved_at_utc': None, 'subreddit': 'keto',...</td>\n",
       "    </tr>\n",
       "    <tr>\n",
       "      <td>2</td>\n",
       "      <td>2</td>\n",
       "      <td>t3</td>\n",
       "      <td>{'approved_at_utc': None, 'subreddit': 'keto',...</td>\n",
       "    </tr>\n",
       "    <tr>\n",
       "      <td>3</td>\n",
       "      <td>3</td>\n",
       "      <td>t3</td>\n",
       "      <td>{'approved_at_utc': None, 'subreddit': 'keto',...</td>\n",
       "    </tr>\n",
       "    <tr>\n",
       "      <td>4</td>\n",
       "      <td>4</td>\n",
       "      <td>t3</td>\n",
       "      <td>{'approved_at_utc': None, 'subreddit': 'keto',...</td>\n",
       "    </tr>\n",
       "  </tbody>\n",
       "</table>\n",
       "</div>"
      ],
      "text/plain": [
       "   Unnamed: 0 kind                                               data\n",
       "0           0   t3  {'approved_at_utc': None, 'subreddit': 'keto',...\n",
       "1           1   t3  {'approved_at_utc': None, 'subreddit': 'keto',...\n",
       "2           2   t3  {'approved_at_utc': None, 'subreddit': 'keto',...\n",
       "3           3   t3  {'approved_at_utc': None, 'subreddit': 'keto',...\n",
       "4           4   t3  {'approved_at_utc': None, 'subreddit': 'keto',..."
      ]
     },
     "execution_count": 22,
     "metadata": {},
     "output_type": "execute_result"
    }
   ],
   "source": [
    "keto_output.head()"
   ]
  },
  {
   "cell_type": "code",
   "execution_count": 23,
   "metadata": {},
   "outputs": [
    {
     "data": {
      "text/plain": [
       "(2384, 3)"
      ]
     },
     "execution_count": 23,
     "metadata": {},
     "output_type": "execute_result"
    }
   ],
   "source": [
    "keto_output.shape"
   ]
  },
  {
   "cell_type": "code",
   "execution_count": 24,
   "metadata": {},
   "outputs": [
    {
     "data": {
      "text/html": [
       "<div>\n",
       "<style scoped>\n",
       "    .dataframe tbody tr th:only-of-type {\n",
       "        vertical-align: middle;\n",
       "    }\n",
       "\n",
       "    .dataframe tbody tr th {\n",
       "        vertical-align: top;\n",
       "    }\n",
       "\n",
       "    .dataframe thead th {\n",
       "        text-align: right;\n",
       "    }\n",
       "</style>\n",
       "<table border=\"1\" class=\"dataframe\">\n",
       "  <thead>\n",
       "    <tr style=\"text-align: right;\">\n",
       "      <th></th>\n",
       "      <th>Unnamed: 0</th>\n",
       "      <th>kind</th>\n",
       "      <th>data</th>\n",
       "    </tr>\n",
       "  </thead>\n",
       "  <tbody>\n",
       "    <tr>\n",
       "      <td>0</td>\n",
       "      <td>0</td>\n",
       "      <td>t3</td>\n",
       "      <td>{'approved_at_utc': None, 'subreddit': 'keto',...</td>\n",
       "    </tr>\n",
       "    <tr>\n",
       "      <td>1</td>\n",
       "      <td>1</td>\n",
       "      <td>t3</td>\n",
       "      <td>{'approved_at_utc': None, 'subreddit': 'keto',...</td>\n",
       "    </tr>\n",
       "    <tr>\n",
       "      <td>2</td>\n",
       "      <td>2</td>\n",
       "      <td>t3</td>\n",
       "      <td>{'approved_at_utc': None, 'subreddit': 'keto',...</td>\n",
       "    </tr>\n",
       "    <tr>\n",
       "      <td>3</td>\n",
       "      <td>3</td>\n",
       "      <td>t3</td>\n",
       "      <td>{'approved_at_utc': None, 'subreddit': 'keto',...</td>\n",
       "    </tr>\n",
       "    <tr>\n",
       "      <td>4</td>\n",
       "      <td>4</td>\n",
       "      <td>t3</td>\n",
       "      <td>{'approved_at_utc': None, 'subreddit': 'keto',...</td>\n",
       "    </tr>\n",
       "    <tr>\n",
       "      <td>...</td>\n",
       "      <td>...</td>\n",
       "      <td>...</td>\n",
       "      <td>...</td>\n",
       "    </tr>\n",
       "    <tr>\n",
       "      <td>2379</td>\n",
       "      <td>2379</td>\n",
       "      <td>t3</td>\n",
       "      <td>{'approved_at_utc': None, 'subreddit': 'keto',...</td>\n",
       "    </tr>\n",
       "    <tr>\n",
       "      <td>2380</td>\n",
       "      <td>2380</td>\n",
       "      <td>t3</td>\n",
       "      <td>{'approved_at_utc': None, 'subreddit': 'keto',...</td>\n",
       "    </tr>\n",
       "    <tr>\n",
       "      <td>2381</td>\n",
       "      <td>2381</td>\n",
       "      <td>t3</td>\n",
       "      <td>{'approved_at_utc': None, 'subreddit': 'keto',...</td>\n",
       "    </tr>\n",
       "    <tr>\n",
       "      <td>2382</td>\n",
       "      <td>2382</td>\n",
       "      <td>t3</td>\n",
       "      <td>{'approved_at_utc': None, 'subreddit': 'keto',...</td>\n",
       "    </tr>\n",
       "    <tr>\n",
       "      <td>2383</td>\n",
       "      <td>2383</td>\n",
       "      <td>t3</td>\n",
       "      <td>{'approved_at_utc': None, 'subreddit': 'keto',...</td>\n",
       "    </tr>\n",
       "  </tbody>\n",
       "</table>\n",
       "<p>2384 rows × 3 columns</p>\n",
       "</div>"
      ],
      "text/plain": [
       "      Unnamed: 0 kind                                               data\n",
       "0              0   t3  {'approved_at_utc': None, 'subreddit': 'keto',...\n",
       "1              1   t3  {'approved_at_utc': None, 'subreddit': 'keto',...\n",
       "2              2   t3  {'approved_at_utc': None, 'subreddit': 'keto',...\n",
       "3              3   t3  {'approved_at_utc': None, 'subreddit': 'keto',...\n",
       "4              4   t3  {'approved_at_utc': None, 'subreddit': 'keto',...\n",
       "...          ...  ...                                                ...\n",
       "2379        2379   t3  {'approved_at_utc': None, 'subreddit': 'keto',...\n",
       "2380        2380   t3  {'approved_at_utc': None, 'subreddit': 'keto',...\n",
       "2381        2381   t3  {'approved_at_utc': None, 'subreddit': 'keto',...\n",
       "2382        2382   t3  {'approved_at_utc': None, 'subreddit': 'keto',...\n",
       "2383        2383   t3  {'approved_at_utc': None, 'subreddit': 'keto',...\n",
       "\n",
       "[2384 rows x 3 columns]"
      ]
     },
     "execution_count": 24,
     "metadata": {},
     "output_type": "execute_result"
    }
   ],
   "source": [
    "keto_output"
   ]
  },
  {
   "cell_type": "code",
   "execution_count": 25,
   "metadata": {},
   "outputs": [
    {
     "data": {
      "text/plain": [
       "'{\\'approved_at_utc\\': None, \\'subreddit\\': \\'keto\\', \\'selftext\\': \"Happy Monday /r/keto!\\\\n\\\\nWe know you\\'ve been slaving away in the kitchen - getting your meal prep done for the week, cooking family dinners, crankin\\' out healthy lunches - you know, gettin\\' your Keto on. So, let\\'s see it! \\\\n\\\\nHow do you like to meal prep? Are there recipes you like to revisit regularly? Something you\\'re trying to perfect? Show everyone what ya got!\\\\n\\\\n**If you\\'re new to /r/keto and need some info, start with [Keto in a Nutshell](https://www.reddit.com/r/keto/wiki/keto_in_a_nutshell) and [the FAQ](https://www.reddit.com/r/keto/wiki/faq). Or, if you have a question that doesn\\'t seem to be covered, head on over to the Community Support thread (pinned to the top of the subreddit) and ask the community!**\", \\'author_fullname\\': \\'t2_6l4z3\\', \\'saved\\': False, \\'mod_reason_title\\': None, \\'gilded\\': 0, \\'clicked\\': False, \\'title\\': \\'[2020-01-27] - [My Meal Monday] - What are YOU eating?\\', \\'link_flair_richtext\\': [], \\'subreddit_name_prefixed\\': \\'r/keto\\', \\'hidden\\': False, \\'pwls\\': 6, \\'link_flair_css_class\\': None, \\'downs\\': 0, \\'thumbnail_height\\': None, \\'hide_score\\': False, \\'name\\': \\'t3_eulv61\\', \\'quarantine\\': False, \\'link_flair_text_color\\': \\'dark\\', \\'author_flair_background_color\\': None, \\'subreddit_type\\': \\'public\\', \\'ups\\': 3, \\'total_awards_received\\': 0, \\'media_embed\\': {}, \\'thumbnail_width\\': None, \\'author_flair_template_id\\': None, \\'is_original_content\\': False, \\'user_reports\\': [], \\'secure_media\\': None, \\'is_reddit_media_domain\\': False, \\'is_meta\\': False, \\'category\\': None, \\'secure_media_embed\\': {}, \\'link_flair_text\\': None, \\'can_mod_post\\': False, \\'score\\': 3, \\'approved_by\\': None, \\'author_premium\\': True, \\'thumbnail\\': \\'self\\', \\'edited\\': False, \\'author_flair_css_class\\': None, \\'author_flair_richtext\\': [], \\'gildings\\': {}, \\'content_categories\\': None, \\'is_self\\': True, \\'mod_note\\': None, \\'created\\': 1580147583.0, \\'link_flair_type\\': \\'text\\', \\'wls\\': 6, \\'removed_by_category\\': None, \\'banned_by\\': None, \\'author_flair_type\\': \\'text\\', \\'domain\\': \\'self.keto\\', \\'allow_live_comments\\': True, \\'selftext_html\\': \\'&lt;!-- SC_OFF --&gt;&lt;div class=\"md\"&gt;&lt;p&gt;Happy Monday &lt;a href=\"/r/keto\"&gt;/r/keto&lt;/a&gt;!&lt;/p&gt;\\\\n\\\\n&lt;p&gt;We know you&amp;#39;ve been slaving away in the kitchen - getting your meal prep done for the week, cooking family dinners, crankin&amp;#39; out healthy lunches - you know, gettin&amp;#39; your Keto on. So, let&amp;#39;s see it! &lt;/p&gt;\\\\n\\\\n&lt;p&gt;How do you like to meal prep? Are there recipes you like to revisit regularly? Something you&amp;#39;re trying to perfect? Show everyone what ya got!&lt;/p&gt;\\\\n\\\\n&lt;p&gt;&lt;strong&gt;If you&amp;#39;re new to &lt;a href=\"/r/keto\"&gt;/r/keto&lt;/a&gt; and need some info, start with &lt;a href=\"https://www.reddit.com/r/keto/wiki/keto_in_a_nutshell\"&gt;Keto in a Nutshell&lt;/a&gt; and &lt;a href=\"https://www.reddit.com/r/keto/wiki/faq\"&gt;the FAQ&lt;/a&gt;. Or, if you have a question that doesn&amp;#39;t seem to be covered, head on over to the Community Support thread (pinned to the top of the subreddit) and ask the community!&lt;/strong&gt;&lt;/p&gt;\\\\n&lt;/div&gt;&lt;!-- SC_ON --&gt;\\', \\'likes\\': None, \\'suggested_sort\\': None, \\'banned_at_utc\\': None, \\'view_count\\': None, \\'archived\\': False, \\'no_follow\\': True, \\'is_crosspostable\\': False, \\'pinned\\': False, \\'over_18\\': False, \\'all_awardings\\': [], \\'awarders\\': [], \\'media_only\\': False, \\'can_gild\\': False, \\'spoiler\\': False, \\'locked\\': False, \\'author_flair_text\\': None, \\'visited\\': False, \\'removed_by\\': None, \\'num_reports\\': None, \\'distinguished\\': \\'moderator\\', \\'subreddit_id\\': \\'t5_2rske\\', \\'mod_reason_by\\': None, \\'removal_reason\\': None, \\'link_flair_background_color\\': \\'\\', \\'id\\': \\'eulv61\\', \\'is_robot_indexable\\': True, \\'report_reasons\\': None, \\'author\\': \\'AutoModerator\\', \\'discussion_type\\': None, \\'num_comments\\': 12, \\'send_replies\\': False, \\'whitelist_status\\': \\'all_ads\\', \\'contest_mode\\': False, \\'mod_reports\\': [], \\'author_patreon_flair\\': False, \\'author_flair_text_color\\': None, \\'permalink\\': \\'/r/keto/comments/eulv61/20200127_my_meal_monday_what_are_you_eating/\\', \\'parent_whitelist_status\\': \\'all_ads\\', \\'stickied\\': True, \\'url\\': \\'https://www.reddit.com/r/keto/comments/eulv61/20200127_my_meal_monday_what_are_you_eating/\\', \\'subreddit_subscribers\\': 1674935, \\'created_utc\\': 1580118783.0, \\'num_crossposts\\': 0, \\'media\\': None, \\'is_video\\': False}'"
      ]
     },
     "execution_count": 25,
     "metadata": {},
     "output_type": "execute_result"
    }
   ],
   "source": [
    "keto_output['data'][0]"
   ]
  },
  {
   "cell_type": "code",
   "execution_count": null,
   "metadata": {},
   "outputs": [],
   "source": []
  }
 ],
 "metadata": {
  "kernelspec": {
   "display_name": "Python 3",
   "language": "python",
   "name": "python3"
  },
  "language_info": {
   "codemirror_mode": {
    "name": "ipython",
    "version": 3
   },
   "file_extension": ".py",
   "mimetype": "text/x-python",
   "name": "python",
   "nbconvert_exporter": "python",
   "pygments_lexer": "ipython3",
   "version": "3.7.4"
  }
 },
 "nbformat": 4,
 "nbformat_minor": 2
}
