{
 "cells": [
  {
   "cell_type": "markdown",
   "metadata": {},
   "source": [
    "# PROJECT 3 - PART ONE:\n",
    "\n",
    "## A. COLLECTION OF DATA FROM REDDIT"
   ]
  },
  {
   "cell_type": "markdown",
   "metadata": {},
   "source": [
    "This notebook focuses on the collection of data from two subreddits (keto and wine), cleaning and structuring the data based on the elements most important for evaluation, exporting the resulting dataframes into to two separate csv files (one for each subreddit)"
   ]
  },
  {
   "cell_type": "markdown",
   "metadata": {},
   "source": [
    "**CAPTURING THE KETO SUBREDDIT**"
   ]
  },
  {
   "cell_type": "code",
   "execution_count": 1,
   "metadata": {},
   "outputs": [],
   "source": [
    "import requests\n",
    "import pandas as pd\n",
    "import time"
   ]
  },
  {
   "cell_type": "code",
   "execution_count": 2,
   "metadata": {},
   "outputs": [],
   "source": [
    "t1 = time.time()"
   ]
  },
  {
   "cell_type": "code",
   "execution_count": 3,
   "metadata": {
    "scrolled": true
   },
   "outputs": [
    {
     "name": "stdout",
     "output_type": "stream",
     "text": [
      "1553898623.346953\n"
     ]
    }
   ],
   "source": [
    "print((time.time()-t1/60))"
   ]
  },
  {
   "cell_type": "code",
   "execution_count": null,
   "metadata": {},
   "outputs": [],
   "source": []
  },
  {
   "cell_type": "code",
   "execution_count": 4,
   "metadata": {},
   "outputs": [],
   "source": [
    "base_url=\"https://www.reddit.com/r/keto.json\"\n",
    "headers={'User-agent':'boscobrandv1'}\n",
    "res=requests.get(base_url,headers=headers)"
   ]
  },
  {
   "cell_type": "code",
   "execution_count": 5,
   "metadata": {},
   "outputs": [],
   "source": [
    "the_json=res.json()"
   ]
  },
  {
   "cell_type": "code",
   "execution_count": 6,
   "metadata": {},
   "outputs": [
    {
     "data": {
      "text/plain": [
       "<function dict.keys>"
      ]
     },
     "execution_count": 6,
     "metadata": {},
     "output_type": "execute_result"
    }
   ],
   "source": [
    "the_json.keys"
   ]
  },
  {
   "cell_type": "code",
   "execution_count": 7,
   "metadata": {},
   "outputs": [
    {
     "data": {
      "text/plain": [
       "{'kind': 't3',\n",
       " 'data': {'approved_at_utc': None,\n",
       "  'subreddit': 'keto',\n",
       "  'selftext': \"Happy Monday /r/keto!\\n\\nWe know you've been slaving away in the kitchen - getting your meal prep done for the week, cooking family dinners, crankin' out healthy lunches - you know, gettin' your Keto on. So, let's see it! \\n\\nHow do you like to meal prep? Are there recipes you like to revisit regularly? Something you're trying to perfect? Show everyone what ya got!\\n\\n**If you're new to /r/keto and need some info, start with [Keto in a Nutshell](https://www.reddit.com/r/keto/wiki/keto_in_a_nutshell) and [the FAQ](https://www.reddit.com/r/keto/wiki/faq). Or, if you have a question that doesn't seem to be covered, head on over to the Community Support thread (pinned to the top of the subreddit) and ask the community!**\",\n",
       "  'author_fullname': 't2_6l4z3',\n",
       "  'saved': False,\n",
       "  'mod_reason_title': None,\n",
       "  'gilded': 0,\n",
       "  'clicked': False,\n",
       "  'title': '[2020-01-27] - [My Meal Monday] - What are YOU eating?',\n",
       "  'link_flair_richtext': [],\n",
       "  'subreddit_name_prefixed': 'r/keto',\n",
       "  'hidden': False,\n",
       "  'pwls': 6,\n",
       "  'link_flair_css_class': None,\n",
       "  'downs': 0,\n",
       "  'thumbnail_height': None,\n",
       "  'hide_score': False,\n",
       "  'name': 't3_eulv61',\n",
       "  'quarantine': False,\n",
       "  'link_flair_text_color': 'dark',\n",
       "  'author_flair_background_color': None,\n",
       "  'subreddit_type': 'public',\n",
       "  'ups': 7,\n",
       "  'total_awards_received': 0,\n",
       "  'media_embed': {},\n",
       "  'thumbnail_width': None,\n",
       "  'author_flair_template_id': None,\n",
       "  'is_original_content': False,\n",
       "  'user_reports': [],\n",
       "  'secure_media': None,\n",
       "  'is_reddit_media_domain': False,\n",
       "  'is_meta': False,\n",
       "  'category': None,\n",
       "  'secure_media_embed': {},\n",
       "  'link_flair_text': None,\n",
       "  'can_mod_post': False,\n",
       "  'score': 7,\n",
       "  'approved_by': None,\n",
       "  'author_premium': True,\n",
       "  'thumbnail': 'self',\n",
       "  'edited': False,\n",
       "  'author_flair_css_class': None,\n",
       "  'author_flair_richtext': [],\n",
       "  'gildings': {},\n",
       "  'content_categories': None,\n",
       "  'is_self': True,\n",
       "  'mod_note': None,\n",
       "  'created': 1580147583.0,\n",
       "  'link_flair_type': 'text',\n",
       "  'wls': 6,\n",
       "  'removed_by_category': None,\n",
       "  'banned_by': None,\n",
       "  'author_flair_type': 'text',\n",
       "  'domain': 'self.keto',\n",
       "  'allow_live_comments': True,\n",
       "  'selftext_html': '&lt;!-- SC_OFF --&gt;&lt;div class=\"md\"&gt;&lt;p&gt;Happy Monday &lt;a href=\"/r/keto\"&gt;/r/keto&lt;/a&gt;!&lt;/p&gt;\\n\\n&lt;p&gt;We know you&amp;#39;ve been slaving away in the kitchen - getting your meal prep done for the week, cooking family dinners, crankin&amp;#39; out healthy lunches - you know, gettin&amp;#39; your Keto on. So, let&amp;#39;s see it! &lt;/p&gt;\\n\\n&lt;p&gt;How do you like to meal prep? Are there recipes you like to revisit regularly? Something you&amp;#39;re trying to perfect? Show everyone what ya got!&lt;/p&gt;\\n\\n&lt;p&gt;&lt;strong&gt;If you&amp;#39;re new to &lt;a href=\"/r/keto\"&gt;/r/keto&lt;/a&gt; and need some info, start with &lt;a href=\"https://www.reddit.com/r/keto/wiki/keto_in_a_nutshell\"&gt;Keto in a Nutshell&lt;/a&gt; and &lt;a href=\"https://www.reddit.com/r/keto/wiki/faq\"&gt;the FAQ&lt;/a&gt;. Or, if you have a question that doesn&amp;#39;t seem to be covered, head on over to the Community Support thread (pinned to the top of the subreddit) and ask the community!&lt;/strong&gt;&lt;/p&gt;\\n&lt;/div&gt;&lt;!-- SC_ON --&gt;',\n",
       "  'likes': None,\n",
       "  'suggested_sort': None,\n",
       "  'banned_at_utc': None,\n",
       "  'view_count': None,\n",
       "  'archived': False,\n",
       "  'no_follow': True,\n",
       "  'is_crosspostable': False,\n",
       "  'pinned': False,\n",
       "  'over_18': False,\n",
       "  'all_awardings': [],\n",
       "  'awarders': [],\n",
       "  'media_only': False,\n",
       "  'can_gild': False,\n",
       "  'spoiler': False,\n",
       "  'locked': False,\n",
       "  'author_flair_text': None,\n",
       "  'visited': False,\n",
       "  'removed_by': None,\n",
       "  'num_reports': None,\n",
       "  'distinguished': 'moderator',\n",
       "  'subreddit_id': 't5_2rske',\n",
       "  'mod_reason_by': None,\n",
       "  'removal_reason': None,\n",
       "  'link_flair_background_color': '',\n",
       "  'id': 'eulv61',\n",
       "  'is_robot_indexable': True,\n",
       "  'report_reasons': None,\n",
       "  'author': 'AutoModerator',\n",
       "  'discussion_type': None,\n",
       "  'num_comments': 25,\n",
       "  'send_replies': False,\n",
       "  'whitelist_status': 'all_ads',\n",
       "  'contest_mode': False,\n",
       "  'mod_reports': [],\n",
       "  'author_patreon_flair': False,\n",
       "  'author_flair_text_color': None,\n",
       "  'permalink': '/r/keto/comments/eulv61/20200127_my_meal_monday_what_are_you_eating/',\n",
       "  'parent_whitelist_status': 'all_ads',\n",
       "  'stickied': True,\n",
       "  'url': 'https://www.reddit.com/r/keto/comments/eulv61/20200127_my_meal_monday_what_are_you_eating/',\n",
       "  'subreddit_subscribers': 1675931,\n",
       "  'created_utc': 1580118783.0,\n",
       "  'num_crossposts': 0,\n",
       "  'media': None,\n",
       "  'is_video': False}}"
      ]
     },
     "execution_count": 7,
     "metadata": {},
     "output_type": "execute_result"
    }
   ],
   "source": [
    "the_json['data']['children'][0]"
   ]
  },
  {
   "cell_type": "code",
   "execution_count": 8,
   "metadata": {},
   "outputs": [
    {
     "data": {
      "text/plain": [
       "'t3_ev8d59'"
      ]
     },
     "execution_count": 8,
     "metadata": {},
     "output_type": "execute_result"
    }
   ],
   "source": [
    "#this will tell you this is the last post reddit got on this subject \n",
    "the_json['data']['after']"
   ]
  },
  {
   "cell_type": "code",
   "execution_count": 9,
   "metadata": {},
   "outputs": [],
   "source": [
    "base_url=\"https://www.reddit.com/r/keto.json\"\n",
    "headers={'User-agent':'boscobrandv1'}\n",
    "params={'after':'t3_eta4k2'}\n",
    "res=requests.get(base_url,headers=headers)"
   ]
  },
  {
   "cell_type": "code",
   "execution_count": 10,
   "metadata": {},
   "outputs": [
    {
     "name": "stdout",
     "output_type": "stream",
     "text": [
      "503\n"
     ]
    }
   ],
   "source": [
    "posts = []\n",
    "after = None\n",
    "for i in range(500):\n",
    "    if after == None:\n",
    "        params = {}\n",
    "    else:\n",
    "        params = {'after': after}\n",
    "    res = requests.get(base_url, headers = headers, params = params)\n",
    "    if res.status_code == 200:\n",
    "        the_json = res.json()\n",
    "        posts.extend(the_json['data']['children'])\n",
    "        after = the_json['data']['after']\n",
    "    else:\n",
    "        print(res.status_code)\n",
    "        break\n",
    "    time.sleep(0.5)"
   ]
  },
  {
   "cell_type": "code",
   "execution_count": 11,
   "metadata": {},
   "outputs": [],
   "source": [
    "title = []\n",
    "selftext = []\n",
    "ident = []\n",
    "subreddit = []\n",
    "\n",
    "# Loop through all keto_posts and print the information that you think is important\n",
    "for post in posts:\n",
    "    title.append(post['data']['title'])\n",
    "    selftext.append(post['data']['selftext'])\n",
    "    ident.append(post['data']['id'])\n",
    "    subreddit.append(post['data']['subreddit'])"
   ]
  },
  {
   "cell_type": "code",
   "execution_count": 12,
   "metadata": {},
   "outputs": [],
   "source": [
    "df_keto = pd.DataFrame({\n",
    "    'ident': ident ,\n",
    "    'title': title,\n",
    "    'subreddit':subreddit,\n",
    "    'selftext':selftext,\n",
    "})"
   ]
  },
  {
   "cell_type": "code",
   "execution_count": 13,
   "metadata": {},
   "outputs": [
    {
     "name": "stdout",
     "output_type": "stream",
     "text": [
      "file saved\n"
     ]
    }
   ],
   "source": [
    "df_keto.to_csv('keto_output.csv')\n",
    "print('file saved')"
   ]
  },
  {
   "cell_type": "code",
   "execution_count": 14,
   "metadata": {},
   "outputs": [],
   "source": [
    "###THIS IS THE ONE YOU WERE WORKING ON THAT YOU NEED TO REPLICATE FOR WINE"
   ]
  },
  {
   "cell_type": "code",
   "execution_count": 15,
   "metadata": {},
   "outputs": [
    {
     "data": {
      "text/html": [
       "<div>\n",
       "<style scoped>\n",
       "    .dataframe tbody tr th:only-of-type {\n",
       "        vertical-align: middle;\n",
       "    }\n",
       "\n",
       "    .dataframe tbody tr th {\n",
       "        vertical-align: top;\n",
       "    }\n",
       "\n",
       "    .dataframe thead th {\n",
       "        text-align: right;\n",
       "    }\n",
       "</style>\n",
       "<table border=\"1\" class=\"dataframe\">\n",
       "  <thead>\n",
       "    <tr style=\"text-align: right;\">\n",
       "      <th></th>\n",
       "      <th>ident</th>\n",
       "      <th>title</th>\n",
       "      <th>subreddit</th>\n",
       "      <th>selftext</th>\n",
       "    </tr>\n",
       "  </thead>\n",
       "  <tbody>\n",
       "    <tr>\n",
       "      <td>0</td>\n",
       "      <td>eulv61</td>\n",
       "      <td>[2020-01-27] - [My Meal Monday] - What are YOU...</td>\n",
       "      <td>keto</td>\n",
       "      <td>Happy Monday /r/keto!\\n\\nWe know you've been s...</td>\n",
       "    </tr>\n",
       "    <tr>\n",
       "      <td>1</td>\n",
       "      <td>eum2jv</td>\n",
       "      <td>[2020-01-27] - /r/keto Beginners &amp;amp; Communi...</td>\n",
       "      <td>keto</td>\n",
       "      <td>Hello /r/keto Community!\\n\\nPlease use this su...</td>\n",
       "    </tr>\n",
       "    <tr>\n",
       "      <td>2</td>\n",
       "      <td>ev7cmj</td>\n",
       "      <td>NSV: \"I've lost a 40lb pound bag of dog food\"</td>\n",
       "      <td>keto</td>\n",
       "      <td>A friend asked my wife how much she's lost doi...</td>\n",
       "    </tr>\n",
       "    <tr>\n",
       "      <td>3</td>\n",
       "      <td>ev4cd2</td>\n",
       "      <td>After 25lbs lost I'm freezing NSV</td>\n",
       "      <td>keto</td>\n",
       "      <td>I'm almost 3 months into keto, and I'm so cold...</td>\n",
       "    </tr>\n",
       "    <tr>\n",
       "      <td>4</td>\n",
       "      <td>ev88o4</td>\n",
       "      <td>It’s unbelievable! SW 299 CW 230 GW 199</td>\n",
       "      <td>keto</td>\n",
       "      <td>I have lost 69lbs (nice) and it’s just unbelie...</td>\n",
       "    </tr>\n",
       "  </tbody>\n",
       "</table>\n",
       "</div>"
      ],
      "text/plain": [
       "    ident                                              title subreddit  \\\n",
       "0  eulv61  [2020-01-27] - [My Meal Monday] - What are YOU...      keto   \n",
       "1  eum2jv  [2020-01-27] - /r/keto Beginners &amp; Communi...      keto   \n",
       "2  ev7cmj      NSV: \"I've lost a 40lb pound bag of dog food\"      keto   \n",
       "3  ev4cd2                  After 25lbs lost I'm freezing NSV      keto   \n",
       "4  ev88o4            It’s unbelievable! SW 299 CW 230 GW 199      keto   \n",
       "\n",
       "                                            selftext  \n",
       "0  Happy Monday /r/keto!\\n\\nWe know you've been s...  \n",
       "1  Hello /r/keto Community!\\n\\nPlease use this su...  \n",
       "2  A friend asked my wife how much she's lost doi...  \n",
       "3  I'm almost 3 months into keto, and I'm so cold...  \n",
       "4  I have lost 69lbs (nice) and it’s just unbelie...  "
      ]
     },
     "execution_count": 15,
     "metadata": {},
     "output_type": "execute_result"
    }
   ],
   "source": [
    "df_keto.head()"
   ]
  },
  {
   "cell_type": "code",
   "execution_count": 16,
   "metadata": {},
   "outputs": [
    {
     "data": {
      "text/plain": [
       "(9390, 4)"
      ]
     },
     "execution_count": 16,
     "metadata": {},
     "output_type": "execute_result"
    }
   ],
   "source": [
    "df_keto.shape"
   ]
  },
  {
   "cell_type": "markdown",
   "metadata": {},
   "source": [
    "**CAPTURING THE WINE SUBREDDIT**"
   ]
  },
  {
   "cell_type": "code",
   "execution_count": 32,
   "metadata": {},
   "outputs": [],
   "source": [
    "import requests\n",
    "import pandas as pd\n",
    "import time"
   ]
  },
  {
   "cell_type": "code",
   "execution_count": 33,
   "metadata": {},
   "outputs": [],
   "source": [
    "t1 = time.time()"
   ]
  },
  {
   "cell_type": "code",
   "execution_count": 34,
   "metadata": {},
   "outputs": [
    {
     "name": "stdout",
     "output_type": "stream",
     "text": [
      "1553899033.5911467\n"
     ]
    }
   ],
   "source": [
    "print((time.time()-t1/60))"
   ]
  },
  {
   "cell_type": "code",
   "execution_count": 47,
   "metadata": {},
   "outputs": [],
   "source": [
    "base_url=\"https://www.reddit.com/r/wine.json\"\n",
    "headers={'User-agent':'boscobrandv1'}\n",
    "res=requests.get(base_url,headers=headers)"
   ]
  },
  {
   "cell_type": "code",
   "execution_count": 48,
   "metadata": {},
   "outputs": [],
   "source": [
    "the_json=res.json()"
   ]
  },
  {
   "cell_type": "code",
   "execution_count": 49,
   "metadata": {},
   "outputs": [
    {
     "data": {
      "text/plain": [
       "<function dict.keys>"
      ]
     },
     "execution_count": 49,
     "metadata": {},
     "output_type": "execute_result"
    }
   ],
   "source": [
    "the_json.keys"
   ]
  },
  {
   "cell_type": "code",
   "execution_count": 50,
   "metadata": {},
   "outputs": [
    {
     "data": {
      "text/plain": [
       "{'kind': 't3',\n",
       " 'data': {'approved_at_utc': None,\n",
       "  'subreddit': 'wine',\n",
       "  'selftext': 'People are going to go out of business if this happens. Lives will be ruined.\\n\\n**Click Here to Email Your U.S. House Representative:**\\n\\nhttps://account.votility.com/enterprise/NAWR/ec/698\\n\\n**Click Here to Email Your U.S. Senators:**\\n\\nhttps://account.votility.com/enterprise/NAWR/ec/697\\n\\n\\n**WRITE THE U.S. TRADE REPRESENTATIVE**\\n \\nBelow is wording for a letter that you can use to write to the U.S. Trade Representative at the website they have created to take input on proposed tariffs.\\n\\n1. Copy the letter below (or add personalization as you like).\\n\\n2. Then click on the link at the end of the letter.\\n\\n3. Then paste the wording into the box provided for writing commentary. Remember to put your name and address in the area reserved for them.\\n\\n\\nThe Honorable Robert Lighthizer\\nU.S. Trade Representative\\nExecutive Office of the President\\n600 17th Street, NW\\nWashington, DC 20006\\n\\n \\n\\nRe: Opposition to Tariffs on Imported Wine from the European Union\\n\\n \\n\\nDear Amb. Lighthizer:\\n\\n \\n\\nI am writing as a customer and consumer of imported and domestic wines that is concerned with the multiple rounds of tariffs that are being imposed and considered on wine from the European Union (“EU”). I strongly urge you not to punish me, or my fellow wine lovers, or hardworking wine retailers, for problems we didn’t cause. It’s unfair at face value. You should punish those responsible. Punishing Airbus and their suppliers and French digital services companies would be much more effective, as well as fair.\\n\\nBeginning on October 18, 2019, the U.S. Government imposed a 25-percent tariff on certain French wine as part of retaliatory tariffs against the European Union (“EU”) after the World Trade Organization authorized retaliation for the EU’s failure to comply with WTO rulings on subsidies provided to Airbus. All the while Airbus itself was only issued a 10% tariff. I understand that a 100-percent tariff is proposed on French sparkling wine (consisting mostly of champagne) and that this tariff is part of the Section 301 duties imposed on imports from France as a result of the country’s Digital Services Tax (“DST”). Finally, on December 10, 2019, USTR proposed imposing tariffs of up to 100 percent on all wines from the EU.\\n\\nBecause of these import tariffs, the prices will go up dramatically for wine. Margins on wine are extremely small, and the sale of wine is highly regulated, with virtually every state imposing a three-tier distribution system with markups occurring at each tier of distribution. Thus, a 25-percent tariff on wine imports will likely result in a 50-percent increase and a 100-percent tariff on wine imports will likely result in a 150-percent increase in prices for a consumer like me.\\n\\n \\n\\nThere is no substitute for imports of wine from the EU. Wines from the EU are different from domestic wines and wines from other countries as a matter of consumer taste. In addition, because it takes many years to plant new grape vineyards and allow the vineyards to produce mature fruit that can be harvested to make wine, it will take at least a decade before the U.S. domestic wine industry could ever be in a position to begin replacing wine imports from the EU.\\n\\n \\n\\nAs a wine consumer, I do not understand why individual consumers like me and small U.S. businesses should suffer because of a dispute involving Boeing and Airbus or France’s digital services tax. Retaliatory tariffs on these matters should target Airbus and their suppliers who benefitted from the subsidies, and French digital services companies.\\n\\n\\n**Click To Email the above letter to the U.S. Trade Representative:**\\n\\nhttps://www.regulations.gov/comment?D=USTR-2019-0003-2518',\n",
       "  'author_fullname': 't2_6o9va',\n",
       "  'saved': False,\n",
       "  'mod_reason_title': None,\n",
       "  'gilded': 0,\n",
       "  'clicked': False,\n",
       "  'title': 'US r/wine-rs. Add your voice in opposition to the proposed 100% tariff on European wine.',\n",
       "  'link_flair_richtext': [],\n",
       "  'subreddit_name_prefixed': 'r/wine',\n",
       "  'hidden': False,\n",
       "  'pwls': 6,\n",
       "  'link_flair_css_class': None,\n",
       "  'downs': 0,\n",
       "  'thumbnail_height': None,\n",
       "  'hide_score': False,\n",
       "  'name': 't3_egg1bz',\n",
       "  'quarantine': False,\n",
       "  'link_flair_text_color': 'dark',\n",
       "  'author_flair_background_color': '',\n",
       "  'subreddit_type': 'public',\n",
       "  'ups': 160,\n",
       "  'total_awards_received': 0,\n",
       "  'media_embed': {},\n",
       "  'thumbnail_width': None,\n",
       "  'author_flair_template_id': None,\n",
       "  'is_original_content': False,\n",
       "  'user_reports': [],\n",
       "  'secure_media': None,\n",
       "  'is_reddit_media_domain': False,\n",
       "  'is_meta': False,\n",
       "  'category': None,\n",
       "  'secure_media_embed': {},\n",
       "  'link_flair_text': None,\n",
       "  'can_mod_post': False,\n",
       "  'score': 160,\n",
       "  'approved_by': None,\n",
       "  'author_premium': True,\n",
       "  'thumbnail': 'self',\n",
       "  'edited': False,\n",
       "  'author_flair_css_class': '',\n",
       "  'author_flair_richtext': [],\n",
       "  'gildings': {},\n",
       "  'content_categories': None,\n",
       "  'is_self': True,\n",
       "  'mod_note': None,\n",
       "  'created': 1577505683.0,\n",
       "  'link_flair_type': 'text',\n",
       "  'wls': 6,\n",
       "  'removed_by_category': None,\n",
       "  'banned_by': None,\n",
       "  'author_flair_type': 'text',\n",
       "  'domain': 'self.wine',\n",
       "  'allow_live_comments': True,\n",
       "  'selftext_html': '&lt;!-- SC_OFF --&gt;&lt;div class=\"md\"&gt;&lt;p&gt;People are going to go out of business if this happens. Lives will be ruined.&lt;/p&gt;\\n\\n&lt;p&gt;&lt;strong&gt;Click Here to Email Your U.S. House Representative:&lt;/strong&gt;&lt;/p&gt;\\n\\n&lt;p&gt;&lt;a href=\"https://account.votility.com/enterprise/NAWR/ec/698\"&gt;https://account.votility.com/enterprise/NAWR/ec/698&lt;/a&gt;&lt;/p&gt;\\n\\n&lt;p&gt;&lt;strong&gt;Click Here to Email Your U.S. Senators:&lt;/strong&gt;&lt;/p&gt;\\n\\n&lt;p&gt;&lt;a href=\"https://account.votility.com/enterprise/NAWR/ec/697\"&gt;https://account.votility.com/enterprise/NAWR/ec/697&lt;/a&gt;&lt;/p&gt;\\n\\n&lt;p&gt;&lt;strong&gt;WRITE THE U.S. TRADE REPRESENTATIVE&lt;/strong&gt;&lt;/p&gt;\\n\\n&lt;p&gt;Below is wording for a letter that you can use to write to the U.S. Trade Representative at the website they have created to take input on proposed tariffs.&lt;/p&gt;\\n\\n&lt;ol&gt;\\n&lt;li&gt;&lt;p&gt;Copy the letter below (or add personalization as you like).&lt;/p&gt;&lt;/li&gt;\\n&lt;li&gt;&lt;p&gt;Then click on the link at the end of the letter.&lt;/p&gt;&lt;/li&gt;\\n&lt;li&gt;&lt;p&gt;Then paste the wording into the box provided for writing commentary. Remember to put your name and address in the area reserved for them.&lt;/p&gt;&lt;/li&gt;\\n&lt;/ol&gt;\\n\\n&lt;p&gt;The Honorable Robert Lighthizer\\nU.S. Trade Representative\\nExecutive Office of the President\\n600 17th Street, NW\\nWashington, DC 20006&lt;/p&gt;\\n\\n&lt;p&gt;Re: Opposition to Tariffs on Imported Wine from the European Union&lt;/p&gt;\\n\\n&lt;p&gt;Dear Amb. Lighthizer:&lt;/p&gt;\\n\\n&lt;p&gt;I am writing as a customer and consumer of imported and domestic wines that is concerned with the multiple rounds of tariffs that are being imposed and considered on wine from the European Union (“EU”). I strongly urge you not to punish me, or my fellow wine lovers, or hardworking wine retailers, for problems we didn’t cause. It’s unfair at face value. You should punish those responsible. Punishing Airbus and their suppliers and French digital services companies would be much more effective, as well as fair.&lt;/p&gt;\\n\\n&lt;p&gt;Beginning on October 18, 2019, the U.S. Government imposed a 25-percent tariff on certain French wine as part of retaliatory tariffs against the European Union (“EU”) after the World Trade Organization authorized retaliation for the EU’s failure to comply with WTO rulings on subsidies provided to Airbus. All the while Airbus itself was only issued a 10% tariff. I understand that a 100-percent tariff is proposed on French sparkling wine (consisting mostly of champagne) and that this tariff is part of the Section 301 duties imposed on imports from France as a result of the country’s Digital Services Tax (“DST”). Finally, on December 10, 2019, USTR proposed imposing tariffs of up to 100 percent on all wines from the EU.&lt;/p&gt;\\n\\n&lt;p&gt;Because of these import tariffs, the prices will go up dramatically for wine. Margins on wine are extremely small, and the sale of wine is highly regulated, with virtually every state imposing a three-tier distribution system with markups occurring at each tier of distribution. Thus, a 25-percent tariff on wine imports will likely result in a 50-percent increase and a 100-percent tariff on wine imports will likely result in a 150-percent increase in prices for a consumer like me.&lt;/p&gt;\\n\\n&lt;p&gt;There is no substitute for imports of wine from the EU. Wines from the EU are different from domestic wines and wines from other countries as a matter of consumer taste. In addition, because it takes many years to plant new grape vineyards and allow the vineyards to produce mature fruit that can be harvested to make wine, it will take at least a decade before the U.S. domestic wine industry could ever be in a position to begin replacing wine imports from the EU.&lt;/p&gt;\\n\\n&lt;p&gt;As a wine consumer, I do not understand why individual consumers like me and small U.S. businesses should suffer because of a dispute involving Boeing and Airbus or France’s digital services tax. Retaliatory tariffs on these matters should target Airbus and their suppliers who benefitted from the subsidies, and French digital services companies.&lt;/p&gt;\\n\\n&lt;p&gt;&lt;strong&gt;Click To Email the above letter to the U.S. Trade Representative:&lt;/strong&gt;&lt;/p&gt;\\n\\n&lt;p&gt;&lt;a href=\"https://www.regulations.gov/comment?D=USTR-2019-0003-2518\"&gt;https://www.regulations.gov/comment?D=USTR-2019-0003-2518&lt;/a&gt;&lt;/p&gt;\\n&lt;/div&gt;&lt;!-- SC_ON --&gt;',\n",
       "  'likes': None,\n",
       "  'suggested_sort': None,\n",
       "  'banned_at_utc': None,\n",
       "  'view_count': None,\n",
       "  'archived': False,\n",
       "  'no_follow': False,\n",
       "  'is_crosspostable': False,\n",
       "  'pinned': False,\n",
       "  'over_18': False,\n",
       "  'all_awardings': [],\n",
       "  'awarders': [],\n",
       "  'media_only': False,\n",
       "  'can_gild': False,\n",
       "  'spoiler': False,\n",
       "  'locked': False,\n",
       "  'author_flair_text': 'Wine Pro',\n",
       "  'visited': False,\n",
       "  'removed_by': None,\n",
       "  'num_reports': None,\n",
       "  'distinguished': 'moderator',\n",
       "  'subreddit_id': 't5_2qhs8',\n",
       "  'mod_reason_by': None,\n",
       "  'removal_reason': None,\n",
       "  'link_flair_background_color': '',\n",
       "  'id': 'egg1bz',\n",
       "  'is_robot_indexable': True,\n",
       "  'report_reasons': None,\n",
       "  'author': 'ChampagneFloozy',\n",
       "  'discussion_type': None,\n",
       "  'num_comments': 87,\n",
       "  'send_replies': True,\n",
       "  'whitelist_status': 'all_ads',\n",
       "  'contest_mode': False,\n",
       "  'mod_reports': [],\n",
       "  'author_patreon_flair': False,\n",
       "  'author_flair_text_color': 'dark',\n",
       "  'permalink': '/r/wine/comments/egg1bz/us_rwiners_add_your_voice_in_opposition_to_the/',\n",
       "  'parent_whitelist_status': 'all_ads',\n",
       "  'stickied': True,\n",
       "  'url': 'https://www.reddit.com/r/wine/comments/egg1bz/us_rwiners_add_your_voice_in_opposition_to_the/',\n",
       "  'subreddit_subscribers': 106036,\n",
       "  'created_utc': 1577476883.0,\n",
       "  'num_crossposts': 0,\n",
       "  'media': None,\n",
       "  'is_video': False}}"
      ]
     },
     "execution_count": 50,
     "metadata": {},
     "output_type": "execute_result"
    }
   ],
   "source": [
    "the_json['data']['children'][0]"
   ]
  },
  {
   "cell_type": "code",
   "execution_count": 51,
   "metadata": {},
   "outputs": [
    {
     "data": {
      "text/plain": [
       "'t3_ev0k6p'"
      ]
     },
     "execution_count": 51,
     "metadata": {},
     "output_type": "execute_result"
    }
   ],
   "source": [
    "#this will tell you this is the last post reddit got on this subject \n",
    "the_json['data']['after']"
   ]
  },
  {
   "cell_type": "code",
   "execution_count": 52,
   "metadata": {},
   "outputs": [],
   "source": [
    "base_url=\"https://www.reddit.com/r/wine.json\"\n",
    "headers={'User-agent':'boscobrandv1'}\n",
    "params={'after':'t3_euu194'}\n",
    "res=requests.get(base_url,headers=headers)"
   ]
  },
  {
   "cell_type": "code",
   "execution_count": 53,
   "metadata": {},
   "outputs": [
    {
     "name": "stdout",
     "output_type": "stream",
     "text": [
      "503\n"
     ]
    }
   ],
   "source": [
    "posts = []\n",
    "after = None\n",
    "for i in range(500):\n",
    "    if after == None:\n",
    "        params = {}\n",
    "    else:\n",
    "        params = {'after': after}\n",
    "    res = requests.get(base_url, headers = headers, params = params)\n",
    "    if res.status_code == 200:\n",
    "        the_json = res.json()\n",
    "        posts.extend(the_json['data']['children'])\n",
    "        after = the_json['data']['after']\n",
    "    else:\n",
    "        print(res.status_code)\n",
    "        break\n",
    "    time.sleep(1)"
   ]
  },
  {
   "cell_type": "code",
   "execution_count": 54,
   "metadata": {},
   "outputs": [],
   "source": [
    "title = []\n",
    "selftext = []\n",
    "ident = []\n",
    "subreddit = []\n",
    "\n",
    "# Loop through all wine_posts and print the information that you think is important\n",
    "for post in posts:\n",
    "    title.append(post['data']['title'])\n",
    "    selftext.append(post['data']['selftext'])\n",
    "    ident.append(post['data']['id'])\n",
    "    subreddit.append(post['data']['subreddit'])"
   ]
  },
  {
   "cell_type": "code",
   "execution_count": 55,
   "metadata": {},
   "outputs": [],
   "source": [
    "df_wine = pd.DataFrame({\n",
    "    'ident': ident ,\n",
    "    'title': title,\n",
    "    'subreddit':subreddit,\n",
    "    'selftext':selftext,\n",
    "})"
   ]
  },
  {
   "cell_type": "code",
   "execution_count": 56,
   "metadata": {},
   "outputs": [
    {
     "name": "stdout",
     "output_type": "stream",
     "text": [
      "file saved\n"
     ]
    }
   ],
   "source": [
    "df_wine.to_csv('wine_output.csv')\n",
    "print('file saved')"
   ]
  },
  {
   "cell_type": "code",
   "execution_count": 57,
   "metadata": {},
   "outputs": [
    {
     "data": {
      "text/html": [
       "<div>\n",
       "<style scoped>\n",
       "    .dataframe tbody tr th:only-of-type {\n",
       "        vertical-align: middle;\n",
       "    }\n",
       "\n",
       "    .dataframe tbody tr th {\n",
       "        vertical-align: top;\n",
       "    }\n",
       "\n",
       "    .dataframe thead th {\n",
       "        text-align: right;\n",
       "    }\n",
       "</style>\n",
       "<table border=\"1\" class=\"dataframe\">\n",
       "  <thead>\n",
       "    <tr style=\"text-align: right;\">\n",
       "      <th></th>\n",
       "      <th>ident</th>\n",
       "      <th>title</th>\n",
       "      <th>subreddit</th>\n",
       "      <th>selftext</th>\n",
       "    </tr>\n",
       "  </thead>\n",
       "  <tbody>\n",
       "    <tr>\n",
       "      <td>0</td>\n",
       "      <td>egg1bz</td>\n",
       "      <td>US r/wine-rs. Add your voice in opposition to ...</td>\n",
       "      <td>wine</td>\n",
       "      <td>People are going to go out of business if this...</td>\n",
       "    </tr>\n",
       "    <tr>\n",
       "      <td>1</td>\n",
       "      <td>epsjwk</td>\n",
       "      <td>***MWC Experimental Series #1 - January 2020 T...</td>\n",
       "      <td>wine</td>\n",
       "      <td>Hi Everyone!\\n\\nWelcome to the first tasting n...</td>\n",
       "    </tr>\n",
       "    <tr>\n",
       "      <td>2</td>\n",
       "      <td>ev69hk</td>\n",
       "      <td>Vertical tasting of 8 Bollinger VVF (1996-2010...</td>\n",
       "      <td>wine</td>\n",
       "      <td></td>\n",
       "    </tr>\n",
       "    <tr>\n",
       "      <td>3</td>\n",
       "      <td>ev77gy</td>\n",
       "      <td>Opened to celebrate a newborn in the family, g...</td>\n",
       "      <td>wine</td>\n",
       "      <td></td>\n",
       "    </tr>\n",
       "    <tr>\n",
       "      <td>4</td>\n",
       "      <td>euyqfh</td>\n",
       "      <td>Sweet Mother of Beaujolais. Yann Bertrand - Ph...</td>\n",
       "      <td>wine</td>\n",
       "      <td></td>\n",
       "    </tr>\n",
       "  </tbody>\n",
       "</table>\n",
       "</div>"
      ],
      "text/plain": [
       "    ident                                              title subreddit  \\\n",
       "0  egg1bz  US r/wine-rs. Add your voice in opposition to ...      wine   \n",
       "1  epsjwk  ***MWC Experimental Series #1 - January 2020 T...      wine   \n",
       "2  ev69hk  Vertical tasting of 8 Bollinger VVF (1996-2010...      wine   \n",
       "3  ev77gy  Opened to celebrate a newborn in the family, g...      wine   \n",
       "4  euyqfh  Sweet Mother of Beaujolais. Yann Bertrand - Ph...      wine   \n",
       "\n",
       "                                            selftext  \n",
       "0  People are going to go out of business if this...  \n",
       "1  Hi Everyone!\\n\\nWelcome to the first tasting n...  \n",
       "2                                                     \n",
       "3                                                     \n",
       "4                                                     "
      ]
     },
     "execution_count": 57,
     "metadata": {},
     "output_type": "execute_result"
    }
   ],
   "source": [
    "df_wine.head()"
   ]
  },
  {
   "cell_type": "code",
   "execution_count": 58,
   "metadata": {},
   "outputs": [
    {
     "data": {
      "text/plain": [
       "(11831, 4)"
      ]
     },
     "execution_count": 58,
     "metadata": {},
     "output_type": "execute_result"
    }
   ],
   "source": [
    "df_wine.shape"
   ]
  },
  {
   "cell_type": "code",
   "execution_count": null,
   "metadata": {},
   "outputs": [],
   "source": []
  }
 ],
 "metadata": {
  "kernelspec": {
   "display_name": "Python 3",
   "language": "python",
   "name": "python3"
  },
  "language_info": {
   "codemirror_mode": {
    "name": "ipython",
    "version": 3
   },
   "file_extension": ".py",
   "mimetype": "text/x-python",
   "name": "python",
   "nbconvert_exporter": "python",
   "pygments_lexer": "ipython3",
   "version": "3.7.4"
  }
 },
 "nbformat": 4,
 "nbformat_minor": 2
}
