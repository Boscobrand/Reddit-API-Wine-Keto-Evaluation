{
 "cells": [
  {
   "cell_type": "markdown",
   "metadata": {},
   "source": [
    "## PROJECT 3 - PART D\n",
    "\n",
    "### ASSEMBLY OF KETO AND WINE DATAFRAMES,  EDA AND MODELING"
   ]
  },
  {
   "cell_type": "markdown",
   "metadata": {},
   "source": [
    "**OVERVIEW**\n",
    "\n",
    "At this stage we will be focusing on:\n",
    "\n",
    "- Balancing the data we collected between our two datafames to drive an effective train-test-split without having to deal with unbalanced classes.\n",
    "- Concatenating the two dataframes and focusing our features on the most important and most text-rich elements. \n",
    "- Combining our text columns to optimize our use of the vectorizer\n",
    "- Conducting EDA on our data to extract insights on word counts and distribution between both subreddits\n",
    "- Running our Logistic Regression and Multinomial Naive Bayes models \n",
    "- Analyzing our Accuracy scores, as well as Sensitivity and Specificity through an ROC AUC chart\n"
   ]
  },
  {
   "cell_type": "markdown",
   "metadata": {},
   "source": [
    "**PREPARATION**"
   ]
  },
  {
   "cell_type": "code",
   "execution_count": 1,
   "metadata": {},
   "outputs": [],
   "source": [
    "import pandas as pd\n",
    "import numpy as np\n",
    "import matplotlib.pyplot as plt\n",
    "import seaborn as sns\n",
    "\n",
    "%matplotlib inline\n",
    "\n",
    "import nltk\n",
    "import json\n",
    "from nltk.stem import WordNetLemmatizer\n",
    "from nltk.tokenize import RegexpTokenizer\n",
    "import regex as re\n",
    "\n",
    "from nltk.corpus import stopwords\n",
    "from bs4 import BeautifulSoup\n",
    "from sklearn.pipeline import Pipeline\n",
    "from sklearn.model_selection import train_test_split, GridSearchCV\n",
    "from sklearn.linear_model import LogisticRegression\n",
    "# Import CountVectorizer and TFIDFVectorizer from feature_extraction.text.\n",
    "from sklearn.feature_extraction.text import CountVectorizer, TfidfVectorizer\n",
    "from sklearn.metrics import confusion_matrix\n",
    "from sklearn.naive_bayes import BernoulliNB\n",
    "from sklearn.naive_bayes import MultinomialNB"
   ]
  },
  {
   "cell_type": "code",
   "execution_count": 2,
   "metadata": {},
   "outputs": [],
   "source": [
    "keto= pd.read_csv('keto_push_clean.csv')\n",
    "keto.drop(columns = ['Unnamed: 0'],inplace=True)"
   ]
  },
  {
   "cell_type": "code",
   "execution_count": 3,
   "metadata": {},
   "outputs": [],
   "source": [
    "wine= pd.read_csv('wine_push_clean.csv')\n",
    "wine.drop(columns = ['Unnamed: 0'],inplace=True)"
   ]
  },
  {
   "cell_type": "markdown",
   "metadata": {},
   "source": [
    "**BALANCE THE DATAFRAMES**"
   ]
  },
  {
   "cell_type": "code",
   "execution_count": 4,
   "metadata": {},
   "outputs": [
    {
     "data": {
      "text/html": [
       "<div>\n",
       "<style scoped>\n",
       "    .dataframe tbody tr th:only-of-type {\n",
       "        vertical-align: middle;\n",
       "    }\n",
       "\n",
       "    .dataframe tbody tr th {\n",
       "        vertical-align: top;\n",
       "    }\n",
       "\n",
       "    .dataframe thead th {\n",
       "        text-align: right;\n",
       "    }\n",
       "</style>\n",
       "<table border=\"1\" class=\"dataframe\">\n",
       "  <thead>\n",
       "    <tr style=\"text-align: right;\">\n",
       "      <th></th>\n",
       "      <th>title</th>\n",
       "      <th>selftext</th>\n",
       "      <th>subreddit</th>\n",
       "      <th>created_utc</th>\n",
       "      <th>author</th>\n",
       "      <th>num_comments</th>\n",
       "      <th>score</th>\n",
       "      <th>is_self</th>\n",
       "      <th>timestamp</th>\n",
       "    </tr>\n",
       "  </thead>\n",
       "  <tbody>\n",
       "    <tr>\n",
       "      <td>0</td>\n",
       "      <td>It's been a hot minute</td>\n",
       "      <td>I keep getting off track when it comes to keto...</td>\n",
       "      <td>keto</td>\n",
       "      <td>1580160840</td>\n",
       "      <td>bbwsoontobebw</td>\n",
       "      <td>5</td>\n",
       "      <td>1</td>\n",
       "      <td>True</td>\n",
       "      <td>2020-01-27</td>\n",
       "    </tr>\n",
       "    <tr>\n",
       "      <td>1</td>\n",
       "      <td>Type 1 Diabetes on Keto</td>\n",
       "      <td>Hello, I’m beginning my second month of keto. ...</td>\n",
       "      <td>keto</td>\n",
       "      <td>1580160905</td>\n",
       "      <td>iWantNotToWant</td>\n",
       "      <td>10</td>\n",
       "      <td>1</td>\n",
       "      <td>True</td>\n",
       "      <td>2020-01-27</td>\n",
       "    </tr>\n",
       "    <tr>\n",
       "      <td>2</td>\n",
       "      <td>Week 3,5 and intense cravings for bread and rice</td>\n",
       "      <td>Week 3,5 and I am having intense cravings for ...</td>\n",
       "      <td>keto</td>\n",
       "      <td>1580161118</td>\n",
       "      <td>littleboo2theboo</td>\n",
       "      <td>10</td>\n",
       "      <td>1</td>\n",
       "      <td>True</td>\n",
       "      <td>2020-01-27</td>\n",
       "    </tr>\n",
       "    <tr>\n",
       "      <td>3</td>\n",
       "      <td>12-Week Challenge at the gym and looking for t...</td>\n",
       "      <td>Hi guys,\\n\\nI am looking for some advice. I di...</td>\n",
       "      <td>keto</td>\n",
       "      <td>1580161503</td>\n",
       "      <td>chow_shepard</td>\n",
       "      <td>4</td>\n",
       "      <td>1</td>\n",
       "      <td>True</td>\n",
       "      <td>2020-01-27</td>\n",
       "    </tr>\n",
       "    <tr>\n",
       "      <td>4</td>\n",
       "      <td>Does never going \"Full Keto\" hurt my health?</td>\n",
       "      <td>Hello!\\n\\nI'm a active highschooler who avoids...</td>\n",
       "      <td>keto</td>\n",
       "      <td>1580161639</td>\n",
       "      <td>OrganizingChaosBrb</td>\n",
       "      <td>3</td>\n",
       "      <td>1</td>\n",
       "      <td>True</td>\n",
       "      <td>2020-01-27</td>\n",
       "    </tr>\n",
       "  </tbody>\n",
       "</table>\n",
       "</div>"
      ],
      "text/plain": [
       "                                               title  \\\n",
       "0                             It's been a hot minute   \n",
       "1                            Type 1 Diabetes on Keto   \n",
       "2   Week 3,5 and intense cravings for bread and rice   \n",
       "3  12-Week Challenge at the gym and looking for t...   \n",
       "4       Does never going \"Full Keto\" hurt my health?   \n",
       "\n",
       "                                            selftext subreddit  created_utc  \\\n",
       "0  I keep getting off track when it comes to keto...      keto   1580160840   \n",
       "1  Hello, I’m beginning my second month of keto. ...      keto   1580160905   \n",
       "2  Week 3,5 and I am having intense cravings for ...      keto   1580161118   \n",
       "3  Hi guys,\\n\\nI am looking for some advice. I di...      keto   1580161503   \n",
       "4  Hello!\\n\\nI'm a active highschooler who avoids...      keto   1580161639   \n",
       "\n",
       "               author  num_comments  score  is_self   timestamp  \n",
       "0       bbwsoontobebw             5      1     True  2020-01-27  \n",
       "1      iWantNotToWant            10      1     True  2020-01-27  \n",
       "2    littleboo2theboo            10      1     True  2020-01-27  \n",
       "3        chow_shepard             4      1     True  2020-01-27  \n",
       "4  OrganizingChaosBrb             3      1     True  2020-01-27  "
      ]
     },
     "execution_count": 4,
     "metadata": {},
     "output_type": "execute_result"
    }
   ],
   "source": [
    "keto.head()"
   ]
  },
  {
   "cell_type": "code",
   "execution_count": 5,
   "metadata": {},
   "outputs": [
    {
     "data": {
      "text/html": [
       "<div>\n",
       "<style scoped>\n",
       "    .dataframe tbody tr th:only-of-type {\n",
       "        vertical-align: middle;\n",
       "    }\n",
       "\n",
       "    .dataframe tbody tr th {\n",
       "        vertical-align: top;\n",
       "    }\n",
       "\n",
       "    .dataframe thead th {\n",
       "        text-align: right;\n",
       "    }\n",
       "</style>\n",
       "<table border=\"1\" class=\"dataframe\">\n",
       "  <thead>\n",
       "    <tr style=\"text-align: right;\">\n",
       "      <th></th>\n",
       "      <th>title</th>\n",
       "      <th>selftext</th>\n",
       "      <th>subreddit</th>\n",
       "      <th>created_utc</th>\n",
       "      <th>author</th>\n",
       "      <th>num_comments</th>\n",
       "      <th>score</th>\n",
       "      <th>is_self</th>\n",
       "      <th>timestamp</th>\n",
       "    </tr>\n",
       "  </thead>\n",
       "  <tbody>\n",
       "    <tr>\n",
       "      <td>0</td>\n",
       "      <td>Looking for a summer job</td>\n",
       "      <td>Hi,\\n\\nI'm a 23 year-old man from the Netherla...</td>\n",
       "      <td>wine</td>\n",
       "      <td>1580165102</td>\n",
       "      <td>Loirettoux</td>\n",
       "      <td>3</td>\n",
       "      <td>1</td>\n",
       "      <td>True</td>\n",
       "      <td>2020-01-27</td>\n",
       "    </tr>\n",
       "    <tr>\n",
       "      <td>1</td>\n",
       "      <td>California whites</td>\n",
       "      <td>Whenever I try a Californian wine, it's always...</td>\n",
       "      <td>wine</td>\n",
       "      <td>1580170191</td>\n",
       "      <td>RaphGiroux</td>\n",
       "      <td>8</td>\n",
       "      <td>1</td>\n",
       "      <td>True</td>\n",
       "      <td>2020-01-27</td>\n",
       "    </tr>\n",
       "    <tr>\n",
       "      <td>2</td>\n",
       "      <td>Wine suggestions while in France (Provence)</td>\n",
       "      <td>Will be traveling to France and spending most ...</td>\n",
       "      <td>wine</td>\n",
       "      <td>1580177480</td>\n",
       "      <td>irishmuse</td>\n",
       "      <td>4</td>\n",
       "      <td>1</td>\n",
       "      <td>True</td>\n",
       "      <td>2020-01-27</td>\n",
       "    </tr>\n",
       "    <tr>\n",
       "      <td>3</td>\n",
       "      <td>Show me the Munny Hunny | Wine Industry Report...</td>\n",
       "      <td>If you are in the wine industry, congratulatio...</td>\n",
       "      <td>wine</td>\n",
       "      <td>1580177690</td>\n",
       "      <td>cudaeducation</td>\n",
       "      <td>0</td>\n",
       "      <td>1</td>\n",
       "      <td>True</td>\n",
       "      <td>2020-01-27</td>\n",
       "    </tr>\n",
       "    <tr>\n",
       "      <td>4</td>\n",
       "      <td>Going to Burgundy in May</td>\n",
       "      <td>Hi, I'll be going to Burgundy during May and w...</td>\n",
       "      <td>wine</td>\n",
       "      <td>1580182920</td>\n",
       "      <td>GaanZi</td>\n",
       "      <td>5</td>\n",
       "      <td>1</td>\n",
       "      <td>True</td>\n",
       "      <td>2020-01-27</td>\n",
       "    </tr>\n",
       "  </tbody>\n",
       "</table>\n",
       "</div>"
      ],
      "text/plain": [
       "                                               title  \\\n",
       "0                           Looking for a summer job   \n",
       "1                                  California whites   \n",
       "2        Wine suggestions while in France (Provence)   \n",
       "3  Show me the Munny Hunny | Wine Industry Report...   \n",
       "4                           Going to Burgundy in May   \n",
       "\n",
       "                                            selftext subreddit  created_utc  \\\n",
       "0  Hi,\\n\\nI'm a 23 year-old man from the Netherla...      wine   1580165102   \n",
       "1  Whenever I try a Californian wine, it's always...      wine   1580170191   \n",
       "2  Will be traveling to France and spending most ...      wine   1580177480   \n",
       "3  If you are in the wine industry, congratulatio...      wine   1580177690   \n",
       "4  Hi, I'll be going to Burgundy during May and w...      wine   1580182920   \n",
       "\n",
       "          author  num_comments  score  is_self   timestamp  \n",
       "0     Loirettoux             3      1     True  2020-01-27  \n",
       "1     RaphGiroux             8      1     True  2020-01-27  \n",
       "2      irishmuse             4      1     True  2020-01-27  \n",
       "3  cudaeducation             0      1     True  2020-01-27  \n",
       "4         GaanZi             5      1     True  2020-01-27  "
      ]
     },
     "execution_count": 5,
     "metadata": {},
     "output_type": "execute_result"
    }
   ],
   "source": [
    "wine.head()"
   ]
  },
  {
   "cell_type": "code",
   "execution_count": 6,
   "metadata": {},
   "outputs": [
    {
     "data": {
      "text/plain": [
       "(7894, 9)"
      ]
     },
     "execution_count": 6,
     "metadata": {},
     "output_type": "execute_result"
    }
   ],
   "source": [
    "keto.shape"
   ]
  },
  {
   "cell_type": "code",
   "execution_count": 7,
   "metadata": {},
   "outputs": [
    {
     "data": {
      "text/plain": [
       "(2882, 9)"
      ]
     },
     "execution_count": 7,
     "metadata": {},
     "output_type": "execute_result"
    }
   ],
   "source": [
    "wine.shape"
   ]
  },
  {
   "cell_type": "code",
   "execution_count": 8,
   "metadata": {},
   "outputs": [],
   "source": [
    "remove_n = 5012\n",
    "drop_indices = np.random.choice(keto.index, remove_n, replace=False)\n",
    "keto_subset = keto.drop(drop_indices)"
   ]
  },
  {
   "cell_type": "code",
   "execution_count": 9,
   "metadata": {},
   "outputs": [
    {
     "data": {
      "text/html": [
       "<div>\n",
       "<style scoped>\n",
       "    .dataframe tbody tr th:only-of-type {\n",
       "        vertical-align: middle;\n",
       "    }\n",
       "\n",
       "    .dataframe tbody tr th {\n",
       "        vertical-align: top;\n",
       "    }\n",
       "\n",
       "    .dataframe thead th {\n",
       "        text-align: right;\n",
       "    }\n",
       "</style>\n",
       "<table border=\"1\" class=\"dataframe\">\n",
       "  <thead>\n",
       "    <tr style=\"text-align: right;\">\n",
       "      <th></th>\n",
       "      <th>title</th>\n",
       "      <th>selftext</th>\n",
       "      <th>subreddit</th>\n",
       "      <th>created_utc</th>\n",
       "      <th>author</th>\n",
       "      <th>num_comments</th>\n",
       "      <th>score</th>\n",
       "      <th>is_self</th>\n",
       "      <th>timestamp</th>\n",
       "    </tr>\n",
       "  </thead>\n",
       "  <tbody>\n",
       "    <tr>\n",
       "      <td>0</td>\n",
       "      <td>It's been a hot minute</td>\n",
       "      <td>I keep getting off track when it comes to keto...</td>\n",
       "      <td>keto</td>\n",
       "      <td>1580160840</td>\n",
       "      <td>bbwsoontobebw</td>\n",
       "      <td>5</td>\n",
       "      <td>1</td>\n",
       "      <td>True</td>\n",
       "      <td>2020-01-27</td>\n",
       "    </tr>\n",
       "    <tr>\n",
       "      <td>2</td>\n",
       "      <td>Week 3,5 and intense cravings for bread and rice</td>\n",
       "      <td>Week 3,5 and I am having intense cravings for ...</td>\n",
       "      <td>keto</td>\n",
       "      <td>1580161118</td>\n",
       "      <td>littleboo2theboo</td>\n",
       "      <td>10</td>\n",
       "      <td>1</td>\n",
       "      <td>True</td>\n",
       "      <td>2020-01-27</td>\n",
       "    </tr>\n",
       "    <tr>\n",
       "      <td>4</td>\n",
       "      <td>Does never going \"Full Keto\" hurt my health?</td>\n",
       "      <td>Hello!\\n\\nI'm a active highschooler who avoids...</td>\n",
       "      <td>keto</td>\n",
       "      <td>1580161639</td>\n",
       "      <td>OrganizingChaosBrb</td>\n",
       "      <td>3</td>\n",
       "      <td>1</td>\n",
       "      <td>True</td>\n",
       "      <td>2020-01-27</td>\n",
       "    </tr>\n",
       "    <tr>\n",
       "      <td>7</td>\n",
       "      <td>Any Runners...</td>\n",
       "      <td>Hello Keto world!!\\n\\nI am wondering if there ...</td>\n",
       "      <td>keto</td>\n",
       "      <td>1580163761</td>\n",
       "      <td>SinfullyGood1974</td>\n",
       "      <td>12</td>\n",
       "      <td>1</td>\n",
       "      <td>True</td>\n",
       "      <td>2020-01-27</td>\n",
       "    </tr>\n",
       "    <tr>\n",
       "      <td>9</td>\n",
       "      <td>NSV: January 2019 - 56\" waist jeans. January 2...</td>\n",
       "      <td>Hey Ketoers!\\n\\nAs the subject line. Before I ...</td>\n",
       "      <td>keto</td>\n",
       "      <td>1580164528</td>\n",
       "      <td>opalfruity</td>\n",
       "      <td>5</td>\n",
       "      <td>1</td>\n",
       "      <td>True</td>\n",
       "      <td>2020-01-27</td>\n",
       "    </tr>\n",
       "  </tbody>\n",
       "</table>\n",
       "</div>"
      ],
      "text/plain": [
       "                                               title  \\\n",
       "0                             It's been a hot minute   \n",
       "2   Week 3,5 and intense cravings for bread and rice   \n",
       "4       Does never going \"Full Keto\" hurt my health?   \n",
       "7                                     Any Runners...   \n",
       "9  NSV: January 2019 - 56\" waist jeans. January 2...   \n",
       "\n",
       "                                            selftext subreddit  created_utc  \\\n",
       "0  I keep getting off track when it comes to keto...      keto   1580160840   \n",
       "2  Week 3,5 and I am having intense cravings for ...      keto   1580161118   \n",
       "4  Hello!\\n\\nI'm a active highschooler who avoids...      keto   1580161639   \n",
       "7  Hello Keto world!!\\n\\nI am wondering if there ...      keto   1580163761   \n",
       "9  Hey Ketoers!\\n\\nAs the subject line. Before I ...      keto   1580164528   \n",
       "\n",
       "               author  num_comments  score  is_self   timestamp  \n",
       "0       bbwsoontobebw             5      1     True  2020-01-27  \n",
       "2    littleboo2theboo            10      1     True  2020-01-27  \n",
       "4  OrganizingChaosBrb             3      1     True  2020-01-27  \n",
       "7    SinfullyGood1974            12      1     True  2020-01-27  \n",
       "9          opalfruity             5      1     True  2020-01-27  "
      ]
     },
     "execution_count": 9,
     "metadata": {},
     "output_type": "execute_result"
    }
   ],
   "source": [
    "keto_subset.head()"
   ]
  },
  {
   "cell_type": "markdown",
   "metadata": {},
   "source": [
    "**COMBINE THE DATAFRAMES AND FOCUS FEATURES**"
   ]
  },
  {
   "cell_type": "code",
   "execution_count": 10,
   "metadata": {},
   "outputs": [],
   "source": [
    "keto_wine = pd.concat([keto_subset,wine])"
   ]
  },
  {
   "cell_type": "code",
   "execution_count": 11,
   "metadata": {},
   "outputs": [],
   "source": [
    "keto_wine.drop(columns=['created_utc','author','num_comments','score','is_self','timestamp'], inplace=True)"
   ]
  },
  {
   "cell_type": "code",
   "execution_count": 12,
   "metadata": {},
   "outputs": [],
   "source": [
    "keto_wine['subreddit']=keto_wine['subreddit'].map({'keto':0,'wine':1})"
   ]
  },
  {
   "cell_type": "code",
   "execution_count": 13,
   "metadata": {},
   "outputs": [
    {
     "data": {
      "text/html": [
       "<div>\n",
       "<style scoped>\n",
       "    .dataframe tbody tr th:only-of-type {\n",
       "        vertical-align: middle;\n",
       "    }\n",
       "\n",
       "    .dataframe tbody tr th {\n",
       "        vertical-align: top;\n",
       "    }\n",
       "\n",
       "    .dataframe thead th {\n",
       "        text-align: right;\n",
       "    }\n",
       "</style>\n",
       "<table border=\"1\" class=\"dataframe\">\n",
       "  <thead>\n",
       "    <tr style=\"text-align: right;\">\n",
       "      <th></th>\n",
       "      <th>title</th>\n",
       "      <th>selftext</th>\n",
       "      <th>subreddit</th>\n",
       "    </tr>\n",
       "  </thead>\n",
       "  <tbody>\n",
       "    <tr>\n",
       "      <td>0</td>\n",
       "      <td>It's been a hot minute</td>\n",
       "      <td>I keep getting off track when it comes to keto...</td>\n",
       "      <td>0</td>\n",
       "    </tr>\n",
       "    <tr>\n",
       "      <td>1</td>\n",
       "      <td>Week 3,5 and intense cravings for bread and rice</td>\n",
       "      <td>Week 3,5 and I am having intense cravings for ...</td>\n",
       "      <td>0</td>\n",
       "    </tr>\n",
       "    <tr>\n",
       "      <td>2</td>\n",
       "      <td>Does never going \"Full Keto\" hurt my health?</td>\n",
       "      <td>Hello!\\n\\nI'm a active highschooler who avoids...</td>\n",
       "      <td>0</td>\n",
       "    </tr>\n",
       "    <tr>\n",
       "      <td>3</td>\n",
       "      <td>Any Runners...</td>\n",
       "      <td>Hello Keto world!!\\n\\nI am wondering if there ...</td>\n",
       "      <td>0</td>\n",
       "    </tr>\n",
       "    <tr>\n",
       "      <td>4</td>\n",
       "      <td>NSV: January 2019 - 56\" waist jeans. January 2...</td>\n",
       "      <td>Hey Ketoers!\\n\\nAs the subject line. Before I ...</td>\n",
       "      <td>0</td>\n",
       "    </tr>\n",
       "    <tr>\n",
       "      <td>...</td>\n",
       "      <td>...</td>\n",
       "      <td>...</td>\n",
       "      <td>...</td>\n",
       "    </tr>\n",
       "    <tr>\n",
       "      <td>5759</td>\n",
       "      <td>Best place to ask quick questions about wine?</td>\n",
       "      <td>Is there a separate sub where newbies can ask ...</td>\n",
       "      <td>1</td>\n",
       "    </tr>\n",
       "    <tr>\n",
       "      <td>5760</td>\n",
       "      <td>Pairing wine with oral sex (NSFW)</td>\n",
       "      <td>**this is a serious post. I’m not trolling**\\n...</td>\n",
       "      <td>1</td>\n",
       "    </tr>\n",
       "    <tr>\n",
       "      <td>5761</td>\n",
       "      <td>(Not a wine expert) Found an old wine, can som...</td>\n",
       "      <td>Hey!\\nI dig out an old bottle my mom got a goo...</td>\n",
       "      <td>1</td>\n",
       "    </tr>\n",
       "    <tr>\n",
       "      <td>5762</td>\n",
       "      <td>Basic Wine Cellar Question</td>\n",
       "      <td>Good afternoon Reditors.\\n\\nI am having some f...</td>\n",
       "      <td>1</td>\n",
       "    </tr>\n",
       "    <tr>\n",
       "      <td>5763</td>\n",
       "      <td>Anyone familiar with or use Oeno Vaults or oth...</td>\n",
       "      <td>I've exhausted the capacity of my wine fridge,...</td>\n",
       "      <td>1</td>\n",
       "    </tr>\n",
       "  </tbody>\n",
       "</table>\n",
       "<p>5764 rows × 3 columns</p>\n",
       "</div>"
      ],
      "text/plain": [
       "                                                  title  \\\n",
       "0                                It's been a hot minute   \n",
       "1      Week 3,5 and intense cravings for bread and rice   \n",
       "2          Does never going \"Full Keto\" hurt my health?   \n",
       "3                                        Any Runners...   \n",
       "4     NSV: January 2019 - 56\" waist jeans. January 2...   \n",
       "...                                                 ...   \n",
       "5759      Best place to ask quick questions about wine?   \n",
       "5760                  Pairing wine with oral sex (NSFW)   \n",
       "5761  (Not a wine expert) Found an old wine, can som...   \n",
       "5762                         Basic Wine Cellar Question   \n",
       "5763  Anyone familiar with or use Oeno Vaults or oth...   \n",
       "\n",
       "                                               selftext  subreddit  \n",
       "0     I keep getting off track when it comes to keto...          0  \n",
       "1     Week 3,5 and I am having intense cravings for ...          0  \n",
       "2     Hello!\\n\\nI'm a active highschooler who avoids...          0  \n",
       "3     Hello Keto world!!\\n\\nI am wondering if there ...          0  \n",
       "4     Hey Ketoers!\\n\\nAs the subject line. Before I ...          0  \n",
       "...                                                 ...        ...  \n",
       "5759  Is there a separate sub where newbies can ask ...          1  \n",
       "5760  **this is a serious post. I’m not trolling**\\n...          1  \n",
       "5761  Hey!\\nI dig out an old bottle my mom got a goo...          1  \n",
       "5762  Good afternoon Reditors.\\n\\nI am having some f...          1  \n",
       "5763  I've exhausted the capacity of my wine fridge,...          1  \n",
       "\n",
       "[5764 rows x 3 columns]"
      ]
     },
     "execution_count": 13,
     "metadata": {},
     "output_type": "execute_result"
    }
   ],
   "source": [
    "keto_wine.reset_index(drop=True)"
   ]
  },
  {
   "cell_type": "markdown",
   "metadata": {},
   "source": [
    "**COMBINE TITLE AND SELFTEXT COLUMNS TO PREP FOR VECTORIZER** "
   ]
  },
  {
   "cell_type": "code",
   "execution_count": 14,
   "metadata": {},
   "outputs": [
    {
     "data": {
      "text/html": [
       "<div>\n",
       "<style scoped>\n",
       "    .dataframe tbody tr th:only-of-type {\n",
       "        vertical-align: middle;\n",
       "    }\n",
       "\n",
       "    .dataframe tbody tr th {\n",
       "        vertical-align: top;\n",
       "    }\n",
       "\n",
       "    .dataframe thead th {\n",
       "        text-align: right;\n",
       "    }\n",
       "</style>\n",
       "<table border=\"1\" class=\"dataframe\">\n",
       "  <thead>\n",
       "    <tr style=\"text-align: right;\">\n",
       "      <th></th>\n",
       "      <th>title</th>\n",
       "      <th>selftext</th>\n",
       "      <th>subreddit</th>\n",
       "      <th>titleself</th>\n",
       "    </tr>\n",
       "  </thead>\n",
       "  <tbody>\n",
       "    <tr>\n",
       "      <td>0</td>\n",
       "      <td>It's been a hot minute</td>\n",
       "      <td>I keep getting off track when it comes to keto...</td>\n",
       "      <td>0</td>\n",
       "      <td>It's been a hot minute I keep getting off trac...</td>\n",
       "    </tr>\n",
       "    <tr>\n",
       "      <td>2</td>\n",
       "      <td>Week 3,5 and intense cravings for bread and rice</td>\n",
       "      <td>Week 3,5 and I am having intense cravings for ...</td>\n",
       "      <td>0</td>\n",
       "      <td>Week 3,5 and intense cravings for bread and ri...</td>\n",
       "    </tr>\n",
       "    <tr>\n",
       "      <td>4</td>\n",
       "      <td>Does never going \"Full Keto\" hurt my health?</td>\n",
       "      <td>Hello!\\n\\nI'm a active highschooler who avoids...</td>\n",
       "      <td>0</td>\n",
       "      <td>Does never going \"Full Keto\" hurt my health? H...</td>\n",
       "    </tr>\n",
       "    <tr>\n",
       "      <td>7</td>\n",
       "      <td>Any Runners...</td>\n",
       "      <td>Hello Keto world!!\\n\\nI am wondering if there ...</td>\n",
       "      <td>0</td>\n",
       "      <td>Any Runners... Hello Keto world!!\\n\\nI am wond...</td>\n",
       "    </tr>\n",
       "    <tr>\n",
       "      <td>9</td>\n",
       "      <td>NSV: January 2019 - 56\" waist jeans. January 2...</td>\n",
       "      <td>Hey Ketoers!\\n\\nAs the subject line. Before I ...</td>\n",
       "      <td>0</td>\n",
       "      <td>NSV: January 2019 - 56\" waist jeans. January 2...</td>\n",
       "    </tr>\n",
       "    <tr>\n",
       "      <td>...</td>\n",
       "      <td>...</td>\n",
       "      <td>...</td>\n",
       "      <td>...</td>\n",
       "      <td>...</td>\n",
       "    </tr>\n",
       "    <tr>\n",
       "      <td>2877</td>\n",
       "      <td>Best place to ask quick questions about wine?</td>\n",
       "      <td>Is there a separate sub where newbies can ask ...</td>\n",
       "      <td>1</td>\n",
       "      <td>Best place to ask quick questions about wine? ...</td>\n",
       "    </tr>\n",
       "    <tr>\n",
       "      <td>2878</td>\n",
       "      <td>Pairing wine with oral sex (NSFW)</td>\n",
       "      <td>**this is a serious post. I’m not trolling**\\n...</td>\n",
       "      <td>1</td>\n",
       "      <td>Pairing wine with oral sex (NSFW) **this is a ...</td>\n",
       "    </tr>\n",
       "    <tr>\n",
       "      <td>2879</td>\n",
       "      <td>(Not a wine expert) Found an old wine, can som...</td>\n",
       "      <td>Hey!\\nI dig out an old bottle my mom got a goo...</td>\n",
       "      <td>1</td>\n",
       "      <td>(Not a wine expert) Found an old wine, can som...</td>\n",
       "    </tr>\n",
       "    <tr>\n",
       "      <td>2880</td>\n",
       "      <td>Basic Wine Cellar Question</td>\n",
       "      <td>Good afternoon Reditors.\\n\\nI am having some f...</td>\n",
       "      <td>1</td>\n",
       "      <td>Basic Wine Cellar Question Good afternoon Redi...</td>\n",
       "    </tr>\n",
       "    <tr>\n",
       "      <td>2881</td>\n",
       "      <td>Anyone familiar with or use Oeno Vaults or oth...</td>\n",
       "      <td>I've exhausted the capacity of my wine fridge,...</td>\n",
       "      <td>1</td>\n",
       "      <td>Anyone familiar with or use Oeno Vaults or oth...</td>\n",
       "    </tr>\n",
       "  </tbody>\n",
       "</table>\n",
       "<p>5764 rows × 4 columns</p>\n",
       "</div>"
      ],
      "text/plain": [
       "                                                  title  \\\n",
       "0                                It's been a hot minute   \n",
       "2      Week 3,5 and intense cravings for bread and rice   \n",
       "4          Does never going \"Full Keto\" hurt my health?   \n",
       "7                                        Any Runners...   \n",
       "9     NSV: January 2019 - 56\" waist jeans. January 2...   \n",
       "...                                                 ...   \n",
       "2877      Best place to ask quick questions about wine?   \n",
       "2878                  Pairing wine with oral sex (NSFW)   \n",
       "2879  (Not a wine expert) Found an old wine, can som...   \n",
       "2880                         Basic Wine Cellar Question   \n",
       "2881  Anyone familiar with or use Oeno Vaults or oth...   \n",
       "\n",
       "                                               selftext  subreddit  \\\n",
       "0     I keep getting off track when it comes to keto...          0   \n",
       "2     Week 3,5 and I am having intense cravings for ...          0   \n",
       "4     Hello!\\n\\nI'm a active highschooler who avoids...          0   \n",
       "7     Hello Keto world!!\\n\\nI am wondering if there ...          0   \n",
       "9     Hey Ketoers!\\n\\nAs the subject line. Before I ...          0   \n",
       "...                                                 ...        ...   \n",
       "2877  Is there a separate sub where newbies can ask ...          1   \n",
       "2878  **this is a serious post. I’m not trolling**\\n...          1   \n",
       "2879  Hey!\\nI dig out an old bottle my mom got a goo...          1   \n",
       "2880  Good afternoon Reditors.\\n\\nI am having some f...          1   \n",
       "2881  I've exhausted the capacity of my wine fridge,...          1   \n",
       "\n",
       "                                              titleself  \n",
       "0     It's been a hot minute I keep getting off trac...  \n",
       "2     Week 3,5 and intense cravings for bread and ri...  \n",
       "4     Does never going \"Full Keto\" hurt my health? H...  \n",
       "7     Any Runners... Hello Keto world!!\\n\\nI am wond...  \n",
       "9     NSV: January 2019 - 56\" waist jeans. January 2...  \n",
       "...                                                 ...  \n",
       "2877  Best place to ask quick questions about wine? ...  \n",
       "2878  Pairing wine with oral sex (NSFW) **this is a ...  \n",
       "2879  (Not a wine expert) Found an old wine, can som...  \n",
       "2880  Basic Wine Cellar Question Good afternoon Redi...  \n",
       "2881  Anyone familiar with or use Oeno Vaults or oth...  \n",
       "\n",
       "[5764 rows x 4 columns]"
      ]
     },
     "execution_count": 14,
     "metadata": {},
     "output_type": "execute_result"
    }
   ],
   "source": [
    "keto_wine['titleself']=keto_wine['title']+' '+keto_wine['selftext']\n",
    "keto_wine"
   ]
  },
  {
   "cell_type": "code",
   "execution_count": 15,
   "metadata": {},
   "outputs": [],
   "source": [
    "X=keto_wine['titleself']\n",
    "y=keto_wine.subreddit"
   ]
  },
  {
   "cell_type": "code",
   "execution_count": 16,
   "metadata": {},
   "outputs": [
    {
     "data": {
      "text/plain": [
       "1    0.5\n",
       "0    0.5\n",
       "Name: subreddit, dtype: float64"
      ]
     },
     "execution_count": 16,
     "metadata": {},
     "output_type": "execute_result"
    }
   ],
   "source": [
    "# Assess y\n",
    "y.value_counts(normalize=True)"
   ]
  },
  {
   "cell_type": "code",
   "execution_count": 17,
   "metadata": {},
   "outputs": [],
   "source": [
    "# Split the data into the training and testing sets.\n",
    "X_train, X_test, y_train, y_test = train_test_split(X,\n",
    "                                                   y,\n",
    "                                                    test_size=0.33,\n",
    "                                                    stratify=y,\n",
    "                                                   random_state=42)"
   ]
  },
  {
   "cell_type": "markdown",
   "metadata": {},
   "source": [
    "**APPLY VECTORIZER**"
   ]
  },
  {
   "cell_type": "code",
   "execution_count": 18,
   "metadata": {},
   "outputs": [],
   "source": [
    "cvec=CountVectorizer(stop_words='english',max_features=1000,ngram_range=(1,2))"
   ]
  },
  {
   "cell_type": "code",
   "execution_count": 19,
   "metadata": {},
   "outputs": [
    {
     "data": {
      "text/plain": [
       "CountVectorizer(analyzer='word', binary=False, decode_error='strict',\n",
       "                dtype=<class 'numpy.int64'>, encoding='utf-8', input='content',\n",
       "                lowercase=True, max_df=1.0, max_features=1000, min_df=1,\n",
       "                ngram_range=(1, 2), preprocessor=None, stop_words='english',\n",
       "                strip_accents=None, token_pattern='(?u)\\\\b\\\\w\\\\w+\\\\b',\n",
       "                tokenizer=None, vocabulary=None)"
      ]
     },
     "execution_count": 19,
     "metadata": {},
     "output_type": "execute_result"
    }
   ],
   "source": [
    "cvec.fit(X_train)\n",
    "# cvec.fit(keto_wine['titleself'])"
   ]
  },
  {
   "cell_type": "code",
   "execution_count": 20,
   "metadata": {},
   "outputs": [
    {
     "name": "stdout",
     "output_type": "stream",
     "text": [
      "{'major': 556, 'cooking': 197, 'night': 612, 'low': 545, 'carb': 140, 'carbs': 141, 'place': 667, '10': 0, 'bread': 117, '12': 3, 'cheese': 162, 'pizza': 666, 'ready': 708, 'eat': 266, 'fat': 304, 'food': 329, 'like': 512, 'hard': 393, 'feel': 307, 'missing': 582, 'usually': 917, 'add': 41, 'salad': 749, 'enjoy': 276, 'keto': 475, 'cause': 147, 'progress': 695, 'makes': 559, 'pay': 656, 'low carb': 546, 'feel like': 308, 'napa': 597, 'winery': 970, 'birthday': 99, 'trip': 902, 'november': 621, 'visiting': 935, 'recommendations': 719, 'wineries': 969, 'visit': 934, 'time': 883, 'excited': 284, 'finally': 316, 'best': 96, 'wine': 965, 'use': 914, 'job': 463, 'pounds': 680, 'right': 741, 'know': 488, 'healthy': 399, 'weight': 955, 've': 921, 'trying': 906, 'months': 589, 'scale': 757, 'won': 973, 'stay': 816, 'deficit': 228, 'pretty': 686, 'average': 76, 'day': 221, 'workout': 978, 'couple': 205, 'times': 884, 'week': 949, 'cardio': 143, 'just': 468, 'ton': 891, 'water': 944, 'super': 846, 'thing': 876, 'noticed': 620, 'tracking': 899, 'thought': 880, 'sugar': 841, 'want': 939, 'similar': 779, 'losing': 536, 'don': 248, 'lose': 534, 'losing weight': 537, 'looking': 531, 'starting': 813, 'health': 397, 'benefits': 95, 'tips': 885, 'start': 809, 'young': 997, 'mom': 584, 'month': 588, 'old': 633, 'little': 519, 'energy': 275, '20': 11, 'really': 711, 'outside': 644, 'idea': 436, 'meals': 569, 'foods': 330, 'easily': 264, 'daily': 219, 'make': 557, 'home': 420, 'care': 144, 'spend': 805, 'hour': 425, 'dinner': 240, 'guess': 382, 'suggestions': 844, 'simple': 780, 'instead': 449, 'try': 905, 'help': 405, 'thanks': 873, 'advance': 44, 'starting keto': 814, 'thanks advance': 874, 'https': 429, 'com': 179, 'product': 693, 'wondering': 974, 'drink': 254, 'ingredients': 448, 'list': 517, 'says': 756, 'ground': 379, 'coffee': 175, 'natural': 598, 'flavors': 322, 'info': 446, 'drinking': 256, 'black': 101, 'include': 442, 'gets': 349, 'process': 691, 'does': 242, 'experience': 288, 'ive': 461, 'lost': 539, 'normal': 615, 'today': 888, 'decided': 227, 'read': 706, 'meat': 572, 'dont': 251, 'guys': 385, 'experiences': 290, 'bit': 100, 'sort': 797, 'new': 607, 'october': 628, 'difference': 237, 'adding': 43, 'stuff': 836, 'doing': 245, 'eating': 268, 'basically': 88, 'hungry': 433, 'avoid': 78, 'body': 106, 'stores': 825, 'lot': 541, 'fast': 302, 'generally': 348, 'morning': 591, 'way': 946, 'work': 975, 'heavy': 403, 'cream': 211, 'means': 571, '200': 12, 'calories': 136, 'order': 643, 'tried': 901, 'almond': 53, 'milk': 578, 'manager': 563, 'protein': 696, 'aren': 68, 'actually': 40, 'zero': 999, 'seen': 763, 'people': 657, 'say': 754, 'example': 283, '100': 1, 'state': 815, 'ate': 73, 'calorie': 135, 'said': 748, 'fit': 320, 'did': 233, 'doesn': 244, 'blood': 104, 'change': 152, 'haven': 394, 'specifically': 804, 'insulin': 450, 'goal': 357, 'loss': 538, 'hit': 416, 'early': 263, '2018': 21, 'started': 811, 'strict': 830, 'september': 768, 'lbs': 499, 'dropped': 260, '300': 28, 'fell': 311, 'using': 916, 'gotten': 369, 'loose': 533, 'skin': 784, 'given': 353, 'goals': 359, 'fasting': 303, 'effects': 269, 'different': 238, 'breakfast': 119, 'lunch': 550, 'doing keto': 246, 'blood sugar': 105, 'don know': 249, 'goal weight': 358, 'weight loss': 956, 'strict keto': 831, 'lose weight': 535, 'count': 203, 'lower': 547, 'control': 194, 'maintain': 555, 'focus': 325, 'having': 395, 'research': 734, 'went': 959, 'mental': 574, 'break': 118, 'recipes': 716, 'looked': 530, 'years': 992, 'gained': 345, '40': 30, 'wasn': 942, 'gain': 344, 'suggested': 843, 'intermittent': 454, 'meal': 568, 'results': 737, 'ended': 274, 'end': 273, 'didn': 234, 'knew': 487, 'quite': 703, 'following': 328, 'dr': 252, 'budget': 122, 'days': 222, 'curious': 214, 'started keto': 812, 'intermittent fasting': 455, 'world': 980, 'problem': 689, 'set': 773, 'wife': 963, 'single': 781, 'entire': 278, 'currently': 216, 'mix': 583, 'wines': 971, 'bordeaux': 109, 'sitting': 782, 'particular': 652, 'bottles': 112, 'vineyards': 932, 'reason': 713, 'need': 601, 'vs': 936, 'hold': 417, 'large': 494, 'case': 145, 'wouldn': 984, 'recently': 714, 'open': 637, 'area': 67, '60': 33, '30': 27, 'muscle': 596, 'look': 529, 'keto months': 479, 'hope': 422, 'white': 960, 'holidays': 419, 'city': 170, 'july': 467, 'restaurant': 736, 'bar': 84, 'hello': 404, 'girlfriend': 352, 'half': 389, 'wanted': 940, 'ask': 70, 'bars': 86, 'vineyard': 931, 'll': 522, 'buying': 129, 'bottle': 110, 'age': 46, 'buy': 128, 'good': 364, 'extra': 291, 'fully': 341, 'maybe': 567, 'stick': 819, 'long': 525, 'term': 869, 'seeing': 762, 'posts': 678, 'totally': 895, 'understand': 912, 'lifestyle': 509, 'delicious': 230, '35': 29, '25': 26, '90': 36, 'life': 508, 'period': 659, 'long term': 526, 've lost': 925, 'diet': 235, 'love': 543, 'interesting': 453, 'heard': 401, 'close': 171, 'higher': 414, 'diets': 236, 'overall': 645, 'keto diet': 476, 'opening': 639, 'wrong': 985, 'husband': 434, 'bought': 113, 'drank': 253, 'online': 636, 'luck': 549, 'christmas': 169, 'pairing': 649, 'pair': 648, 'beef': 91, 'search': 759, 'grapes': 373, 'short': 777, 'figured': 315, 'burgundy': 125, '50': 32, '150': 7, 'choice': 166, 'think': 878, 'better': 97, 'getting': 350, 'slightly': 786, 'region': 727, 'www': 987, '2013': 16, 'option': 641, 'considering': 192, 'struggling': 833, 'offer': 629, 'good wine': 365, 'https www': 431, 'favorite': 306, 'especially': 279, 'ideas': 437, 'cook': 195, 'prep': 684, 'prefer': 683, 'variety': 920, 'eggs': 271, 'quick': 701, 'options': 642, 've doing': 922, '2020': 23, 'limit': 514, 'subreddit': 839, 'advice': 45, 'going': 361, 'question': 699, 'goes': 360, 'interested': 452, 'kind': 485, 'doctor': 241, 'opinion': 640, 'working': 977, 'living': 521, 'spent': 807, 'weighed': 954, 'sweet': 853, 'healthier': 398, 'habits': 388, 'mind': 579, 'things': 877, 'note': 618, 'learn': 500, 'self': 765, 'able': 37, 'sense': 767, 'sure': 851, 'money': 587, 'purchase': 697, 'grocery': 378, 'store': 824, 'making': 560, 'amp': 56, 'veggies': 930, 'yogurt': 996, 'miss': 581, 'great': 374, 'bad': 83, 'weird': 957, 'probably': 688, 'flu': 324, 'thank': 872, 'keto flu': 477, 'tell': 866, 'stop': 821, 'ago': 49, 'got': 368, 'regularly': 730, 'nice': 611, 'feeling': 309, 'sick': 778, 'sleep': 785, 'checked': 160, 'bunch': 124, 'couldn': 202, 'told': 889, 'months ago': 590, 'kept': 474, 'cellar': 148, 'enjoyed': 277, 'tour': 896, 'france': 332, '2016': 19, 'opened': 638, 'longer': 528, 'domaine': 247, 'cru': 212, 'les': 503, 'grand': 371, '2014': 17, '2011': 14, 'mean': 570, 'thoughts': 881, 'shit': 775, 'yesterday': 995, 'party': 653, 'beer': 92, 'come': 181, 'year': 990, 'school': 758, 'big': 98, 'fan': 299, 'okay': 632, 'macros': 551, 'really like': 712, 'watch': 943, 'update': 913, 'post': 677, 'reddit': 724, 'comments': 185, 'august': 74, 'imgur': 439, 'jpg': 465, 'weigh': 953, 'near': 599, 'holiday': 418, 'season': 760, 'personal': 661, 'family': 298, 'community': 187, 'absolutely': 38, 'amazing': 54, 'away': 80, 'giving': 354, 'reddit com': 725, 'com keto': 180, 'https imgur': 430, 'imgur com': 440, 'red': 721, 'available': 75, 'red wine': 722, 'used': 915, 'exercise': 285, 'hoping': 423, 'helps': 408, 've seen': 927, 'beginning': 93, 'clothes': 172, 'left': 502, 'follow': 327, 'mid': 577, 'asked': 71, 'weeks': 951, 'alcohol': 51, 'friends': 339, 'problems': 690, 'acidity': 39, 'matter': 566, 'increase': 444, '16': 8, '2012': 15, 'chateau': 156, 'chardonnay': 155, 'friend': 337, 'special': 802, 'price': 687, 'hi': 411, 'turned': 907, 'friendly': 338, 'market': 564, 'taste': 859, 'keto friendly': 478, 'pre': 682, 'isn': 456, 'saw': 753, 'just don': 469, 've got': 923, 'regions': 728, 'ones': 635, 'quality': 698, 'cork': 200, 'perfect': 658, 'pairings': 650, 'tastes': 861, 'pick': 662, 'http': 428, 'x200b': 989, 'club': 173, 'kick': 484, 'certain': 149, 'sauvignon': 752, 'blanc': 102, 'steak': 818, 'serving': 772, 'works': 979, 'tasting': 862, 'pinot': 664, 'noir': 613, 'light': 511, 'notes': 619, 'redd': 723, 'fresh': 335, 'high': 413, 'amp x200b': 57, 'pinot noir': 665, 'white wine': 961, 'gift': 351, 'drinker': 255, 'sparkling': 801, 'ice': 435, 'ketosis': 483, 'hours': 426, 'net': 605, 'stomach': 820, 'quickly': 702, 'net carbs': 606, 'water weight': 945, 'lost weight': 540, 'don want': 250, 'just wondering': 472, 'came': 137, 'worth': 983, 'vintage': 933, 'hi guys': 412, 'free': 333, 'talk': 858, 'source': 799, 'industry': 445, 'level': 506, 'local': 523, 'minutes': 580, 'tastings': 864, 'malbec': 561, 'definitely': 229, 'planning': 670, 'cost': 201, 'company': 188, 'worked': 976, 'stuck': 834, 'size': 783, 'forward': 331, 'likely': 513, 'person': 660, 'italian': 459, 'pasta': 655, 'nsv': 622, 'dry': 261, 'magnesium': 552, 'chocolate': 165, 'expensive': 287, 'dark': 220, 'head': 396, 'deal': 224, 'gonna': 363, 'thinking': 879, 'gone': 362, 'non': 614, 'cold': 176, 'let': 504, 'label': 492, 've read': 926, 'keeping': 473, 'table': 855, 'cut': 217, 'california': 133, 'flavor': 321, '2017': 20, 'reds': 726, 'sauce': 751, 'style': 837, 'glasses': 356, 'temperature': 867, 'collection': 177, 'sonoma': 794, 'cab': 130, 'smaller': 790, 'worse': 982, 'cool': 198, 'real': 709, 'sell': 766, 'decent': 226, 'past': 654, 'plan': 669, 'possible': 676, 'fun': 342, 'taking': 857, 'fridge': 336, 'current': 215, 'important': 441, 'champagne': 151, 'whites': 962, 'rose': 744, 'dessert': 231, 'concerned': 190, 'fine': 318, 'guy': 384, 'saying': 755, 'wine fridge': 966, 'finding': 317, '2010': 13, 'learning': 501, 'history': 415, 'future': 343, 'producers': 692, '15': 6, 'appreciated': 65, 'places': 668, 'felt': 312, '11': 2, 'ok': 631, 'reviews': 738, 'tonight': 892, 'french': 334, 'believe': 94, 'barolo': 85, '2015': 18, 'hey': 409, 'title': 887, 'small': 789, 'intake': 451, 'gym': 387, 'lots': 542, 'drop': 259, 'standard': 808, 'port': 675, 'website': 947, 'finish': 319, 'tea': 865, 'lol': 524, 'house': 427, 'bring': 120, 'recommend': 717, 'fairly': 295, 'huge': 432, 'point': 673, 'knowledge': 490, 'book': 107, 'plenty': 671, 'general': 347, 'specific': 803, 'comes': 182, 'books': 108, 'information': 447, 'recommended': 720, 'recommendation': 718, 'course': 206, 'glass': 355, 'shop': 776, 'wine tasting': 968, 'riesling': 740, 'truly': 904, 'appreciate': 64, 'type': 908, 'issues': 458, 'wedding': 948, 'stress': 829, 'changes': 154, 'im': 438, 'issue': 457, 'chicken': 163, 'hear': 400, 'stories': 826, 'group': 380, 'motivation': 593, 'new year': 610, 'electrolytes': 272, 'total': 894, 've keto': 924, 'sw': 852, 'cw': 218, 'gw': 386, 'number': 623, 'story': 827, 'staying': 817, 'room': 743, 'fact': 294, 'live': 520, 'diabetes': 232, 'la': 491, 'does know': 243, 'called': 134, 'stopped': 822, 'happen': 390, 'answer': 59, 'nutrition': 625, 'fiber': 313, 'far': 301, 'welcome': 958, 'new wine': 609, 'days ago': 223, 'wset': 986, 'anybody': 61, 'share': 774, 've tried': 928, '2019': 22, 'check': 159, 'happy': 392, 'amazon': 55, 'male': 562, 'mainly': 554, '80': 35, 'run': 745, 'remember': 733, 'reading': 707, 'easy': 265, 'cravings': 209, 'nearly': 600, 'honestly': 421, 'symptoms': 854, 'anxiety': 60, 'levels': 507, 'lack': 493, 'fruit': 340, 'country': 204, 'moving': 594, 'selection': 764, 'limited': 515, 'cabernet': 131, 'valley': 918, 'cabernet sauvignon': 132, 'anymore': 62, 'aging': 48, 'picture': 663, 'taken': 856, 'january': 462, 'college': 178, 'link': 516, 'hot': 424, '19': 10, 'article': 69, 'covered': 207, 'oil': 630, 'juice': 466, 'products': 694, 'main': 553, 'folks': 326, 'suggest': 842, 'sorry': 796, 'let know': 505, 'choose': 168, 'coming': 183, 'wanting': 941, 'italy': 460, 'familiar': 297, 'weekend': 950, 'obviously': 627, 'figure': 314, 'need help': 602, 'terrible': 870, 'feels': 310, 'sodium': 793, 'potassium': 679, 'typically': 910, 'salt': 750, 'second': 761, 'normally': 616, 'cheap': 157, 'helped': 406, 'wait': 937, 'fats': 305, 'recipe': 715, 'grams': 370, 'powder': 681, 'green': 377, 'cheat': 158, 'cheers': 161, 'sub': 838, '70': 34, 'rest': 735, 'realized': 710, 'spending': 806, 'true': 903, 'parents': 651, 'greatly': 375, 'greatly appreciated': 376, 'questions': 700, 'rice': 739, 'slow': 787, 'soon': 795, 'overweight': 646, 'travel': 900, 'difficult': 239, 'chips': 164, 'butter': 127, 'gave': 346, 'moment': 585, 'awesome': 81, 'craving': 208, '24': 25, 'supplements': 847, 'wine pairing': 967, 'years ago': 993, 'brand': 116, '45': 31, 'strong': 832, 'needs': 604, 'candy': 138, 'make sure': 558, 'changed': 153, 'challenge': 150, 'journey': 464, 'yes': 994, 'numbers': 624, 'running': 746, 'based': 87, 'box': 114, 'common': 186, 'storage': 823, 'worried': 981, 'completely': 189, 'summer': 845, 'just want': 470, 'took': 893, 'heart': 402, 'added': 42, 'test': 871, 'drive': 258, 'vegetables': 929, 'eaten': 267, 'avocado': 77, 'tasted': 860, 'aged': 47, 'nuts': 626, 'lazy': 498, 'track': 898, 'blend': 103, 'pork': 674, 'exactly': 281, 'menu': 575, 'bacon': 82, 'coconut': 174, 'google': 366, 'google com': 367, 'grape': 372, 'extremely': 292, 'snack': 791, 'safe': 747, 'build': 123, 'looks': 532, 'wish': 972, 'drinks': 257, 'plus': 672, 'app': 63, 'loved': 544, 'monday': 586, 'allowed': 52, 'types': 909, 'later': 497, 'year old': 991, 'motivated': 592, 'literally': 518, 'seriously': 769, 'rioja': 742, 'event': 280, 'consider': 191, 'asking': 72, 'range': 704, 'tired': 886, 'pain': 647, 'needed': 603, 'experienced': 289, 'slowly': 788, 'cup': 213, 'april': 66, '20g': 24, 'regular': 729, '13': 4, 'tomorrow': 890, 'start keto': 810, 'supposed': 850, 'lately': 496, 'anniversary': 58, 'support': 848, 'youtube': 998, 'know wine': 489, 'success': 840, 'brain': 115, 'cauliflower': 146, 'reach': 705, 'face': 293, 'fall': 296, 'du': 262, '14': 5, 'related': 731, 'cooler': 199, 'bottle wine': 111, 'wiki': 964, 'faq': 300, 'thread': 882, 'new keto': 608, 'www reddit': 988, 'keto wiki': 481, 'support thread': 849, 'helpful': 407, 'keto weeks': 480, 'thanksgiving': 875, 'walk': 938, 'cookies': 196, 'just wanted': 471, 'lifting': 510, 'omad': 634, 'kinda': 486, 'long time': 527, 'weeks ago': 952, 'soup': 798, 'pressure': 685, 'value': 919, 'exam': 282, 'study': 835, 'nose': 617, 'medium': 573, 'town': 897, 'december': 225, 'late': 495, 'broccoli': 121, 'crazy': 210, 'straight': 828, 'snacks': 792, 'guide': 383, 'egg': 270, 'relatively': 732, 'south': 800, 'ketogenic': 482, 'expect': 286, 'happened': 391, 'including': 443, 'business': 126, 'carbs day': 142, 'gt': 381, 'air': 50, 'tasting notes': 863, 'lt': 548, 'car': 139, 'merlot': 576, 'aware': 79, 'multiple': 595, 'hey guys': 410, 'tend': 868, 'marks': 565, 'flour': 323, 'uk': 911, 'comment': 184, 'continue': 193, 'cholesterol': 167, '18': 9, 'service': 771, 'beaujolais': 89, 'serve': 770, 'beautiful': 90}\n"
     ]
    }
   ],
   "source": [
    "print(cvec.vocabulary_)"
   ]
  },
  {
   "cell_type": "code",
   "execution_count": 21,
   "metadata": {},
   "outputs": [],
   "source": [
    "X_train_cvec = cvec.transform(X_train)"
   ]
  },
  {
   "cell_type": "code",
   "execution_count": 22,
   "metadata": {},
   "outputs": [],
   "source": [
    "X_test_cvec = cvec.transform(X_test)"
   ]
  },
  {
   "cell_type": "code",
   "execution_count": 23,
   "metadata": {},
   "outputs": [
    {
     "data": {
      "text/html": [
       "<div>\n",
       "<style scoped>\n",
       "    .dataframe tbody tr th:only-of-type {\n",
       "        vertical-align: middle;\n",
       "    }\n",
       "\n",
       "    .dataframe tbody tr th {\n",
       "        vertical-align: top;\n",
       "    }\n",
       "\n",
       "    .dataframe thead th {\n",
       "        text-align: right;\n",
       "    }\n",
       "</style>\n",
       "<table border=\"1\" class=\"dataframe\">\n",
       "  <thead>\n",
       "    <tr style=\"text-align: right;\">\n",
       "      <th></th>\n",
       "      <th>10</th>\n",
       "      <th>100</th>\n",
       "      <th>11</th>\n",
       "      <th>12</th>\n",
       "      <th>13</th>\n",
       "      <th>14</th>\n",
       "      <th>15</th>\n",
       "      <th>150</th>\n",
       "      <th>16</th>\n",
       "      <th>18</th>\n",
       "      <th>...</th>\n",
       "      <th>year</th>\n",
       "      <th>year old</th>\n",
       "      <th>years</th>\n",
       "      <th>years ago</th>\n",
       "      <th>yes</th>\n",
       "      <th>yesterday</th>\n",
       "      <th>yogurt</th>\n",
       "      <th>young</th>\n",
       "      <th>youtube</th>\n",
       "      <th>zero</th>\n",
       "    </tr>\n",
       "  </thead>\n",
       "  <tbody>\n",
       "    <tr>\n",
       "      <td>0</td>\n",
       "      <td>2</td>\n",
       "      <td>0</td>\n",
       "      <td>0</td>\n",
       "      <td>1</td>\n",
       "      <td>0</td>\n",
       "      <td>0</td>\n",
       "      <td>0</td>\n",
       "      <td>0</td>\n",
       "      <td>0</td>\n",
       "      <td>0</td>\n",
       "      <td>...</td>\n",
       "      <td>0</td>\n",
       "      <td>0</td>\n",
       "      <td>0</td>\n",
       "      <td>0</td>\n",
       "      <td>0</td>\n",
       "      <td>0</td>\n",
       "      <td>0</td>\n",
       "      <td>0</td>\n",
       "      <td>0</td>\n",
       "      <td>0</td>\n",
       "    </tr>\n",
       "    <tr>\n",
       "      <td>1</td>\n",
       "      <td>0</td>\n",
       "      <td>0</td>\n",
       "      <td>0</td>\n",
       "      <td>0</td>\n",
       "      <td>0</td>\n",
       "      <td>0</td>\n",
       "      <td>0</td>\n",
       "      <td>0</td>\n",
       "      <td>0</td>\n",
       "      <td>0</td>\n",
       "      <td>...</td>\n",
       "      <td>0</td>\n",
       "      <td>0</td>\n",
       "      <td>0</td>\n",
       "      <td>0</td>\n",
       "      <td>0</td>\n",
       "      <td>0</td>\n",
       "      <td>0</td>\n",
       "      <td>0</td>\n",
       "      <td>0</td>\n",
       "      <td>0</td>\n",
       "    </tr>\n",
       "    <tr>\n",
       "      <td>2</td>\n",
       "      <td>0</td>\n",
       "      <td>0</td>\n",
       "      <td>0</td>\n",
       "      <td>0</td>\n",
       "      <td>0</td>\n",
       "      <td>0</td>\n",
       "      <td>0</td>\n",
       "      <td>0</td>\n",
       "      <td>0</td>\n",
       "      <td>0</td>\n",
       "      <td>...</td>\n",
       "      <td>0</td>\n",
       "      <td>0</td>\n",
       "      <td>0</td>\n",
       "      <td>0</td>\n",
       "      <td>0</td>\n",
       "      <td>0</td>\n",
       "      <td>0</td>\n",
       "      <td>0</td>\n",
       "      <td>0</td>\n",
       "      <td>0</td>\n",
       "    </tr>\n",
       "    <tr>\n",
       "      <td>3</td>\n",
       "      <td>0</td>\n",
       "      <td>0</td>\n",
       "      <td>0</td>\n",
       "      <td>0</td>\n",
       "      <td>0</td>\n",
       "      <td>0</td>\n",
       "      <td>0</td>\n",
       "      <td>0</td>\n",
       "      <td>0</td>\n",
       "      <td>0</td>\n",
       "      <td>...</td>\n",
       "      <td>0</td>\n",
       "      <td>0</td>\n",
       "      <td>0</td>\n",
       "      <td>0</td>\n",
       "      <td>0</td>\n",
       "      <td>0</td>\n",
       "      <td>0</td>\n",
       "      <td>1</td>\n",
       "      <td>0</td>\n",
       "      <td>0</td>\n",
       "    </tr>\n",
       "    <tr>\n",
       "      <td>4</td>\n",
       "      <td>0</td>\n",
       "      <td>0</td>\n",
       "      <td>0</td>\n",
       "      <td>0</td>\n",
       "      <td>0</td>\n",
       "      <td>0</td>\n",
       "      <td>0</td>\n",
       "      <td>0</td>\n",
       "      <td>0</td>\n",
       "      <td>0</td>\n",
       "      <td>...</td>\n",
       "      <td>0</td>\n",
       "      <td>0</td>\n",
       "      <td>0</td>\n",
       "      <td>0</td>\n",
       "      <td>0</td>\n",
       "      <td>0</td>\n",
       "      <td>0</td>\n",
       "      <td>0</td>\n",
       "      <td>0</td>\n",
       "      <td>0</td>\n",
       "    </tr>\n",
       "    <tr>\n",
       "      <td>...</td>\n",
       "      <td>...</td>\n",
       "      <td>...</td>\n",
       "      <td>...</td>\n",
       "      <td>...</td>\n",
       "      <td>...</td>\n",
       "      <td>...</td>\n",
       "      <td>...</td>\n",
       "      <td>...</td>\n",
       "      <td>...</td>\n",
       "      <td>...</td>\n",
       "      <td>...</td>\n",
       "      <td>...</td>\n",
       "      <td>...</td>\n",
       "      <td>...</td>\n",
       "      <td>...</td>\n",
       "      <td>...</td>\n",
       "      <td>...</td>\n",
       "      <td>...</td>\n",
       "      <td>...</td>\n",
       "      <td>...</td>\n",
       "      <td>...</td>\n",
       "    </tr>\n",
       "    <tr>\n",
       "      <td>3856</td>\n",
       "      <td>0</td>\n",
       "      <td>0</td>\n",
       "      <td>0</td>\n",
       "      <td>0</td>\n",
       "      <td>0</td>\n",
       "      <td>0</td>\n",
       "      <td>0</td>\n",
       "      <td>0</td>\n",
       "      <td>0</td>\n",
       "      <td>0</td>\n",
       "      <td>...</td>\n",
       "      <td>0</td>\n",
       "      <td>0</td>\n",
       "      <td>0</td>\n",
       "      <td>0</td>\n",
       "      <td>0</td>\n",
       "      <td>0</td>\n",
       "      <td>0</td>\n",
       "      <td>0</td>\n",
       "      <td>0</td>\n",
       "      <td>0</td>\n",
       "    </tr>\n",
       "    <tr>\n",
       "      <td>3857</td>\n",
       "      <td>0</td>\n",
       "      <td>0</td>\n",
       "      <td>0</td>\n",
       "      <td>0</td>\n",
       "      <td>0</td>\n",
       "      <td>0</td>\n",
       "      <td>0</td>\n",
       "      <td>0</td>\n",
       "      <td>0</td>\n",
       "      <td>0</td>\n",
       "      <td>...</td>\n",
       "      <td>0</td>\n",
       "      <td>0</td>\n",
       "      <td>0</td>\n",
       "      <td>0</td>\n",
       "      <td>0</td>\n",
       "      <td>0</td>\n",
       "      <td>0</td>\n",
       "      <td>0</td>\n",
       "      <td>0</td>\n",
       "      <td>0</td>\n",
       "    </tr>\n",
       "    <tr>\n",
       "      <td>3858</td>\n",
       "      <td>0</td>\n",
       "      <td>0</td>\n",
       "      <td>0</td>\n",
       "      <td>0</td>\n",
       "      <td>0</td>\n",
       "      <td>0</td>\n",
       "      <td>0</td>\n",
       "      <td>0</td>\n",
       "      <td>0</td>\n",
       "      <td>0</td>\n",
       "      <td>...</td>\n",
       "      <td>0</td>\n",
       "      <td>0</td>\n",
       "      <td>0</td>\n",
       "      <td>0</td>\n",
       "      <td>0</td>\n",
       "      <td>0</td>\n",
       "      <td>0</td>\n",
       "      <td>0</td>\n",
       "      <td>0</td>\n",
       "      <td>0</td>\n",
       "    </tr>\n",
       "    <tr>\n",
       "      <td>3859</td>\n",
       "      <td>0</td>\n",
       "      <td>0</td>\n",
       "      <td>0</td>\n",
       "      <td>0</td>\n",
       "      <td>0</td>\n",
       "      <td>0</td>\n",
       "      <td>0</td>\n",
       "      <td>0</td>\n",
       "      <td>0</td>\n",
       "      <td>0</td>\n",
       "      <td>...</td>\n",
       "      <td>1</td>\n",
       "      <td>0</td>\n",
       "      <td>0</td>\n",
       "      <td>0</td>\n",
       "      <td>0</td>\n",
       "      <td>0</td>\n",
       "      <td>0</td>\n",
       "      <td>0</td>\n",
       "      <td>0</td>\n",
       "      <td>0</td>\n",
       "    </tr>\n",
       "    <tr>\n",
       "      <td>3860</td>\n",
       "      <td>0</td>\n",
       "      <td>0</td>\n",
       "      <td>0</td>\n",
       "      <td>0</td>\n",
       "      <td>0</td>\n",
       "      <td>0</td>\n",
       "      <td>0</td>\n",
       "      <td>0</td>\n",
       "      <td>0</td>\n",
       "      <td>0</td>\n",
       "      <td>...</td>\n",
       "      <td>0</td>\n",
       "      <td>0</td>\n",
       "      <td>0</td>\n",
       "      <td>0</td>\n",
       "      <td>0</td>\n",
       "      <td>0</td>\n",
       "      <td>0</td>\n",
       "      <td>0</td>\n",
       "      <td>0</td>\n",
       "      <td>0</td>\n",
       "    </tr>\n",
       "  </tbody>\n",
       "</table>\n",
       "<p>3861 rows × 1000 columns</p>\n",
       "</div>"
      ],
      "text/plain": [
       "      10  100  11  12  13  14  15  150  16  18  ...  year  year old  years  \\\n",
       "0      2    0   0   1   0   0   0    0   0   0  ...     0         0      0   \n",
       "1      0    0   0   0   0   0   0    0   0   0  ...     0         0      0   \n",
       "2      0    0   0   0   0   0   0    0   0   0  ...     0         0      0   \n",
       "3      0    0   0   0   0   0   0    0   0   0  ...     0         0      0   \n",
       "4      0    0   0   0   0   0   0    0   0   0  ...     0         0      0   \n",
       "...   ..  ...  ..  ..  ..  ..  ..  ...  ..  ..  ...   ...       ...    ...   \n",
       "3856   0    0   0   0   0   0   0    0   0   0  ...     0         0      0   \n",
       "3857   0    0   0   0   0   0   0    0   0   0  ...     0         0      0   \n",
       "3858   0    0   0   0   0   0   0    0   0   0  ...     0         0      0   \n",
       "3859   0    0   0   0   0   0   0    0   0   0  ...     1         0      0   \n",
       "3860   0    0   0   0   0   0   0    0   0   0  ...     0         0      0   \n",
       "\n",
       "      years ago  yes  yesterday  yogurt  young  youtube  zero  \n",
       "0             0    0          0       0      0        0     0  \n",
       "1             0    0          0       0      0        0     0  \n",
       "2             0    0          0       0      0        0     0  \n",
       "3             0    0          0       0      1        0     0  \n",
       "4             0    0          0       0      0        0     0  \n",
       "...         ...  ...        ...     ...    ...      ...   ...  \n",
       "3856          0    0          0       0      0        0     0  \n",
       "3857          0    0          0       0      0        0     0  \n",
       "3858          0    0          0       0      0        0     0  \n",
       "3859          0    0          0       0      0        0     0  \n",
       "3860          0    0          0       0      0        0     0  \n",
       "\n",
       "[3861 rows x 1000 columns]"
      ]
     },
     "execution_count": 23,
     "metadata": {},
     "output_type": "execute_result"
    }
   ],
   "source": [
    "keto_wine_train = pd.DataFrame(X_train_cvec.toarray(),\n",
    "                        columns=cvec.get_feature_names())\n",
    "keto_wine_train"
   ]
  },
  {
   "cell_type": "code",
   "execution_count": 24,
   "metadata": {},
   "outputs": [
    {
     "data": {
      "text/html": [
       "<div>\n",
       "<style scoped>\n",
       "    .dataframe tbody tr th:only-of-type {\n",
       "        vertical-align: middle;\n",
       "    }\n",
       "\n",
       "    .dataframe tbody tr th {\n",
       "        vertical-align: top;\n",
       "    }\n",
       "\n",
       "    .dataframe thead th {\n",
       "        text-align: right;\n",
       "    }\n",
       "</style>\n",
       "<table border=\"1\" class=\"dataframe\">\n",
       "  <thead>\n",
       "    <tr style=\"text-align: right;\">\n",
       "      <th></th>\n",
       "      <th>10</th>\n",
       "      <th>100</th>\n",
       "      <th>11</th>\n",
       "      <th>12</th>\n",
       "      <th>13</th>\n",
       "      <th>14</th>\n",
       "      <th>15</th>\n",
       "      <th>150</th>\n",
       "      <th>16</th>\n",
       "      <th>18</th>\n",
       "      <th>...</th>\n",
       "      <th>year</th>\n",
       "      <th>year old</th>\n",
       "      <th>years</th>\n",
       "      <th>years ago</th>\n",
       "      <th>yes</th>\n",
       "      <th>yesterday</th>\n",
       "      <th>yogurt</th>\n",
       "      <th>young</th>\n",
       "      <th>youtube</th>\n",
       "      <th>zero</th>\n",
       "    </tr>\n",
       "  </thead>\n",
       "  <tbody>\n",
       "    <tr>\n",
       "      <td>0</td>\n",
       "      <td>0</td>\n",
       "      <td>0</td>\n",
       "      <td>0</td>\n",
       "      <td>0</td>\n",
       "      <td>0</td>\n",
       "      <td>0</td>\n",
       "      <td>0</td>\n",
       "      <td>0</td>\n",
       "      <td>0</td>\n",
       "      <td>0</td>\n",
       "      <td>...</td>\n",
       "      <td>0</td>\n",
       "      <td>0</td>\n",
       "      <td>0</td>\n",
       "      <td>0</td>\n",
       "      <td>0</td>\n",
       "      <td>0</td>\n",
       "      <td>0</td>\n",
       "      <td>0</td>\n",
       "      <td>0</td>\n",
       "      <td>0</td>\n",
       "    </tr>\n",
       "    <tr>\n",
       "      <td>1</td>\n",
       "      <td>0</td>\n",
       "      <td>0</td>\n",
       "      <td>0</td>\n",
       "      <td>0</td>\n",
       "      <td>0</td>\n",
       "      <td>0</td>\n",
       "      <td>0</td>\n",
       "      <td>0</td>\n",
       "      <td>1</td>\n",
       "      <td>0</td>\n",
       "      <td>...</td>\n",
       "      <td>1</td>\n",
       "      <td>0</td>\n",
       "      <td>0</td>\n",
       "      <td>0</td>\n",
       "      <td>0</td>\n",
       "      <td>0</td>\n",
       "      <td>0</td>\n",
       "      <td>0</td>\n",
       "      <td>0</td>\n",
       "      <td>0</td>\n",
       "    </tr>\n",
       "    <tr>\n",
       "      <td>2</td>\n",
       "      <td>0</td>\n",
       "      <td>0</td>\n",
       "      <td>0</td>\n",
       "      <td>0</td>\n",
       "      <td>0</td>\n",
       "      <td>0</td>\n",
       "      <td>0</td>\n",
       "      <td>0</td>\n",
       "      <td>0</td>\n",
       "      <td>0</td>\n",
       "      <td>...</td>\n",
       "      <td>0</td>\n",
       "      <td>0</td>\n",
       "      <td>0</td>\n",
       "      <td>0</td>\n",
       "      <td>0</td>\n",
       "      <td>0</td>\n",
       "      <td>0</td>\n",
       "      <td>0</td>\n",
       "      <td>0</td>\n",
       "      <td>0</td>\n",
       "    </tr>\n",
       "    <tr>\n",
       "      <td>3</td>\n",
       "      <td>0</td>\n",
       "      <td>0</td>\n",
       "      <td>0</td>\n",
       "      <td>0</td>\n",
       "      <td>0</td>\n",
       "      <td>0</td>\n",
       "      <td>0</td>\n",
       "      <td>0</td>\n",
       "      <td>0</td>\n",
       "      <td>0</td>\n",
       "      <td>...</td>\n",
       "      <td>1</td>\n",
       "      <td>0</td>\n",
       "      <td>0</td>\n",
       "      <td>0</td>\n",
       "      <td>0</td>\n",
       "      <td>0</td>\n",
       "      <td>0</td>\n",
       "      <td>0</td>\n",
       "      <td>0</td>\n",
       "      <td>0</td>\n",
       "    </tr>\n",
       "    <tr>\n",
       "      <td>4</td>\n",
       "      <td>0</td>\n",
       "      <td>0</td>\n",
       "      <td>0</td>\n",
       "      <td>0</td>\n",
       "      <td>0</td>\n",
       "      <td>0</td>\n",
       "      <td>0</td>\n",
       "      <td>0</td>\n",
       "      <td>0</td>\n",
       "      <td>0</td>\n",
       "      <td>...</td>\n",
       "      <td>0</td>\n",
       "      <td>0</td>\n",
       "      <td>0</td>\n",
       "      <td>0</td>\n",
       "      <td>0</td>\n",
       "      <td>0</td>\n",
       "      <td>0</td>\n",
       "      <td>0</td>\n",
       "      <td>0</td>\n",
       "      <td>0</td>\n",
       "    </tr>\n",
       "    <tr>\n",
       "      <td>...</td>\n",
       "      <td>...</td>\n",
       "      <td>...</td>\n",
       "      <td>...</td>\n",
       "      <td>...</td>\n",
       "      <td>...</td>\n",
       "      <td>...</td>\n",
       "      <td>...</td>\n",
       "      <td>...</td>\n",
       "      <td>...</td>\n",
       "      <td>...</td>\n",
       "      <td>...</td>\n",
       "      <td>...</td>\n",
       "      <td>...</td>\n",
       "      <td>...</td>\n",
       "      <td>...</td>\n",
       "      <td>...</td>\n",
       "      <td>...</td>\n",
       "      <td>...</td>\n",
       "      <td>...</td>\n",
       "      <td>...</td>\n",
       "      <td>...</td>\n",
       "    </tr>\n",
       "    <tr>\n",
       "      <td>1898</td>\n",
       "      <td>0</td>\n",
       "      <td>0</td>\n",
       "      <td>0</td>\n",
       "      <td>0</td>\n",
       "      <td>0</td>\n",
       "      <td>0</td>\n",
       "      <td>0</td>\n",
       "      <td>0</td>\n",
       "      <td>0</td>\n",
       "      <td>0</td>\n",
       "      <td>...</td>\n",
       "      <td>0</td>\n",
       "      <td>0</td>\n",
       "      <td>0</td>\n",
       "      <td>0</td>\n",
       "      <td>0</td>\n",
       "      <td>0</td>\n",
       "      <td>0</td>\n",
       "      <td>0</td>\n",
       "      <td>0</td>\n",
       "      <td>0</td>\n",
       "    </tr>\n",
       "    <tr>\n",
       "      <td>1899</td>\n",
       "      <td>0</td>\n",
       "      <td>0</td>\n",
       "      <td>0</td>\n",
       "      <td>0</td>\n",
       "      <td>0</td>\n",
       "      <td>0</td>\n",
       "      <td>0</td>\n",
       "      <td>0</td>\n",
       "      <td>0</td>\n",
       "      <td>0</td>\n",
       "      <td>...</td>\n",
       "      <td>0</td>\n",
       "      <td>0</td>\n",
       "      <td>0</td>\n",
       "      <td>0</td>\n",
       "      <td>0</td>\n",
       "      <td>0</td>\n",
       "      <td>0</td>\n",
       "      <td>0</td>\n",
       "      <td>0</td>\n",
       "      <td>0</td>\n",
       "    </tr>\n",
       "    <tr>\n",
       "      <td>1900</td>\n",
       "      <td>0</td>\n",
       "      <td>0</td>\n",
       "      <td>0</td>\n",
       "      <td>0</td>\n",
       "      <td>0</td>\n",
       "      <td>0</td>\n",
       "      <td>0</td>\n",
       "      <td>0</td>\n",
       "      <td>0</td>\n",
       "      <td>0</td>\n",
       "      <td>...</td>\n",
       "      <td>1</td>\n",
       "      <td>0</td>\n",
       "      <td>0</td>\n",
       "      <td>0</td>\n",
       "      <td>0</td>\n",
       "      <td>0</td>\n",
       "      <td>0</td>\n",
       "      <td>0</td>\n",
       "      <td>0</td>\n",
       "      <td>0</td>\n",
       "    </tr>\n",
       "    <tr>\n",
       "      <td>1901</td>\n",
       "      <td>0</td>\n",
       "      <td>0</td>\n",
       "      <td>0</td>\n",
       "      <td>0</td>\n",
       "      <td>0</td>\n",
       "      <td>0</td>\n",
       "      <td>0</td>\n",
       "      <td>0</td>\n",
       "      <td>0</td>\n",
       "      <td>0</td>\n",
       "      <td>...</td>\n",
       "      <td>1</td>\n",
       "      <td>0</td>\n",
       "      <td>0</td>\n",
       "      <td>0</td>\n",
       "      <td>0</td>\n",
       "      <td>0</td>\n",
       "      <td>0</td>\n",
       "      <td>0</td>\n",
       "      <td>0</td>\n",
       "      <td>0</td>\n",
       "    </tr>\n",
       "    <tr>\n",
       "      <td>1902</td>\n",
       "      <td>1</td>\n",
       "      <td>0</td>\n",
       "      <td>0</td>\n",
       "      <td>1</td>\n",
       "      <td>0</td>\n",
       "      <td>0</td>\n",
       "      <td>0</td>\n",
       "      <td>0</td>\n",
       "      <td>0</td>\n",
       "      <td>0</td>\n",
       "      <td>...</td>\n",
       "      <td>0</td>\n",
       "      <td>0</td>\n",
       "      <td>0</td>\n",
       "      <td>0</td>\n",
       "      <td>0</td>\n",
       "      <td>0</td>\n",
       "      <td>0</td>\n",
       "      <td>0</td>\n",
       "      <td>0</td>\n",
       "      <td>0</td>\n",
       "    </tr>\n",
       "  </tbody>\n",
       "</table>\n",
       "<p>1903 rows × 1000 columns</p>\n",
       "</div>"
      ],
      "text/plain": [
       "      10  100  11  12  13  14  15  150  16  18  ...  year  year old  years  \\\n",
       "0      0    0   0   0   0   0   0    0   0   0  ...     0         0      0   \n",
       "1      0    0   0   0   0   0   0    0   1   0  ...     1         0      0   \n",
       "2      0    0   0   0   0   0   0    0   0   0  ...     0         0      0   \n",
       "3      0    0   0   0   0   0   0    0   0   0  ...     1         0      0   \n",
       "4      0    0   0   0   0   0   0    0   0   0  ...     0         0      0   \n",
       "...   ..  ...  ..  ..  ..  ..  ..  ...  ..  ..  ...   ...       ...    ...   \n",
       "1898   0    0   0   0   0   0   0    0   0   0  ...     0         0      0   \n",
       "1899   0    0   0   0   0   0   0    0   0   0  ...     0         0      0   \n",
       "1900   0    0   0   0   0   0   0    0   0   0  ...     1         0      0   \n",
       "1901   0    0   0   0   0   0   0    0   0   0  ...     1         0      0   \n",
       "1902   1    0   0   1   0   0   0    0   0   0  ...     0         0      0   \n",
       "\n",
       "      years ago  yes  yesterday  yogurt  young  youtube  zero  \n",
       "0             0    0          0       0      0        0     0  \n",
       "1             0    0          0       0      0        0     0  \n",
       "2             0    0          0       0      0        0     0  \n",
       "3             0    0          0       0      0        0     0  \n",
       "4             0    0          0       0      0        0     0  \n",
       "...         ...  ...        ...     ...    ...      ...   ...  \n",
       "1898          0    0          0       0      0        0     0  \n",
       "1899          0    0          0       0      0        0     0  \n",
       "1900          0    0          0       0      0        0     0  \n",
       "1901          0    0          0       0      0        0     0  \n",
       "1902          0    0          0       0      0        0     0  \n",
       "\n",
       "[1903 rows x 1000 columns]"
      ]
     },
     "execution_count": 24,
     "metadata": {},
     "output_type": "execute_result"
    }
   ],
   "source": [
    "keto_wine_test = pd.DataFrame(X_test_cvec.toarray(),\n",
    "                        columns=cvec.get_feature_names())\n",
    "keto_wine_test"
   ]
  },
  {
   "cell_type": "markdown",
   "metadata": {},
   "source": [
    "**CONDUCT EDA ON THE RESULTING DATA SETS**"
   ]
  },
  {
   "cell_type": "code",
   "execution_count": 25,
   "metadata": {
    "scrolled": true
   },
   "outputs": [
    {
     "data": {
      "text/plain": [
       "Text(0.5, 1.0, 'MOST FREQUENT WORDS IN KETO AND WINE SUBREDDITS')"
      ]
     },
     "execution_count": 25,
     "metadata": {},
     "output_type": "execute_result"
    },
    {
     "data": {
      "image/png": "[encoded data removed]",
      "text/plain": [
       "<Figure size 432x288 with 1 Axes>"
      ]
     },
     "metadata": {
      "needs_background": "light"
     },
     "output_type": "display_data"
    }
   ],
   "source": [
    "keto_wine_train.sum().sort_values().tail(10).plot(kind = 'barh');\n",
    "\n",
    "plt.title(\"MOST FREQUENT WORDS IN KETO AND WINE SUBREDDITS\")\n",
    "\n"
   ]
  },
  {
   "cell_type": "code",
   "execution_count": 26,
   "metadata": {},
   "outputs": [
    {
     "data": {
      "text/plain": [
       "Text(0.5, 1.0, 'LEAST FREQUENT WORDS IN KETO AND WINE SUBREDDITS')"
      ]
     },
     "execution_count": 26,
     "metadata": {},
     "output_type": "execute_result"
    },
    {
     "data": {
      "image/png": "[encoded data removed]",
      "text/plain": [
       "<Figure size 432x288 with 1 Axes>"
      ]
     },
     "metadata": {
      "needs_background": "light"
     },
     "output_type": "display_data"
    }
   ],
   "source": [
    "keto_wine_train.sum().sort_values().head(10).plot(kind='barh');\n",
    "\n",
    "plt.title(\"LEAST FREQUENT WORDS IN KETO AND WINE SUBREDDITS\")\n",
    "\n"
   ]
  },
  {
   "cell_type": "markdown",
   "metadata": {},
   "source": [
    "**INSTANTIATE LOGREG MODEL AND CONTINUE EDA** "
   ]
  },
  {
   "cell_type": "code",
   "execution_count": 27,
   "metadata": {},
   "outputs": [],
   "source": [
    "lr=LogisticRegression()"
   ]
  },
  {
   "cell_type": "code",
   "execution_count": 28,
   "metadata": {},
   "outputs": [
    {
     "name": "stderr",
     "output_type": "stream",
     "text": [
      "C:\\Users\\tonyb\\AppData\\Local\\Continuum\\anaconda3\\lib\\site-packages\\sklearn\\linear_model\\logistic.py:432: FutureWarning: Default solver will be changed to 'lbfgs' in 0.22. Specify a solver to silence this warning.\n",
      "  FutureWarning)\n"
     ]
    },
    {
     "data": {
      "text/plain": [
       "LogisticRegression(C=1.0, class_weight=None, dual=False, fit_intercept=True,\n",
       "                   intercept_scaling=1, l1_ratio=None, max_iter=100,\n",
       "                   multi_class='warn', n_jobs=None, penalty='l2',\n",
       "                   random_state=None, solver='warn', tol=0.0001, verbose=0,\n",
       "                   warm_start=False)"
      ]
     },
     "execution_count": 28,
     "metadata": {},
     "output_type": "execute_result"
    }
   ],
   "source": [
    "lr.fit(X_train_cvec,y_train)"
   ]
  },
  {
   "cell_type": "code",
   "execution_count": 29,
   "metadata": {},
   "outputs": [
    {
     "data": {
      "text/plain": [
       "array([[ 2.88859235e-01, -5.03278532e-02, -9.00657591e-02,\n",
       "         4.73908551e-02,  3.35556713e-02, -2.79649609e-02,\n",
       "         1.32436567e-01, -2.36891353e-02, -1.82370353e-01,\n",
       "        -5.27925197e-02,  1.07685059e-01, -1.78811984e-01,\n",
       "        -9.61789868e-02,  1.55407528e-01,  5.31832221e-02,\n",
       "         1.61341506e-01,  1.21197430e-01,  3.29789600e-01,\n",
       "         3.04559783e-01,  5.77499600e-01,  5.26633002e-02,\n",
       "         2.71695672e-01,  1.48791777e-01, -7.72724220e-02,\n",
       "        -5.62556349e-02,  1.88160090e-01,  1.28541878e-01,\n",
       "        -1.91400101e-01,  5.72764208e-02, -7.82327162e-02,\n",
       "         9.16997726e-02, -4.99281316e-02, -5.61738884e-02,\n",
       "         1.78592128e-01,  1.34079795e-03,  1.81915677e-01,\n",
       "        -3.18101989e-01,  2.76153064e-01,  6.08299321e-02,\n",
       "         3.85922656e-02,  1.68060668e-01, -2.75591193e-01,\n",
       "        -1.34793419e-01,  1.32281329e-01, -6.85178737e-04,\n",
       "        -1.92328003e-01,  4.79782040e-01,  6.88721657e-02,\n",
       "         1.35561530e-01,  1.74846439e-01, -5.28579119e-01,\n",
       "        -1.01084664e-01,  2.46221102e-02, -5.03549681e-01,\n",
       "        -1.75524001e-02,  2.10101746e-01,  3.92183734e-01,\n",
       "         1.23908382e-01, -1.34405889e-01, -1.36730605e-02,\n",
       "        -2.47497136e-02, -8.60230949e-03,  2.27188551e-01,\n",
       "        -1.92096441e-01,  7.64171489e-02,  4.41664105e-01,\n",
       "         4.17575882e-02,  1.56529134e-01, -2.62631894e-01,\n",
       "         2.03358783e-01, -3.15987096e-01, -2.65601717e-01,\n",
       "        -2.22685718e-01, -2.18653627e-01,  3.68423918e-02,\n",
       "         2.66788626e-01,  6.64245732e-02, -3.20406617e-02,\n",
       "        -4.24214826e-01, -3.32347542e-02, -3.94210166e-01,\n",
       "         2.68357187e-02, -3.78684219e-01, -1.76625969e-01,\n",
       "        -1.58913020e-01,  1.18557787e-01, -2.75691331e-01,\n",
       "         2.94193000e-01, -1.24534593e-01,  5.32349236e-01,\n",
       "         6.87298554e-02, -3.17230590e-01,  2.54500403e-02,\n",
       "        -3.41183418e-02,  1.05499543e-01, -5.68325102e-02,\n",
       "        -5.90086992e-02,  1.33753265e-01, -2.68070845e-01,\n",
       "         2.78076266e-03, -4.43500067e-01,  1.91514329e-01,\n",
       "         5.65940934e-01,  2.37263524e-01, -2.37458681e-01,\n",
       "        -4.91554550e-02, -6.57104751e-01, -3.03561426e-01,\n",
       "         1.32318531e-01,  2.66497919e-01,  1.58322412e+00,\n",
       "         5.54792576e-03,  9.76874446e-01, -4.54562639e-01,\n",
       "        -7.53079593e-02, -3.71667647e-01, -7.54993033e-01,\n",
       "        -4.44788715e-01, -2.30967731e-01, -4.41407304e-01,\n",
       "         3.38124892e-01, -1.89493093e-02,  1.62221738e-02,\n",
       "        -2.97126893e-02, -1.33515776e-02,  6.72256978e-01,\n",
       "        -2.04170915e-01, -2.12791784e-01,  3.79945119e-01,\n",
       "         2.76624580e-01,  4.70377358e-01,  4.48029388e-01,\n",
       "         1.92971429e-02,  5.42440863e-01, -5.32625031e-01,\n",
       "        -4.70459191e-01, -4.53911081e-01, -7.42875126e-02,\n",
       "        -4.78495344e-01,  1.30785314e-01, -1.27634397e+00,\n",
       "        -1.63129170e+00, -2.95697088e-02, -2.31631843e-02,\n",
       "         9.57254968e-02,  7.91718002e-02, -3.42791155e-01,\n",
       "        -2.41911329e-01,  4.91985338e-01,  2.74211290e-02,\n",
       "        -1.92385911e-02,  8.16268357e-01, -2.70870636e-01,\n",
       "        -1.48757933e-01, -9.74794594e-03,  6.24085192e-01,\n",
       "         4.33465278e-01,  4.32616698e-01, -3.20174808e-01,\n",
       "         2.44056924e-01, -4.41855627e-01, -1.71080779e-01,\n",
       "        -2.67401775e-01, -1.23486689e-01, -2.39407528e-01,\n",
       "         8.42353031e-02, -2.24881281e-01, -5.33413565e-01,\n",
       "        -1.93558435e-02, -6.14673514e-02, -8.42147427e-02,\n",
       "         7.13099131e-02, -2.39945788e-01,  2.03303966e-02,\n",
       "        -3.07610866e-01, -5.75894451e-01, -9.46342722e-02,\n",
       "         5.69079267e-02,  7.97407897e-02,  1.91708678e-01,\n",
       "        -4.67270937e-03, -3.24841250e-01,  7.02232826e-02,\n",
       "         7.27470878e-03,  3.38209623e-02, -2.53245892e-01,\n",
       "         9.88388330e-03,  1.35569860e-01,  2.94038047e-01,\n",
       "         2.79072917e-02, -5.30134665e-01,  2.59500961e-02,\n",
       "         1.98496137e-01, -1.59776904e-01, -9.98590364e-02,\n",
       "        -6.21147317e-01, -1.66375207e-01,  1.91412766e-02,\n",
       "         2.49143389e-01,  2.84749365e-01,  3.29440794e-01,\n",
       "         2.90389601e-01,  2.51556635e-02, -2.08489559e-02,\n",
       "         2.46456727e-02, -7.91502727e-01,  1.83261874e-01,\n",
       "         4.74750033e-02, -4.86047510e-01, -3.57165426e-01,\n",
       "         1.42435456e-02,  3.71646484e-02,  2.69776030e-01,\n",
       "        -2.35055493e-01,  1.94090063e-01,  1.19869051e-01,\n",
       "         3.28410759e-01,  5.77723025e-02, -1.80983929e-01,\n",
       "        -7.60035610e-01,  2.45669863e-01, -7.44961481e-01,\n",
       "        -1.64682725e-01,  3.25113353e-02, -5.54048786e-01,\n",
       "         1.13187096e-03,  2.79164799e-01,  2.54008834e-02,\n",
       "        -2.37439844e-03,  1.35111404e-01,  2.36562167e-02,\n",
       "         1.03676182e-01, -3.89945211e-01, -2.57487243e-01,\n",
       "        -5.07199409e-01, -1.27020401e+00, -8.43487948e-02,\n",
       "         1.23566798e-02,  4.32868247e-01, -4.19483177e-02,\n",
       "        -1.78825643e-01, -6.60360182e-02,  1.26037933e-01,\n",
       "         2.51990997e-01,  1.57779333e-01, -5.77350704e-01,\n",
       "        -1.19481124e-01,  4.14895782e-01, -1.20023879e-01,\n",
       "         3.29065363e-01,  6.06759107e-03,  9.01733699e-02,\n",
       "        -1.85630830e-01,  1.15754935e-01,  1.20193661e-01,\n",
       "        -1.20933904e-01,  2.01515278e-01, -4.55363498e-01,\n",
       "        -2.07838610e-02,  2.10356235e-03, -8.67986377e-02,\n",
       "         2.71934441e-03,  2.98134572e-01,  1.76865278e-01,\n",
       "        -3.33635394e-01, -2.67309558e-01, -1.23880883e+00,\n",
       "        -1.75672836e-01, -8.65108142e-01, -4.22574191e-02,\n",
       "        -9.06697311e-02, -4.19684581e-01, -6.04729004e-01,\n",
       "        -1.01958030e-01, -1.23112131e-02, -1.82472119e-01,\n",
       "        -8.59649466e-02, -5.07539846e-02, -6.93915300e-02,\n",
       "        -1.43157297e-01, -2.41802729e-01, -6.31600800e-03,\n",
       "         8.13936987e-01, -1.08004110e-02,  1.23653473e-01,\n",
       "        -1.91479316e-01,  1.94183212e-02,  1.18146899e-01,\n",
       "         1.21270165e-01,  8.14483209e-02, -2.92507146e-01,\n",
       "        -4.53152811e-01,  1.91542221e-01, -3.99326844e-01,\n",
       "         9.34176435e-02, -2.81053733e-01, -1.68856798e-01,\n",
       "         1.51733378e-01, -3.58553110e-02, -1.28776645e-01,\n",
       "        -2.14378980e-02,  1.38641953e-01, -2.17809347e-01,\n",
       "        -1.40239311e-01, -1.15833874e+00, -2.25870775e-01,\n",
       "        -1.06257049e-01, -3.81432062e-01, -2.26743090e-01,\n",
       "        -3.56292865e-01, -1.24028003e-01,  3.42564490e-02,\n",
       "        -3.15254511e-01, -4.87244327e-01,  2.20516077e-03,\n",
       "        -7.86457075e-02, -5.37247081e-02, -1.03813110e-01,\n",
       "         1.14579743e-02,  3.10408141e-01, -6.15128849e-01,\n",
       "         3.35798818e-01, -8.32080736e-02, -7.72417231e-01,\n",
       "        -3.25960737e-02,  8.17153296e-02, -1.19859364e-01,\n",
       "        -6.03143999e-02, -1.15275561e-01, -4.43990849e-01,\n",
       "        -6.04071047e-01, -1.66070597e-01,  1.75786668e-01,\n",
       "        -2.38122552e-01,  3.46195374e-01,  1.90828997e-01,\n",
       "         3.62805518e-01,  2.29230770e-02, -5.08808287e-01,\n",
       "         1.35373902e-01,  1.84557729e-02, -9.69876594e-02,\n",
       "        -3.00924901e-02, -2.04652519e-01, -2.05690671e-01,\n",
       "        -1.08146699e-02, -3.07435518e-01, -2.04199475e-01,\n",
       "         7.54332158e-02,  1.08512929e-01, -2.79578826e-01,\n",
       "         3.26757447e-01,  2.48812433e-03,  1.55628424e-01,\n",
       "         1.11058231e-01,  6.09849294e-01,  4.04125438e-01,\n",
       "        -4.12072999e-01, -4.02686537e-02, -6.77185824e-02,\n",
       "        -5.81075828e-02,  1.64810973e-01, -5.11192220e-02,\n",
       "         1.78769100e-01,  4.26010356e-01,  1.42682193e-02,\n",
       "        -4.38244148e-01, -3.12847748e-01, -9.07884949e-02,\n",
       "        -3.35143674e-01, -2.16131526e-01, -5.56450831e-02,\n",
       "         3.69964994e-01,  2.90943411e-01,  1.76889494e-01,\n",
       "         2.46371965e-01,  1.60273806e-01,  7.02822131e-02,\n",
       "        -2.68882312e-01, -2.11876643e-01,  3.23760562e-01,\n",
       "         4.04034069e-02,  2.44418984e-01, -2.53682780e-03,\n",
       "         1.02587101e-01,  2.65218216e-01, -1.74920490e-01,\n",
       "        -2.73420469e-01, -3.26342720e-02, -1.10884503e-01,\n",
       "         2.04782935e-01,  2.78656493e-01, -2.18796732e-01,\n",
       "         5.80292456e-03, -3.77245821e-01, -5.71349264e-02,\n",
       "        -2.78298307e-01, -4.01279388e-01, -1.17472625e-01,\n",
       "        -6.00508524e-01,  3.27769080e-01, -2.38611548e-01,\n",
       "        -3.43925191e-01, -2.66580324e-02, -1.52721371e-01,\n",
       "        -2.15431410e-01, -1.10417294e-01, -3.86502305e-01,\n",
       "        -2.97423611e-01, -3.78038240e-02,  1.27328760e-01,\n",
       "         6.77375340e-02, -2.88987567e-02, -5.81946454e-01,\n",
       "        -1.13310181e-01,  6.06854305e-02, -1.10603874e-01,\n",
       "         1.81941452e-01, -1.89625514e-01, -1.01843309e-02,\n",
       "         2.58037729e-01,  3.91408711e-02, -6.83105696e-02,\n",
       "         1.74608329e-01,  3.45773440e-01, -3.31371908e-01,\n",
       "        -5.07369547e-01,  1.05476125e-01, -3.96753934e-01,\n",
       "         6.05652253e-02,  1.13086059e-02,  5.74035579e-02,\n",
       "         2.54746746e-02, -2.17513901e-01, -2.81931096e-02,\n",
       "        -1.21237964e-01,  1.70259575e-01, -6.45786123e-01,\n",
       "        -1.23409794e-01, -2.89797626e-01, -2.86643218e-01,\n",
       "        -5.61001030e-02, -3.86233958e-02,  1.26299715e-01,\n",
       "        -8.68044088e-02,  1.41066556e-01, -2.03449704e-01,\n",
       "        -2.27460847e-01, -6.92989062e-01, -2.06400766e-01,\n",
       "        -3.93848963e-02,  2.30499519e-01, -1.02540350e-02,\n",
       "         6.66993145e-01, -2.43536270e-02, -2.43082095e-02,\n",
       "         3.58360206e-01, -2.09902691e-01, -3.14809127e-01,\n",
       "         2.35105770e-01, -2.80201730e-02,  4.44161123e-02,\n",
       "        -5.65428400e-02,  9.96237206e-02, -2.63754783e-01,\n",
       "         4.12291534e-01, -6.07796637e-01,  1.28403819e-01,\n",
       "        -1.96416945e-01,  8.32799191e-02,  4.61141805e-02,\n",
       "        -4.17593818e-02, -4.27894552e-01, -3.24215703e-01,\n",
       "        -1.44551802e-01, -3.26284941e+00, -1.76625789e-01,\n",
       "        -3.21802270e-02, -1.39845003e-01, -5.26025054e-02,\n",
       "        -3.95283679e-02,  1.39767068e-03, -2.12313190e-01,\n",
       "        -7.48676995e-01, -1.72011612e-01,  1.10759184e-01,\n",
       "        -6.08499724e-02, -4.25456884e-01, -3.18216455e-02,\n",
       "         4.13192719e-02,  9.71064255e-02,  2.72237831e-01,\n",
       "         2.18850178e-01, -9.94073737e-02, -7.51093204e-02,\n",
       "         1.20784531e-01, -7.97978121e-04, -3.52737482e-01,\n",
       "        -1.90534924e-02, -4.15601881e-01,  1.18909363e-01,\n",
       "         7.26234970e-02,  1.14531043e-01,  1.22466773e-02,\n",
       "         2.06714822e-01,  7.38571563e-02,  5.09582598e-01,\n",
       "         1.60648473e-01, -3.83855023e-01, -1.02796251e-01,\n",
       "        -1.14602693e-02,  4.78559398e-02,  2.07906630e-02,\n",
       "        -3.57128281e-01, -7.19306628e-02,  4.14895706e-02,\n",
       "        -1.76307630e-01, -2.83016990e-01, -8.91271838e-02,\n",
       "        -2.87381249e-01,  6.98703141e-01, -1.19104169e-02,\n",
       "         3.76372292e-01,  2.58307845e-01, -5.27953511e-01,\n",
       "        -1.06378403e-02, -9.40380598e-02, -1.48483899e-01,\n",
       "        -9.94127378e-01, -1.15504051e-01, -2.61754753e-02,\n",
       "         3.56581630e-01, -2.72513731e-01, -1.39273077e-01,\n",
       "        -2.79643289e-01, -8.26345763e-03, -2.79116859e-01,\n",
       "        -1.46647235e-01, -1.05888726e-01, -4.51500962e-01,\n",
       "        -4.89365129e-02, -9.73298669e-02, -7.55165330e-02,\n",
       "        -1.43091032e-01, -1.04637219e-01, -3.86482377e-01,\n",
       "        -1.82811081e-01, -1.95030215e-01,  1.00717864e-02,\n",
       "         8.55826493e-02, -4.41190774e-01, -4.98701204e-01,\n",
       "        -5.11272142e-01,  1.23097152e-01, -6.88373483e-02,\n",
       "        -2.24092869e-02, -2.59833467e-01, -5.69737741e-01,\n",
       "        -2.44502460e-02,  3.51781538e-02, -1.35010920e-02,\n",
       "         5.76067081e-02, -5.70657086e-02,  4.99806746e-02,\n",
       "         3.35009152e-01, -9.96567986e-04,  1.60492468e-01,\n",
       "         3.34704858e-02, -1.30034441e-01, -4.62934284e-01,\n",
       "         2.79131922e-03, -8.42449871e-02, -3.95986821e-01,\n",
       "         4.77030866e-02, -1.27072248e-01,  2.74779191e-01,\n",
       "         1.97224924e-01,  1.41418397e-01, -5.74394599e-01,\n",
       "         8.39876857e-02, -8.84758476e-01,  3.32641667e-02,\n",
       "         4.61832417e-03, -1.83148565e-01,  6.13449171e-03,\n",
       "         1.07566736e-02,  1.98811564e-01,  9.06598703e-02,\n",
       "        -3.87586213e-01, -3.87460282e-01, -5.50041374e-02,\n",
       "        -1.55518112e-01, -2.79387494e-01, -8.23726935e-02,\n",
       "         1.41743163e-01, -1.60962685e-02, -3.89007580e-01,\n",
       "         7.11333145e-01,  1.13740107e-02,  1.55396940e-01,\n",
       "        -4.39945760e-02, -4.85932014e-01,  9.21600473e-02,\n",
       "        -8.65955582e-02,  1.24454792e-01, -3.00219736e-01,\n",
       "        -9.80555184e-02,  3.20280322e-01, -1.87463322e-02,\n",
       "         1.02648376e-02, -1.13512325e-01, -1.54299961e-02,\n",
       "         1.15202740e-01,  2.41430955e-01,  1.30882643e-01,\n",
       "        -4.61683419e-01, -1.32848280e-01,  2.53374783e-01,\n",
       "        -9.05174006e-02,  4.67154982e-01, -4.34195575e-01,\n",
       "        -7.26302898e-03, -7.86262852e-01, -7.54992332e-02,\n",
       "        -4.93840666e-01, -5.16350065e-01, -1.36960086e-01,\n",
       "        -7.32205180e-02,  1.21843713e-01,  3.39969777e-01,\n",
       "        -8.26082149e-01, -2.98141560e-01, -1.56316455e-01,\n",
       "         2.00380983e-01, -2.26560664e-01,  2.97926648e-01,\n",
       "         2.65987152e-01,  5.72106779e-01,  1.30087076e-01,\n",
       "         1.99973535e-01,  2.79108764e-02, -1.10006774e-02,\n",
       "        -5.23327519e-02,  2.96832916e-01, -1.30949101e-02,\n",
       "         8.03998560e-02, -1.84676395e-01, -2.61397672e-01,\n",
       "         4.74089191e-01,  6.03082836e-01,  2.35009136e-01,\n",
       "         1.47059748e-02, -1.18935458e-01, -3.54373250e-01,\n",
       "         4.57637671e-02,  1.44841512e-02, -7.96308632e-02,\n",
       "         3.66971414e-01,  3.50732056e-01,  3.72455860e-02,\n",
       "        -3.39754029e-02, -5.67406140e-02,  2.36719266e-01,\n",
       "        -2.28892165e-01,  6.00038699e-01,  2.41135583e-01,\n",
       "        -3.02584440e-01,  3.32916368e-01,  2.58612588e-01,\n",
       "         6.02563139e-03,  2.35866813e-01,  5.44652017e-02,\n",
       "         2.40870276e-03,  3.57074876e-02, -1.34717096e-01,\n",
       "         5.04990353e-01,  2.96002459e-01, -8.92409894e-02,\n",
       "         1.55279994e-02, -4.57694265e-01, -8.25357713e-01,\n",
       "        -3.42823976e-01, -5.39011391e-02,  2.60914734e-01,\n",
       "        -9.41997314e-02,  7.01356361e-03,  2.13808340e-01,\n",
       "         5.41337654e-01,  6.28054305e-02,  3.10095664e-01,\n",
       "         1.05443614e-01,  1.31757826e-01,  6.97425148e-01,\n",
       "        -3.22284681e-01, -2.32946338e-01, -4.48140800e-01,\n",
       "        -7.58411444e-01,  2.51357775e-01,  5.54925572e-01,\n",
       "         7.87728972e-03, -2.93159816e-01, -1.52090820e-01,\n",
       "        -1.29817516e-01,  3.01575511e-01,  1.23758774e-01,\n",
       "        -2.34298804e-03, -1.52019992e-01, -8.87734883e-02,\n",
       "         5.23672511e-02,  3.00591229e-02, -1.10336455e-01,\n",
       "        -8.21116470e-03,  1.75074282e-01,  7.31068238e-02,\n",
       "         8.81765455e-02, -4.02570780e-01, -7.32352421e-01,\n",
       "         2.58860950e-01,  6.94284459e-02,  8.37722815e-01,\n",
       "        -7.29519004e-02,  7.66715868e-01,  3.99105002e-02,\n",
       "         5.93937679e-01, -2.31326128e-02, -4.58950153e-02,\n",
       "         3.76551195e-01,  4.31993309e-01,  3.47884515e-01,\n",
       "         4.06357789e-02, -1.46480929e-01, -8.30060119e-03,\n",
       "         2.52779352e-01,  8.17176340e-02, -1.37248016e-01,\n",
       "         2.39166526e-02, -2.88866127e-01, -1.50769970e-01,\n",
       "         3.94840821e-02, -6.07129324e-01,  4.00523149e-01,\n",
       "        -2.98122799e-01,  2.09860469e-01,  3.21276351e-01,\n",
       "         6.17713122e-01,  3.98551680e-01,  2.62813676e-02,\n",
       "         3.22598981e-02, -3.73465168e-01, -4.80002616e-02,\n",
       "        -6.64545462e-01,  3.90906231e-01,  2.68120558e-01,\n",
       "        -1.12635638e-01, -1.38861241e-01, -5.38519113e-02,\n",
       "         1.85791371e-01, -4.20446064e-01, -9.31223997e-02,\n",
       "         1.86744810e-01, -7.80315415e-03, -1.24299318e-01,\n",
       "         1.31124815e-01,  8.02101061e-02,  2.02588613e-01,\n",
       "        -1.05288024e-02,  3.60277418e-02,  1.27372997e-01,\n",
       "         1.49933130e-01, -7.30134553e-02, -2.84692309e-01,\n",
       "         2.91115988e-01,  6.50556385e-02,  4.35952986e-01,\n",
       "        -3.25170198e-01,  3.46443521e-02,  2.32267091e-01,\n",
       "         3.11025359e-01,  2.42532259e-02,  3.55890699e-02,\n",
       "         1.37364482e-01, -1.62046692e-01, -2.70992078e-01,\n",
       "        -2.65275354e-01, -9.22018177e-02, -1.05639254e-01,\n",
       "         8.62111168e-03, -1.30458401e-01,  4.64596872e-02,\n",
       "         3.92339231e-03, -3.07662061e-02, -2.73694220e-01,\n",
       "        -1.76787101e-01, -2.31690708e-01,  4.45568141e-01,\n",
       "         1.30826669e-01,  3.36722132e-01,  2.94322971e-02,\n",
       "        -9.29773158e-02, -1.41241512e-01,  2.62693230e-01,\n",
       "         3.74364685e-01,  1.51910739e-01,  3.81472403e-01,\n",
       "         1.15167579e-02,  3.39551270e-02, -6.24868201e-02,\n",
       "         6.60524210e-02,  2.70045778e-02,  2.06791430e-01,\n",
       "        -9.83618982e-03, -5.49944019e-01, -8.12571457e-02,\n",
       "        -5.52359220e-01, -5.96451840e-02,  3.61654297e-01,\n",
       "        -1.44326892e-01,  1.85329893e-02, -3.74196421e-01,\n",
       "        -7.39538450e-01, -6.02555542e-01, -2.96720749e-02,\n",
       "        -1.92168186e-01,  1.86094647e-01,  1.31642396e-01,\n",
       "        -2.28666311e-01, -3.22392324e-01, -1.25797948e-01,\n",
       "         3.36281428e-01, -5.92473513e-02, -4.55664496e-03,\n",
       "        -3.43624204e-04,  2.68448862e-02, -3.23708861e-01,\n",
       "        -2.71931494e-02,  5.63104369e-01,  1.18920292e-01,\n",
       "         1.52178825e-01,  2.42393351e-01, -7.01903116e-02,\n",
       "        -1.88132496e-01, -1.23628165e+00,  1.54641609e-02,\n",
       "         8.52944504e-02,  6.42590548e-03, -2.31842086e-01,\n",
       "        -2.24814682e-01, -5.50636063e-01, -1.49569974e-01,\n",
       "         1.81162659e-03, -7.88777835e-02, -1.73242694e-01,\n",
       "        -2.99528383e-01, -2.43828454e-01, -8.34792489e-02,\n",
       "         3.46174758e-02, -2.11376602e-01, -4.22362517e-01,\n",
       "         3.67680944e-01, -1.34051197e-02,  3.12964337e-02,\n",
       "        -2.43853727e-01,  1.07921117e+00,  6.42790732e-03,\n",
       "         2.86198910e-01, -5.05045467e-01, -1.99371327e-01,\n",
       "         3.26426109e-01,  6.63020327e-02, -8.95970138e-02,\n",
       "        -1.49839482e-01,  2.42208786e-01,  2.70822865e-01,\n",
       "        -1.14797485e-01, -9.14235231e-02, -2.25030544e-01,\n",
       "        -1.66050112e-01, -9.92091861e-02, -2.74265468e-02,\n",
       "        -3.74177681e-01, -6.90843891e-02,  2.88714047e-01,\n",
       "         3.78733631e-02,  2.27148422e-01, -1.43250169e-01,\n",
       "         1.41306340e-01, -2.78383627e-01,  3.92371168e-02,\n",
       "        -1.00825687e+00, -1.95067337e-01, -2.79622603e-03,\n",
       "         2.03668790e-02,  1.24209740e-01, -2.94616679e-01,\n",
       "         2.85785173e-02, -5.76310668e-01,  9.81011666e-02,\n",
       "         7.37439642e-02, -7.22054442e-01, -2.34363881e-01,\n",
       "        -1.30796662e-01, -5.12520581e-01,  6.23528784e-01,\n",
       "        -2.44507347e-01, -1.40798954e-02,  2.02823682e-01,\n",
       "         3.14348617e-01, -3.65133849e-02, -2.37271823e-01,\n",
       "         4.78970529e-01,  3.34393782e-01,  2.47069770e-01,\n",
       "         3.40230518e-02,  7.85958838e-02,  1.00045171e-01,\n",
       "        -2.51133681e-01,  1.91483084e-01, -6.25845481e-01,\n",
       "         4.81351139e-01,  1.04719607e-01,  1.86002982e-03,\n",
       "        -2.99453504e-01,  1.03892116e-01,  2.17863378e-01,\n",
       "        -1.08509590e-01, -1.22392803e-01, -1.28441353e-01,\n",
       "         1.38181883e-01,  2.53526495e-01, -2.36969747e-02,\n",
       "         1.79101050e-02,  3.20591906e-01,  4.43899668e-01,\n",
       "         4.96167288e-01,  6.08481789e-01,  3.49829636e-01,\n",
       "         3.30198019e-01, -3.97729670e-01, -9.73492928e-02,\n",
       "         2.26840073e-02,  4.38342141e-02, -2.26996781e-01,\n",
       "        -2.07375179e-01,  1.89426155e-01, -2.21506129e-01,\n",
       "        -1.97577563e-02, -1.67885022e-01,  1.48289925e-01,\n",
       "         1.73472504e-01, -4.11989478e-01,  5.09623627e-01,\n",
       "        -2.75286886e-01,  3.17910419e-03, -2.86777277e-01,\n",
       "        -2.48356123e-01, -1.20940466e+00, -2.67790671e-01,\n",
       "        -1.75721190e-01, -2.54608311e-01, -7.04509729e-01,\n",
       "         4.43664467e-01,  4.88828195e-02,  1.17945542e-01,\n",
       "         1.89411322e-01,  1.64618500e-02,  2.76454998e+00,\n",
       "         2.81625164e-02,  1.99387393e-02,  2.80007091e-02,\n",
       "         9.30770533e-01,  7.77785295e-01,  1.50112432e+00,\n",
       "        -4.29926452e-02, -1.54438492e-02,  1.56586893e-01,\n",
       "        -2.30720809e-01,  1.93905739e-01,  2.59706745e-01,\n",
       "         4.03953864e-02, -1.04373006e-01, -2.99056449e-02,\n",
       "        -2.31117186e-01, -1.24114929e-02,  8.87881981e-02,\n",
       "         3.33132853e-01,  2.25270619e-02,  7.07112069e-01,\n",
       "        -1.25935992e-01, -4.54425270e-02,  1.23908382e-01,\n",
       "        -6.10530278e-02, -1.44240343e-01,  1.47146024e-01,\n",
       "         6.24358988e-02, -5.64301591e-02, -2.81543663e-01,\n",
       "        -4.13049588e-01,  1.12063052e-01, -5.03150352e-02,\n",
       "        -4.33870985e-01]])"
      ]
     },
     "execution_count": 29,
     "metadata": {},
     "output_type": "execute_result"
    }
   ],
   "source": [
    "lr.coef_"
   ]
  },
  {
   "cell_type": "code",
   "execution_count": 30,
   "metadata": {},
   "outputs": [
    {
     "data": {
      "text/plain": [
       "array([[ 1.33490381,  0.95091761,  0.91387109,  1.04853175,  1.03412501,\n",
       "         0.97242244,  1.1416066 ,  0.97658925,  0.83329267,  0.9485768 ,\n",
       "         1.11369694,  0.83626312,  0.90830143,  1.16813391,  1.05462286,\n",
       "         1.1750862 ,  1.12884776,  1.3906755 ,  1.35602793,  1.7815782 ,\n",
       "         1.05407468,  1.31218761,  1.16043134,  0.92563766,  0.94529745,\n",
       "         1.20702673,  1.13716904,  0.82580212,  1.05894849,  0.9247492 ,\n",
       "         1.09603571,  0.95129779,  0.94537473,  1.19553302,  1.0013417 ,\n",
       "         1.19951304,  0.72752858,  1.3180496 ,  1.06271816,  1.03934662,\n",
       "         1.18300838,  0.7591232 ,  0.87389642,  1.14142939,  0.99931506,\n",
       "         0.82503621,  1.6157222 ,  1.07129925,  1.14517966,  1.1910633 ,\n",
       "         0.5894419 ,  0.90385651,  1.02492774,  0.60438149,  0.98260075,\n",
       "         1.23380359,  1.48020965,  1.13191216,  0.87423515,  0.98641999,\n",
       "         0.97555405,  0.99143458,  1.25506649,  0.82522728,  1.07941276,\n",
       "         1.55529324,  1.0426417 ,  1.16944483,  0.76902493,  1.22551208,\n",
       "         0.72906886,  0.76674445,  0.80036635,  0.80360002,  1.03752948,\n",
       "         1.30576441,  1.06868035,  0.9684672 ,  0.65428331,  0.96731145,\n",
       "         0.67421234,  1.02719904,  0.68476181,  0.8380932 ,  0.85307056,\n",
       "         1.12587193,  0.75904719,  1.34204289,  0.88290772,  1.70292819,\n",
       "         1.07114681,  0.72816283,  1.02577666,  0.96645713,  1.1112656 ,\n",
       "         0.94475229,  0.94269857,  1.14311074,  0.76485359,  1.00278463,\n",
       "         0.64178619,  1.21108219,  1.76110409,  1.26777516,  0.78862948,\n",
       "         0.95203312,  0.51834992,  0.73818454,  1.14147186,  1.30538487,\n",
       "         4.87063402,  1.00556334,  2.65614134,  0.63472551,  0.92745782,\n",
       "         0.68958339,  0.47001389,  0.64095969,  0.79376508,  0.6431307 ,\n",
       "         1.40231563,  0.9812291 ,  1.01635447,  0.97072439,  0.98673716,\n",
       "         1.95865297,  0.81532301,  0.80832443,  1.46220434,  1.31867122,\n",
       "         1.60059808,  1.56522469,  1.01948454,  1.72020052,  0.58706189,\n",
       "         0.62471534,  0.63513921,  0.92840473,  0.61971515,  1.13972307,\n",
       "         0.27905567,  0.19567666,  0.9708632 ,  0.97710302,  1.10045694,\n",
       "         1.08239026,  0.70978643,  0.78512579,  1.63556014,  1.02780055,\n",
       "         0.98094529,  2.26204293,  0.76271516,  0.8617777 ,  0.99029941,\n",
       "         1.86653765,  1.54259379,  1.54128533,  0.72602211,  1.27641699,\n",
       "         0.64284244,  0.84275349,  0.7653655 ,  0.88383341,  0.78709405,\n",
       "         1.08788485,  0.79861102,  0.58659915,  0.98083028,  0.94038365,\n",
       "         0.91923384,  1.07391399,  0.78667051,  1.02053847,  0.73520135,\n",
       "         0.56220178,  0.90970558,  1.05855834,  1.0830063 ,  1.21131758,\n",
       "         0.99533819,  0.72264206,  1.07274768,  1.00730123,  1.03439939,\n",
       "         0.77627698,  1.00993289,  1.1451892 ,  1.34183496,  1.02830035,\n",
       "         0.58852571,  1.02628973,  1.21956732,  0.85233392,  0.90496498,\n",
       "         0.5373276 ,  0.84672848,  1.01932565,  1.28292598,  1.32942878,\n",
       "         1.39019051,  1.33694826,  1.02547474,  0.97936688,  1.02495189,\n",
       "         0.4531633 ,  1.20112891,  1.04861999,  0.61505259,  0.69965675,\n",
       "         1.01434547,  1.03786389,  1.30967109,  0.79052698,  1.21420563,\n",
       "         1.12734922,  1.3887593 ,  1.05947373,  0.83444877,  0.46764977,\n",
       "         1.27847743,  0.47475259,  0.84816276,  1.0330456 ,  0.57461859,\n",
       "         1.00113251,  1.32202519,  1.02572623,  0.99762842,  1.1446643 ,\n",
       "         1.02393824,  1.1092412 ,  0.67709397,  0.77299149,  0.60217968,\n",
       "         0.28077434,  0.91911062,  1.01243334,  1.54167309,  0.95891934,\n",
       "         0.83625169,  0.93609715,  1.1343252 ,  1.28658445,  1.17090779,\n",
       "         0.56138367,  0.88738076,  1.51421292,  0.88689926,  1.38966869,\n",
       "         1.00608604,  1.094364  ,  0.83058016,  1.1227207 ,  1.12771522,\n",
       "         0.88609252,  1.22325493,  0.63421739,  0.97943063,  1.00210578,\n",
       "         0.9168617 ,  1.00272305,  1.34734309,  1.1934703 ,  0.71631491,\n",
       "         0.76543609,  0.28972913,  0.83889239,  0.42100602,  0.95862298,\n",
       "         0.9133193 ,  0.6572541 ,  0.54622243,  0.90306745,  0.98776426,\n",
       "         0.83320787,  0.9176264 ,  0.95051248,  0.93296133,  0.86661774,\n",
       "         0.78521106,  0.9937039 ,  2.25677542,  0.9892577 ,  1.13162366,\n",
       "         0.8257367 ,  1.01960808,  1.12540942,  1.12892987,  1.08485715,\n",
       "         0.74638991,  0.635621  ,  1.21111597,  0.67077143,  1.09792018,\n",
       "         0.75498777,  0.84462985,  1.16384989,  0.96477988,  0.87917031,\n",
       "         0.97879026,  1.14871273,  0.80427876,  0.86915021,  0.31400739,\n",
       "         0.79782119,  0.89919348,  0.68288278,  0.79712555,  0.70026751,\n",
       "         0.8833551 ,  1.03484996,  0.72960316,  0.61431692,  1.00220759,\n",
       "         0.92436736,  0.94769296,  0.90139374,  1.01152387,  1.3639817 ,\n",
       "         0.54057124,  1.39905753,  0.92015967,  0.46189521,  0.96792945,\n",
       "         1.08514686,  0.88704518,  0.94146849,  0.89112055,  0.64147129,\n",
       "         0.54658194,  0.84698644,  1.1921837 ,  0.7881061 ,  1.41367878,\n",
       "         1.21025248,  1.43735629,  1.02318783,  0.60121162,  1.14496481,\n",
       "         1.01862713,  0.90756721,  0.97035578,  0.81493044,  0.81408486,\n",
       "         0.9892436 ,  0.73533028,  0.81529972,  1.07835121,  1.11461932,\n",
       "         0.75610212,  1.38646515,  1.00249122,  1.16839198,  1.11745998,\n",
       "         1.84015406,  1.49799184,  0.66227593,  0.96053135,  0.93452343,\n",
       "         0.94354843,  1.1791702 ,  0.95016538,  1.19574461,  1.53113663,\n",
       "         1.0143705 ,  0.64516825,  0.73136126,  0.91321084,  0.71523532,\n",
       "         0.80562933,  0.94587478,  1.44768394,  1.33768888,  1.1934992 ,\n",
       "         1.27937537,  1.17383223,  1.0728109 ,  0.76423319,  0.8090645 ,\n",
       "         1.38231629,  1.04123073,  1.27687921,  0.99746639,  1.10803381,\n",
       "         1.30371544,  0.83952377,  0.76077284,  0.96789248,  0.89504212,\n",
       "         1.22725864,  1.32135337,  0.80348502,  1.00581979,  0.68574748,\n",
       "         0.94446663,  0.75707095,  0.669463  ,  0.88916485,  0.54853262,\n",
       "         1.38786845,  0.78772081,  0.70898196,  0.97369416,  0.85836886,\n",
       "         0.80619357,  0.89546039,  0.67942916,  0.74272932,  0.96290182,\n",
       "         1.13579036,  1.07008441,  0.97151482,  0.55880961,  0.89287366,\n",
       "         1.06256461,  0.89529333,  1.19954396,  0.82726888,  0.98986735,\n",
       "         1.29438765,  1.03991697,  0.93397037,  1.19077973,  1.41308243,\n",
       "         0.71793811,  0.60207723,  1.11123957,  0.67249948,  1.06243689,\n",
       "         1.01137279,  1.05908313,  1.02580193,  0.80451642,  0.97220061,\n",
       "         0.88582314,  1.18561257,  0.52425025,  0.88390137,  0.74841501,\n",
       "         0.75077955,  0.94544449,  0.96211298,  1.13462218,  0.91685641,\n",
       "         1.15150128,  0.81591124,  0.79655361,  0.50007907,  0.81350699,\n",
       "         0.96138061,  1.25922886,  0.98979836,  1.94837004,  0.97594053,\n",
       "         0.97598486,  1.43098098,  0.81066313,  0.72992818,  1.26504256,\n",
       "         0.97236875,  1.04541728,  0.945026  ,  1.10475514,  0.76816188,\n",
       "         1.51027467,  0.54454939,  1.13701206,  0.82166957,  1.08684599,\n",
       "         1.04719397,  0.95910053,  0.65188015,  0.72309425,  0.86541008,\n",
       "         0.03827917,  0.83809335,  0.96833205,  0.86949299,  0.94875706,\n",
       "         0.96124269,  1.00139865,  0.80871138,  0.47299191,  0.8419694 ,\n",
       "         1.11712585,  0.9409644 ,  0.65347116,  0.96867933,  1.04218479,\n",
       "         1.10197765,  1.31289921,  1.24464479,  0.90537381,  0.92764207,\n",
       "         1.12838176,  0.99920234,  0.70276166,  0.98112688,  0.65994295,\n",
       "         1.12626783,  1.0753256 ,  1.12134745,  1.01232197,  1.22963186,\n",
       "         1.076653  ,  1.66459624,  1.17427211,  0.68123018,  0.9023108 ,\n",
       "         0.98860515,  1.04901952,  1.02100829,  0.69968274,  0.93059542,\n",
       "         1.04236229,  0.83836004,  0.75350699,  0.91472923,  0.75022565,\n",
       "         2.01114285,  0.98816023,  1.45698946,  1.29473734,  0.58981078,\n",
       "         0.98941854,  0.91024812,  0.86201389,  0.37004621,  0.89091696,\n",
       "         0.97416413,  1.42843813,  0.76146297,  0.86999042,  0.75605339,\n",
       "         0.99177059,  0.7564515 ,  0.86359857,  0.89952474,  0.63667181,\n",
       "         0.95224158,  0.90725668,  0.9272644 ,  0.86667517,  0.9006512 ,\n",
       "         0.6794427 ,  0.8329255 ,  0.8228098 ,  1.01012268,  1.08935159,\n",
       "         0.64326998,  0.60731893,  0.59973215,  1.13099429,  0.9334785 ,\n",
       "         0.97783994,  0.77118   ,  0.56567377,  0.97584624,  1.03580422,\n",
       "         0.98658964,  1.0592983 ,  0.944532  ,  1.05125078,  1.39795318,\n",
       "         0.99900393,  1.17408893,  1.03403692,  0.87806519,  0.62943399,\n",
       "         1.00279522,  0.91920603,  0.67301557,  1.04885919,  0.88067004,\n",
       "         1.31624   ,  1.21801797,  1.1519065 ,  0.56304563,  1.0876155 ,\n",
       "         0.41281387,  1.0338236 ,  1.00462901,  0.83264444,  1.00615335,\n",
       "         1.01081473,  1.21995206,  1.09489654,  0.67869312,  0.67877859,\n",
       "         0.94648123,  0.85597157,  0.75624681,  0.92092867,  1.15228066,\n",
       "         0.98403258,  0.67772913,  2.03670467,  1.01143894,  1.16812154,\n",
       "         0.95695915,  0.61512363,  1.09654031,  0.91704791,  1.13253082,\n",
       "         0.74065545,  0.90659857,  1.37751386,  0.98142829,  1.0103177 ,\n",
       "         0.89269319,  0.98468844,  1.12210091,  1.27306955,  1.13983401,\n",
       "         0.63022182,  0.87559793,  1.28836604,  0.91345844,  1.59544865,\n",
       "         0.64778555,  0.99276328,  0.45554405,  0.92728044,  0.61027801,\n",
       "         0.59669447,  0.87200503,  0.92939586,  1.12957755,  1.40490513,\n",
       "         0.43776101,  0.74219627,  0.85528849,  1.22186818,  0.79727097,\n",
       "         1.34706297,  1.3047183 ,  1.77199633,  1.13892755,  1.22137043,\n",
       "         1.02830403,  0.98905961,  0.94901303,  1.34559045,  0.98699046,\n",
       "         1.08372031,  0.83137328,  0.76997466,  1.60655027,  1.82774476,\n",
       "         1.26492032,  1.01481464,  0.8878651 ,  0.70161304,  1.04682709,\n",
       "         1.01458955,  0.92345717,  1.44335666,  1.42010677,  1.03794789,\n",
       "         0.96659528,  0.94483912,  1.26708535,  0.7954143 ,  1.82218932,\n",
       "         1.27269358,  0.73890609,  1.39503062,  1.29513196,  1.00604382,\n",
       "         1.26600568,  1.05597573,  1.00241161,  1.03635266,  0.87396312,\n",
       "         1.65696954,  1.34447346,  0.91462513,  1.01564919,  0.6327409 ,\n",
       "         0.43807826,  0.70976314,  0.94752578,  1.29811698,  0.91010097,\n",
       "         1.00703822,  1.23838528,  1.71830382,  1.06481964,  1.36355555,\n",
       "         1.11120345,  1.14083201,  2.00857426,  0.72449191,  0.79219608,\n",
       "         0.63881473,  0.46840993,  1.28577002,  1.74181134,  1.0079084 ,\n",
       "         0.74590292,  0.85891027,  0.87825568,  1.3519872 ,  1.13174283,\n",
       "         0.99765975,  0.85897111,  0.91505282,  1.05376267,  1.03051546,\n",
       "         0.89553278,  0.99182245,  1.19133471,  1.07584546,  1.09218092,\n",
       "         0.66859901,  0.48077667,  1.29545366,  1.07189536,  2.31109818,\n",
       "         0.92964554,  2.15268493,  1.04071763,  1.81110595,  0.97713289,\n",
       "         0.95514223,  1.45725014,  1.54032481,  1.41606871,  1.04147271,\n",
       "         0.8637422 ,  0.99173375,  1.28759914,  1.08514936,  0.87175399,\n",
       "         1.02420495,  0.74911248,  0.86004551,  1.04027394,  0.54491289,\n",
       "         1.49260535,  0.74221019,  1.23350594,  1.37888658,  1.85468176,\n",
       "         1.48966562,  1.02662977,  1.03278589,  0.68834496,  0.95313354,\n",
       "         0.51450734,  1.47831989,  1.30750476,  0.89347615,  0.87034879,\n",
       "         0.94757242,  1.20417101,  0.6567538 ,  0.91108198,  1.20531966,\n",
       "         0.99222721,  0.88311547,  1.14011008,  1.0835147 ,  1.22456859,\n",
       "         0.98952643,  1.03668461,  1.1358406 ,  1.16175655,  0.92958832,\n",
       "         0.75224568,  1.33791976,  1.0672184 ,  1.54643609,  0.72240439,\n",
       "         1.03525146,  1.26145661,  1.36482383,  1.02454973,  1.03622994,\n",
       "         1.14724622,  0.8504015 ,  0.76262254,  0.76699473,  0.91192109,\n",
       "         0.89974917,  1.00865838,  0.877693  ,  1.04755585,  1.0039311 ,\n",
       "         0.96970226,  0.76056461,  0.83795817,  0.79319141,  1.56137703,\n",
       "         1.13977021,  1.4003499 ,  1.02986971,  0.91121417,  0.86827959,\n",
       "         1.30042773,  1.45406733,  1.16405633,  1.46443925,  1.01158333,\n",
       "         1.03453818,  0.93942544,  1.06828272,  1.02737251,  1.22972606,\n",
       "         0.99021203,  0.57698211,  0.92195658,  0.57559026,  0.94209875,\n",
       "         1.43570253,  0.86560474,  1.01870579,  0.68784179,  0.47733418,\n",
       "         0.54741092,  0.97076382,  0.82516807,  1.20453626,  1.14070033,\n",
       "         0.79559397,  0.72441393,  0.881793  ,  1.39973289,  0.94247362,\n",
       "         0.99545372,  0.99965643,  1.02720846,  0.72346084,  0.97317326,\n",
       "         1.75611568,  1.12628014,  1.16436844,  1.27429534,  0.93221639,\n",
       "         0.82850493,  0.29046225,  1.01558435,  1.08903769,  1.0064466 ,\n",
       "         0.79307135,  0.79866421,  0.57658295,  0.86107818,  1.00181327,\n",
       "         0.92415286,  0.8409335 ,  0.74116769,  0.78362205,  0.91991018,\n",
       "         1.03522363,  0.80946916,  0.65549637,  1.44438113,  0.98668433,\n",
       "         1.03179132,  0.78360225,  2.94235762,  1.00644861,  1.33135725,\n",
       "         0.60347814,  0.81924563,  1.38600583,  1.06854941,  0.91429956,\n",
       "         0.86084615,  1.27406017,  1.31104282,  0.89154668,  0.91263111,\n",
       "         0.79849183,  0.84700379,  0.90555326,  0.97294615,  0.68785468,\n",
       "         0.93324792,  1.33471001,  1.0385997 ,  1.25501613,  0.86653726,\n",
       "         1.15177743,  0.75700636,  1.04001706,  0.36485442,  0.82277925,\n",
       "         0.99720768,  1.0205757 ,  1.13225333,  0.74481704,  1.0289908 ,\n",
       "         0.56196783,  1.10307437,  1.07653114,  0.48575328,  0.79107391,\n",
       "         0.87739616,  0.59898389,  1.86549938,  0.78309024,  0.98601876,\n",
       "         1.22485649,  1.36936704,  0.96414519,  0.78877685,  1.61441156,\n",
       "         1.39709318,  1.28026843,  1.03460846,  1.08176707,  1.10522084,\n",
       "         0.77791837,  1.21104435,  0.53480907,  1.61825942,  1.11039922,\n",
       "         1.00186176,  0.74122319,  1.10948075,  1.24341718,  0.89717029,\n",
       "         0.88480075,  0.87946514,  1.14818437,  1.28856152,  0.97658159,\n",
       "         1.01807145,  1.37794314,  1.55877408,  1.64241429,  1.83763935,\n",
       "         1.41882581,  1.39124359,  0.67184362,  0.90723906,  1.02294325,\n",
       "         1.04480913,  0.79692335,  0.81271468,  1.20855587,  0.80131101,\n",
       "         0.98043615,  0.84545104,  1.15984912,  1.18942798,  0.66233125,\n",
       "         1.66466454,  0.75935424,  1.00318416,  0.7506789 ,  0.78008209,\n",
       "         0.29837486,  0.76506792,  0.83885183,  0.77522008,  0.49435088,\n",
       "         1.5584075 ,  1.05009729,  1.12518284,  1.20853795,  1.01659809,\n",
       "        15.87189574,  1.02856283,  1.02013884,  1.02839641,  2.53646285,\n",
       "         2.17664629,  4.48673074,  0.95791844,  0.9846748 ,  1.16951238,\n",
       "         0.7939611 ,  1.21398185,  1.29654981,  1.04122238,  0.9008892 ,\n",
       "         0.9705371 ,  0.79364646,  0.98766521,  1.09284916,  1.39533266,\n",
       "         1.02278271,  2.02812571,  0.88167128,  0.95557452,  1.13191216,\n",
       "         0.94077335,  0.86567966,  1.15852312,  1.06442623,  0.94513249,\n",
       "         0.75461797,  0.66162947,  1.11858339,  0.9509298 ,  0.64799585]])"
      ]
     },
     "execution_count": 30,
     "metadata": {},
     "output_type": "execute_result"
    }
   ],
   "source": [
    "np.exp(lr.coef_)"
   ]
  },
  {
   "cell_type": "code",
   "execution_count": 31,
   "metadata": {},
   "outputs": [],
   "source": [
    "preds = lr.predict(X_test_cvec)"
   ]
  },
  {
   "cell_type": "code",
   "execution_count": 32,
   "metadata": {},
   "outputs": [
    {
     "data": {
      "text/plain": [
       "array([1, 0, 1, ..., 1, 1, 1], dtype=int64)"
      ]
     },
     "execution_count": 32,
     "metadata": {},
     "output_type": "execute_result"
    }
   ],
   "source": [
    "preds"
   ]
  },
  {
   "cell_type": "code",
   "execution_count": 33,
   "metadata": {},
   "outputs": [
    {
     "data": {
      "text/plain": [
       "0.9852863899106674"
      ]
     },
     "execution_count": 33,
     "metadata": {},
     "output_type": "execute_result"
    }
   ],
   "source": [
    "#lr.score provides us with the accuracy score\n",
    "lr.score(X_test_cvec,y_test)"
   ]
  },
  {
   "cell_type": "markdown",
   "metadata": {},
   "source": [
    "**ROC AUC CURVE**"
   ]
  },
  {
   "cell_type": "code",
   "execution_count": 34,
   "metadata": {},
   "outputs": [
    {
     "data": {
      "text/plain": [
       "array([[926,  26],\n",
       "       [  2, 949]], dtype=int64)"
      ]
     },
     "execution_count": 34,
     "metadata": {},
     "output_type": "execute_result"
    }
   ],
   "source": [
    "# Generate confusion matrix.\n",
    "# Documentation here: https://scikit-learn.org/stable/modules/generated/sklearn.metrics.confusion_matrix.html\n",
    "\n",
    "confusion_matrix(y_test, # True values.\n",
    "                 preds)  # Predicted values."
   ]
  },
  {
   "cell_type": "code",
   "execution_count": 35,
   "metadata": {},
   "outputs": [],
   "source": [
    "# Save TN/FP/FN/TP values.\n",
    "\n",
    "tn, fp, fn, tp = confusion_matrix(y_test, preds).ravel()\n",
    "\n",
    "# Note that .ravel() will arrange items in a one-dimensional array.\n",
    "# https://docs.scipy.org/doc/numpy/reference/generated/numpy.ravel.html"
   ]
  },
  {
   "cell_type": "code",
   "execution_count": 36,
   "metadata": {},
   "outputs": [
    {
     "name": "stdout",
     "output_type": "stream",
     "text": [
      "Specificity: 0.9727\n"
     ]
    }
   ],
   "source": [
    "# What is the specificity of our test set?\n",
    "\n",
    "spec = tn / (tn + fp)\n",
    "\n",
    "print(f'Specificity: {round(spec,4)}')"
   ]
  },
  {
   "cell_type": "code",
   "execution_count": 37,
   "metadata": {},
   "outputs": [
    {
     "name": "stdout",
     "output_type": "stream",
     "text": [
      "Sensitivity: 0.9979\n"
     ]
    }
   ],
   "source": [
    "# What is the sensitivity of our test set?\n",
    "\n",
    "sens = tp / (tp + fn)\n",
    "\n",
    "print(f'Sensitivity: {round(sens,4)}')"
   ]
  },
  {
   "cell_type": "code",
   "execution_count": 38,
   "metadata": {},
   "outputs": [],
   "source": [
    "# Let's create a dataframe called pred_df that contains:\n",
    "# 1. The list of true values of our test set.\n",
    "# 2. The list of predicted probabilities based on our model.\n",
    "\n",
    "pred_proba = [i[1] for i in lr.predict_proba(X_test_cvec)]\n",
    "\n",
    "pred_df = pd.DataFrame({'true_values': y_test,\n",
    "                        'pred_probs':pred_proba})"
   ]
  },
  {
   "cell_type": "code",
   "execution_count": 39,
   "metadata": {},
   "outputs": [
    {
     "data": {
      "image/png": "[encoded data removed]",
      "text/plain": [
       "<Figure size 720x504 with 1 Axes>"
      ]
     },
     "metadata": {
      "needs_background": "light"
     },
     "output_type": "display_data"
    }
   ],
   "source": [
    "# Create figure.\n",
    "plt.figure(figsize = (10,7))\n",
    "\n",
    "# Create histogram of observations.\n",
    "plt.hist(pred_df['pred_probs'], bins=25)\n",
    "\n",
    "# Label axes.\n",
    "plt.title('Distribution of P(Outcome = 1)', fontsize=22)\n",
    "plt.ylabel('Frequency', fontsize=18)\n",
    "plt.xlabel('Predicted Probability that Outcome = 1', fontsize=18);"
   ]
  },
  {
   "cell_type": "code",
   "execution_count": 40,
   "metadata": {},
   "outputs": [
    {
     "data": {
      "image/png": "[encoded data removed]",
      "text/plain": [
       "<Figure size 720x504 with 1 Axes>"
      ]
     },
     "metadata": {
      "needs_background": "light"
     },
     "output_type": "display_data"
    }
   ],
   "source": [
    "# Create figure.\n",
    "plt.figure(figsize = (10,7))\n",
    "\n",
    "# Create two histograms of observations.\n",
    "plt.hist(pred_df[pred_df['true_values'] == 0]['pred_probs'],\n",
    "         bins=25,\n",
    "         color='b',\n",
    "         alpha = 0.6,\n",
    "         label='Outcome = 0')\n",
    "plt.hist(pred_df[pred_df['true_values'] == 1]['pred_probs'],\n",
    "         bins=25,\n",
    "         color='orange',\n",
    "         alpha = 0.6,\n",
    "         label='Outcome = 1')\n",
    "\n",
    "# Label axes.\n",
    "plt.title('Distribution of P(Outcome = 1)', fontsize=22)\n",
    "plt.ylabel('Frequency', fontsize=18)\n",
    "plt.xlabel('Predicted Probability that Outcome = 1', fontsize=18)\n",
    "\n",
    "# Create legend.\n",
    "plt.legend(fontsize=20);"
   ]
  },
  {
   "cell_type": "code",
   "execution_count": 41,
   "metadata": {},
   "outputs": [
    {
     "data": {
      "image/png": "[encoded data removed]",
      "text/plain": [
       "<Figure size 720x504 with 1 Axes>"
      ]
     },
     "metadata": {
      "needs_background": "light"
     },
     "output_type": "display_data"
    }
   ],
   "source": [
    "# Create figure.\n",
    "plt.figure(figsize = (10,7))\n",
    "\n",
    "# Create two histograms of observations.\n",
    "plt.hist(pred_df[pred_df['true_values'] == 0]['pred_probs'],\n",
    "         bins=25,\n",
    "         color='b',\n",
    "         alpha = 0.6,\n",
    "         label='Keto = 0')\n",
    "plt.hist(pred_df[pred_df['true_values'] == 1]['pred_probs'],\n",
    "         bins=25,\n",
    "         color='orange',\n",
    "         alpha = 0.6,\n",
    "         label='Wine = 1')\n",
    "\n",
    "# Add vertical line at P(Outcome = 1) = 0.5.\n",
    "plt.vlines(x=0.5,\n",
    "           ymin = 0,\n",
    "           ymax = 800,\n",
    "           color='r',\n",
    "           linestyle = '--')\n",
    "\n",
    "# Label axes.\n",
    "plt.title('Distribution of P(Outcome = 1)', fontsize=22)\n",
    "plt.ylabel('Frequency', fontsize=18)\n",
    "plt.xlabel('Predicted Probability that Outcome = 1', fontsize=18)\n",
    "\n",
    "# Create legend.\n",
    "plt.legend(fontsize=20);"
   ]
  },
  {
   "cell_type": "code",
   "execution_count": 42,
   "metadata": {},
   "outputs": [
    {
     "data": {
      "image/png": "[encoded data removed]",
      "text/plain": [
       "<Figure size 720x504 with 1 Axes>"
      ]
     },
     "metadata": {
      "needs_background": "light"
     },
     "output_type": "display_data"
    }
   ],
   "source": [
    "# Create figure.\n",
    "plt.figure(figsize = (10,7))\n",
    "\n",
    "# Create two histograms of observations.\n",
    "plt.hist(pred_df[pred_df['true_values'] == 0]['pred_probs'],\n",
    "         bins=25,\n",
    "         color='b',\n",
    "         alpha = 0.6,\n",
    "         label='Keto = 0')\n",
    "plt.hist(pred_df[pred_df['true_values'] == 1]['pred_probs'],\n",
    "         bins=25,\n",
    "         color='orange',\n",
    "         alpha = 0.6,\n",
    "         label='Wine = 1')\n",
    "\n",
    "# Add vertical line at P(Outcome = 1) = 0.1.\n",
    "plt.vlines(x=0.1,\n",
    "           ymin = 0,\n",
    "           ymax = 800,\n",
    "           color='r',\n",
    "           linestyle = '--')\n",
    "\n",
    "# Label axes.\n",
    "plt.title('Distribution of P(Outcome = 1)', fontsize=22)\n",
    "plt.ylabel('Frequency', fontsize=18)\n",
    "plt.xlabel('Predicted Probability that Outcome = 1', fontsize=18)\n",
    "\n",
    "# Create legend.\n",
    "plt.legend(fontsize=20);"
   ]
  },
  {
   "cell_type": "code",
   "execution_count": 43,
   "metadata": {},
   "outputs": [
    {
     "data": {
      "image/png": "[encoded data removed]",
      "text/plain": [
       "<Figure size 720x504 with 1 Axes>"
      ]
     },
     "metadata": {
      "needs_background": "light"
     },
     "output_type": "display_data"
    }
   ],
   "source": [
    "# Create figure.\n",
    "plt.figure(figsize = (10,7))\n",
    "\n",
    "# Create threshold values.\n",
    "thresholds = np.linspace(0, 1, 200)\n",
    "\n",
    "# Define function to calculate sensitivity. (True positive rate.)\n",
    "def TPR(df, true_col, pred_prob_col, threshold):\n",
    "    true_positive = df[(df[true_col] == 1) & (df[pred_prob_col] >= threshold)].shape[0]\n",
    "    false_negative = df[(df[true_col] == 1) & (df[pred_prob_col] < threshold)].shape[0]\n",
    "    return true_positive / (true_positive + false_negative)\n",
    "    \n",
    "\n",
    "# Define function to calculate 1 - specificity. (False positive rate.)\n",
    "def FPR(df, true_col, pred_prob_col, threshold):\n",
    "    true_negative = df[(df[true_col] == 0) & (df[pred_prob_col] <= threshold)].shape[0]\n",
    "    false_positive = df[(df[true_col] == 0) & (df[pred_prob_col] > threshold)].shape[0]\n",
    "    return 1 - (true_negative / (true_negative + false_positive))\n",
    "    \n",
    "# Calculate sensitivity & 1-specificity for each threshold between 0 and 1.\n",
    "tpr_values = [TPR(pred_df, 'true_values', 'pred_probs', prob) for prob in thresholds]\n",
    "fpr_values = [FPR(pred_df, 'true_values', 'pred_probs', prob) for prob in thresholds]\n",
    "\n",
    "# Plot ROC curve.\n",
    "plt.plot(fpr_values, # False Positive Rate on X-axis\n",
    "         tpr_values, # True Positive Rate on Y-axis\n",
    "         label='ROC Curve')\n",
    "\n",
    "# Plot baseline. (Perfect overlap between the two populations.)\n",
    "plt.plot(np.linspace(0, 1, 200),\n",
    "         np.linspace(0, 1, 200),\n",
    "         label='baseline',\n",
    "         linestyle='--')\n",
    "\n",
    "# Label axes.\n",
    "plt.title('Receiver Operating Characteristic Curve', fontsize=22)\n",
    "plt.ylabel('Sensitivity', fontsize=18)\n",
    "plt.xlabel('1 - Specificity', fontsize=18)\n",
    "\n",
    "# Create legend.\n",
    "plt.legend(fontsize=16);"
   ]
  },
  {
   "cell_type": "code",
   "execution_count": 44,
   "metadata": {},
   "outputs": [],
   "source": [
    "from sklearn.metrics import roc_auc_score"
   ]
  },
  {
   "cell_type": "code",
   "execution_count": 45,
   "metadata": {},
   "outputs": [
    {
     "data": {
      "text/plain": [
       "0.9984900900423261"
      ]
     },
     "execution_count": 45,
     "metadata": {},
     "output_type": "execute_result"
    }
   ],
   "source": [
    "roc_auc_score(pred_df['true_values'], pred_df['pred_probs'])"
   ]
  },
  {
   "cell_type": "code",
   "execution_count": 46,
   "metadata": {
    "scrolled": true
   },
   "outputs": [
    {
     "data": {
      "image/png": "[encoded data removed]",
      "text/plain": [
       "<Figure size 720x504 with 1 Axes>"
      ]
     },
     "metadata": {
      "needs_background": "light"
     },
     "output_type": "display_data"
    }
   ],
   "source": [
    "# Create figure.\n",
    "plt.figure(figsize = (10,7))\n",
    "\n",
    "# Create threshold values.\n",
    "thresholds = np.linspace(0, 1, 200)\n",
    "\n",
    "# Define function to calculate sensitivity. (True positive rate.)\n",
    "def TPR(df, true_col, pred_prob_col, threshold):\n",
    "    true_positive = df[(df[true_col] == 1) & (df[pred_prob_col] >= threshold)].shape[0]\n",
    "    false_negative = df[(df[true_col] == 1) & (df[pred_prob_col] < threshold)].shape[0]\n",
    "    return true_positive / (true_positive + false_negative)\n",
    "    \n",
    "\n",
    "# Define function to calculate 1 - specificity. (False positive rate.)\n",
    "def FPR(df, true_col, pred_prob_col, threshold):\n",
    "    true_negative = df[(df[true_col] == 0) & (df[pred_prob_col] <= threshold)].shape[0]\n",
    "    false_positive = df[(df[true_col] == 0) & (df[pred_prob_col] > threshold)].shape[0]\n",
    "    return 1 - (true_negative / (true_negative + false_positive))\n",
    "    \n",
    "# Calculate sensitivity & 1-specificity for each threshold between 0 and 1.\n",
    "tpr_values = [TPR(pred_df, 'true_values', 'pred_probs', prob) for prob in thresholds]\n",
    "fpr_values = [FPR(pred_df, 'true_values', 'pred_probs', prob) for prob in thresholds]\n",
    "\n",
    "# Plot ROC curve.\n",
    "plt.plot(fpr_values, # False Positive Rate on X-axis\n",
    "         tpr_values, # True Positive Rate on Y-axis\n",
    "         label='ROC Curve')\n",
    "\n",
    "# Plot baseline. (Perfect overlap between the two populations.)\n",
    "plt.plot(np.linspace(0, 1, 200),\n",
    "         np.linspace(0, 1, 200),\n",
    "         label='baseline',\n",
    "         linestyle='--')\n",
    "\n",
    "# Label axes.\n",
    "plt.title('Receiver Operating Characteristic Curve', fontsize=22)\n",
    "plt.ylabel('Sensitivity', fontsize=18)\n",
    "plt.xlabel('1 - Specificity', fontsize=18)\n",
    "\n",
    "# Create legend.\n",
    "plt.legend(fontsize=16);"
   ]
  },
  {
   "cell_type": "markdown",
   "metadata": {},
   "source": [
    "**INSTANTIATE MULTINOMIAL NAIVE BAYES MODEL AND CONTINUE EDA**"
   ]
  },
  {
   "cell_type": "code",
   "execution_count": 47,
   "metadata": {},
   "outputs": [],
   "source": [
    "model= MultinomialNB()"
   ]
  },
  {
   "cell_type": "code",
   "execution_count": 48,
   "metadata": {},
   "outputs": [
    {
     "data": {
      "text/plain": [
       "MultinomialNB(alpha=1.0, class_prior=None, fit_prior=True)"
      ]
     },
     "execution_count": 48,
     "metadata": {},
     "output_type": "execute_result"
    }
   ],
   "source": [
    "model.fit(X_train_cvec, y_train)"
   ]
  },
  {
   "cell_type": "code",
   "execution_count": 49,
   "metadata": {},
   "outputs": [],
   "source": [
    "pred_b=model.predict(X_test_cvec)"
   ]
  },
  {
   "cell_type": "code",
   "execution_count": 50,
   "metadata": {},
   "outputs": [
    {
     "data": {
      "text/plain": [
       "array([1, 0, 1, ..., 1, 1, 1], dtype=int64)"
      ]
     },
     "execution_count": 50,
     "metadata": {},
     "output_type": "execute_result"
    }
   ],
   "source": [
    "pred_b"
   ]
  },
  {
   "cell_type": "code",
   "execution_count": 51,
   "metadata": {},
   "outputs": [
    {
     "data": {
      "text/plain": [
       "0.9858118759852864"
      ]
     },
     "execution_count": 51,
     "metadata": {},
     "output_type": "execute_result"
    }
   ],
   "source": [
    "model.score(X_test_cvec,y_test)"
   ]
  },
  {
   "cell_type": "code",
   "execution_count": 52,
   "metadata": {},
   "outputs": [
    {
     "data": {
      "text/plain": [
       "array([[932,  20],\n",
       "       [  7, 944]], dtype=int64)"
      ]
     },
     "execution_count": 52,
     "metadata": {},
     "output_type": "execute_result"
    }
   ],
   "source": [
    "confusion_matrix(y_test, # True values.\n",
    "                 pred_b)  "
   ]
  },
  {
   "cell_type": "code",
   "execution_count": 53,
   "metadata": {},
   "outputs": [],
   "source": [
    "# Save TN/FP/FN/TP values.\n",
    "\n",
    "tn, fp, fn, tp = confusion_matrix(y_test, pred_b).ravel()\n",
    "\n",
    "# Note that .ravel() will arrange items in a one-dimensional array.\n",
    "# https://docs.scipy.org/doc/numpy/reference/generated/numpy.ravel.html"
   ]
  },
  {
   "cell_type": "code",
   "execution_count": 54,
   "metadata": {},
   "outputs": [
    {
     "name": "stdout",
     "output_type": "stream",
     "text": [
      "Specificity: 0.979\n"
     ]
    }
   ],
   "source": [
    "# What is the specificity of our test set?\n",
    "\n",
    "spec = tn / (tn + fp)\n",
    "\n",
    "print(f'Specificity: {round(spec,4)}')"
   ]
  },
  {
   "cell_type": "code",
   "execution_count": 55,
   "metadata": {},
   "outputs": [
    {
     "name": "stdout",
     "output_type": "stream",
     "text": [
      "Sensitivity: 0.9926\n"
     ]
    }
   ],
   "source": [
    "# What is the sensitivity of our test set?\n",
    "\n",
    "sens = tp / (tp + fn)\n",
    "\n",
    "print(f'Sensitivity: {round(sens,4)}')"
   ]
  },
  {
   "cell_type": "code",
   "execution_count": 56,
   "metadata": {},
   "outputs": [],
   "source": [
    "# Let's create a dataframe called pred_df that contains:\n",
    "# 1. The list of true values of our test set.\n",
    "# 2. The list of predicted probabilities based on our model.\n",
    "\n",
    "pred_proba = [i[1] for i in lr.predict_proba(X_test_cvec)]\n",
    "\n",
    "pred_df = pd.DataFrame({'true_values': y_test,\n",
    "                        'pred_probs':pred_proba})"
   ]
  },
  {
   "cell_type": "code",
   "execution_count": 57,
   "metadata": {},
   "outputs": [
    {
     "data": {
      "image/png": "[encoded data removed]",
      "text/plain": [
       "<Figure size 720x504 with 1 Axes>"
      ]
     },
     "metadata": {
      "needs_background": "light"
     },
     "output_type": "display_data"
    }
   ],
   "source": [
    "# Create figure.\n",
    "plt.figure(figsize = (10,7))\n",
    "\n",
    "# Create histogram of observations.\n",
    "plt.hist(pred_df['pred_probs'], bins=25)\n",
    "\n",
    "# Label axes.\n",
    "plt.title('Distribution of P(Outcome = 1)', fontsize=22)\n",
    "plt.ylabel('Frequency', fontsize=18)\n",
    "plt.xlabel('Predicted Probability that Outcome = 1', fontsize=18);"
   ]
  },
  {
   "cell_type": "code",
   "execution_count": 58,
   "metadata": {},
   "outputs": [
    {
     "data": {
      "image/png": "[encoded data removed]",
      "text/plain": [
       "<Figure size 720x504 with 1 Axes>"
      ]
     },
     "metadata": {
      "needs_background": "light"
     },
     "output_type": "display_data"
    }
   ],
   "source": [
    "# Create figure.\n",
    "plt.figure(figsize = (10,7))\n",
    "\n",
    "# Create two histograms of observations.\n",
    "plt.hist(pred_df[pred_df['true_values'] == 0]['pred_probs'],\n",
    "         bins=25,\n",
    "         color='b',\n",
    "         alpha = 0.6,\n",
    "         label='Outcome = 0')\n",
    "plt.hist(pred_df[pred_df['true_values'] == 1]['pred_probs'],\n",
    "         bins=25,\n",
    "         color='orange',\n",
    "         alpha = 0.6,\n",
    "         label='Outcome = 1')\n",
    "\n",
    "# Label axes.\n",
    "plt.title('Distribution of P(Outcome = 1)', fontsize=22)\n",
    "plt.ylabel('Frequency', fontsize=18)\n",
    "plt.xlabel('Predicted Probability that Outcome = 1', fontsize=18)\n",
    "\n",
    "# Create legend.\n",
    "plt.legend(fontsize=20);"
   ]
  },
  {
   "cell_type": "code",
   "execution_count": 59,
   "metadata": {},
   "outputs": [
    {
     "data": {
      "image/png": "[encoded data removed]",
      "text/plain": [
       "<Figure size 720x504 with 1 Axes>"
      ]
     },
     "metadata": {
      "needs_background": "light"
     },
     "output_type": "display_data"
    }
   ],
   "source": [
    "# Create figure.\n",
    "plt.figure(figsize = (10,7))\n",
    "\n",
    "# Create two histograms of observations.\n",
    "plt.hist(pred_df[pred_df['true_values'] == 0]['pred_probs'],\n",
    "         bins=25,\n",
    "         color='b',\n",
    "         alpha = 0.6,\n",
    "         label='Keto = 0')\n",
    "plt.hist(pred_df[pred_df['true_values'] == 1]['pred_probs'],\n",
    "         bins=25,\n",
    "         color='orange',\n",
    "         alpha = 0.6,\n",
    "         label='Wine = 1')\n",
    "\n",
    "# Add vertical line at P(Outcome = 1) = 0.5.\n",
    "plt.vlines(x=0.5,\n",
    "           ymin = 0,\n",
    "           ymax = 800,\n",
    "           color='r',\n",
    "           linestyle = '--')\n",
    "\n",
    "# Label axes.\n",
    "plt.title('Distribution of P(Outcome = 1)', fontsize=22)\n",
    "plt.ylabel('Frequency', fontsize=18)\n",
    "plt.xlabel('Predicted Probability that Outcome = 1', fontsize=18)\n",
    "\n",
    "# Create legend.\n",
    "plt.legend(fontsize=20);"
   ]
  },
  {
   "cell_type": "code",
   "execution_count": 60,
   "metadata": {},
   "outputs": [
    {
     "data": {
      "image/png": "[encoded data removed]",
      "text/plain": [
       "<Figure size 720x504 with 1 Axes>"
      ]
     },
     "metadata": {
      "needs_background": "light"
     },
     "output_type": "display_data"
    }
   ],
   "source": [
    "# Create figure.\n",
    "plt.figure(figsize = (10,7))\n",
    "\n",
    "# Create two histograms of observations.\n",
    "plt.hist(pred_df[pred_df['true_values'] == 0]['pred_probs'],\n",
    "         bins=25,\n",
    "         color='b',\n",
    "         alpha = 0.6,\n",
    "         label='Keto = 0')\n",
    "plt.hist(pred_df[pred_df['true_values'] == 1]['pred_probs'],\n",
    "         bins=25,\n",
    "         color='orange',\n",
    "         alpha = 0.6,\n",
    "         label='Wine = 1')\n",
    "\n",
    "# Add vertical line at P(Outcome = 1) = 0.1.\n",
    "plt.vlines(x=0.1,\n",
    "           ymin = 0,\n",
    "           ymax = 800,\n",
    "           color='r',\n",
    "           linestyle = '--')\n",
    "\n",
    "# Label axes.\n",
    "plt.title('Distribution of P(Outcome = 1)', fontsize=22)\n",
    "plt.ylabel('Frequency', fontsize=18)\n",
    "plt.xlabel('Predicted Probability that Outcome = 1', fontsize=18)\n",
    "\n",
    "# Create legend.\n",
    "plt.legend(fontsize=20);"
   ]
  },
  {
   "cell_type": "code",
   "execution_count": 61,
   "metadata": {},
   "outputs": [
    {
     "data": {
      "image/png": "[encoded data removed]",
      "text/plain": [
       "<Figure size 720x504 with 1 Axes>"
      ]
     },
     "metadata": {
      "needs_background": "light"
     },
     "output_type": "display_data"
    }
   ],
   "source": [
    "# Create figure.\n",
    "plt.figure(figsize = (10,7))\n",
    "\n",
    "# Create threshold values.\n",
    "thresholds = np.linspace(0, 1, 200)\n",
    "\n",
    "# Define function to calculate sensitivity. (True positive rate.)\n",
    "def TPR(df, true_col, pred_prob_col, threshold):\n",
    "    true_positive = df[(df[true_col] == 1) & (df[pred_prob_col] >= threshold)].shape[0]\n",
    "    false_negative = df[(df[true_col] == 1) & (df[pred_prob_col] < threshold)].shape[0]\n",
    "    return true_positive / (true_positive + false_negative)\n",
    "    \n",
    "\n",
    "# Define function to calculate 1 - specificity. (False positive rate.)\n",
    "def FPR(df, true_col, pred_prob_col, threshold):\n",
    "    true_negative = df[(df[true_col] == 0) & (df[pred_prob_col] <= threshold)].shape[0]\n",
    "    false_positive = df[(df[true_col] == 0) & (df[pred_prob_col] > threshold)].shape[0]\n",
    "    return 1 - (true_negative / (true_negative + false_positive))\n",
    "    \n",
    "# Calculate sensitivity & 1-specificity for each threshold between 0 and 1.\n",
    "tpr_values = [TPR(pred_df, 'true_values', 'pred_probs', prob) for prob in thresholds]\n",
    "fpr_values = [FPR(pred_df, 'true_values', 'pred_probs', prob) for prob in thresholds]\n",
    "\n",
    "# Plot ROC curve.\n",
    "plt.plot(fpr_values, # False Positive Rate on X-axis\n",
    "         tpr_values, # True Positive Rate on Y-axis\n",
    "         label='ROC Curve')\n",
    "\n",
    "# Plot baseline. (Perfect overlap between the two populations.)\n",
    "plt.plot(np.linspace(0, 1, 200),\n",
    "         np.linspace(0, 1, 200),\n",
    "         label='baseline',\n",
    "         linestyle='--')\n",
    "\n",
    "# Label axes.\n",
    "plt.title('Receiver Operating Characteristic Curve', fontsize=22)\n",
    "plt.ylabel('Sensitivity', fontsize=18)\n",
    "plt.xlabel('1 - Specificity', fontsize=18)\n",
    "\n",
    "# Create legend.\n",
    "plt.legend(fontsize=16);"
   ]
  },
  {
   "cell_type": "code",
   "execution_count": 62,
   "metadata": {},
   "outputs": [],
   "source": [
    "from sklearn.metrics import roc_auc_score"
   ]
  },
  {
   "cell_type": "code",
   "execution_count": 63,
   "metadata": {},
   "outputs": [
    {
     "data": {
      "text/plain": [
       "0.9984900900423261"
      ]
     },
     "execution_count": 63,
     "metadata": {},
     "output_type": "execute_result"
    }
   ],
   "source": [
    "roc_auc_score(pred_df['true_values'], pred_df['pred_probs'])"
   ]
  },
  {
   "cell_type": "code",
   "execution_count": 64,
   "metadata": {
    "scrolled": true
   },
   "outputs": [
    {
     "data": {
      "image/png": "[encoded data removed]",
      "text/plain": [
       "<Figure size 720x504 with 1 Axes>"
      ]
     },
     "metadata": {
      "needs_background": "light"
     },
     "output_type": "display_data"
    }
   ],
   "source": [
    "# Create figure.\n",
    "plt.figure(figsize = (10,7))\n",
    "\n",
    "# Create threshold values.\n",
    "thresholds = np.linspace(0, 1, 200)\n",
    "\n",
    "# Define function to calculate sensitivity. (True positive rate.)\n",
    "def TPR(df, true_col, pred_prob_col, threshold):\n",
    "    true_positive = df[(df[true_col] == 1) & (df[pred_prob_col] >= threshold)].shape[0]\n",
    "    false_negative = df[(df[true_col] == 1) & (df[pred_prob_col] < threshold)].shape[0]\n",
    "    return true_positive / (true_positive + false_negative)\n",
    "    \n",
    "\n",
    "# Define function to calculate 1 - specificity. (False positive rate.)\n",
    "def FPR(df, true_col, pred_prob_col, threshold):\n",
    "    true_negative = df[(df[true_col] == 0) & (df[pred_prob_col] <= threshold)].shape[0]\n",
    "    false_positive = df[(df[true_col] == 0) & (df[pred_prob_col] > threshold)].shape[0]\n",
    "    return 1 - (true_negative / (true_negative + false_positive))\n",
    "    \n",
    "# Calculate sensitivity & 1-specificity for each threshold between 0 and 1.\n",
    "tpr_values = [TPR(pred_df, 'true_values', 'pred_probs', prob) for prob in thresholds]\n",
    "fpr_values = [FPR(pred_df, 'true_values', 'pred_probs', prob) for prob in thresholds]\n",
    "\n",
    "# Plot ROC curve.\n",
    "plt.plot(fpr_values, # False Positive Rate on X-axis\n",
    "         tpr_values, # True Positive Rate on Y-axis\n",
    "         label='ROC Curve')\n",
    "\n",
    "# Plot baseline. (Perfect overlap between the two populations.)\n",
    "plt.plot(np.linspace(0, 1, 200),\n",
    "         np.linspace(0, 1, 200),\n",
    "         label='baseline',\n",
    "         linestyle='--')\n",
    "\n",
    "# Label axes.\n",
    "plt.title('Receiver Operating Characteristic Curve', fontsize=22)\n",
    "plt.ylabel('Sensitivity', fontsize=18)\n",
    "plt.xlabel('1 - Specificity', fontsize=18)\n",
    "\n",
    "# Create legend.\n",
    "plt.legend(fontsize=16);"
   ]
  }
 ],
 "metadata": {
  "kernelspec": {
   "display_name": "Python 3",
   "language": "python",
   "name": "python3"
  },
  "language_info": {
   "codemirror_mode": {
    "name": "ipython",
    "version": 3
   },
   "file_extension": ".py",
   "mimetype": "text/x-python",
   "name": "python",
   "nbconvert_exporter": "python",
   "pygments_lexer": "ipython3",
   "version": "3.7.4"
  }
 },
 "nbformat": 4,
 "nbformat_minor": 2
}
